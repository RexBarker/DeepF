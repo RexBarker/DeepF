{
 "cells": [
  {
   "cell_type": "markdown",
   "metadata": {},
   "source": [
    "---\n",
    "\n",
    "# Resample data to achieve more consistent training series\n",
    "- assuming that data has been organized into folders as ./base/xxxxx_class/imgxxx.jpg\n",
    "---"
   ]
  },
  {
   "cell_type": "code",
   "execution_count": 5,
   "metadata": {},
   "outputs": [],
   "source": [
    "import os\n",
    "import sys\n",
    "import pandas as pd\n",
    "from sklearn.model_selection import train_test_split\n",
    "from sklearn.utils import resample\n",
    "import matplotlib.pyplot as plt\n",
    "import shutil as sh"
   ]
  },
  {
   "cell_type": "code",
   "execution_count": 6,
   "metadata": {},
   "outputs": [],
   "source": [
    "def mean(vec):\n",
    "    return sum(vec)/len(vec) if len(vec) != 0 else None"
   ]
  },
  {
   "cell_type": "code",
   "execution_count": 7,
   "metadata": {},
   "outputs": [
    {
     "data": {
      "text/plain": [
       "\"def resample(X, y, sample_type=None, sample_size=None, class_weights=None, seed=None):\\n\\n    # Nothing to do if sample_type is 'abs' or not set.  sample_size should then be int\\n    # If sample type is 'min' or 'max' then sample_size should be float\\n    if sample_type == 'min':\\n        sample_size_ = np.round(sample_size * y.value_counts().min()).astype(int)\\n    elif sample_type == 'max':\\n        sample_size_ = np.round(sample_size * y.value_counts().max()).astype(int)\\n    else:\\n        sample_size_ = max(int(sample_size), 1)\\n\\n    if seed is not None:\\n        np.random.seed(seed)\\n\\n    if class_weights is None:\\n        class_weights = dict()\\n\\n    X_resampled = pd.DataFrame()\\n\\n    for yi in y.unique():\\n        size = np.round(sample_size_ * class_weights.get(yi, 1.)).astype(int)\\n\\n        X_yi = X[y == yi]\\n        sample_index = np.random.choice(X_yi.index, size=size)\\n        X_resampled = X_resampled.append(X_yi.reindex(sample_index))\\n\\n    return X_resampled\\n\""
      ]
     },
     "execution_count": 7,
     "metadata": {},
     "output_type": "execute_result"
    }
   ],
   "source": [
    "\"\"\"def resample(X, y, sample_type=None, sample_size=None, class_weights=None, seed=None):\n",
    "\n",
    "    # Nothing to do if sample_type is 'abs' or not set.  sample_size should then be int\n",
    "    # If sample type is 'min' or 'max' then sample_size should be float\n",
    "    if sample_type == 'min':\n",
    "        sample_size_ = np.round(sample_size * y.value_counts().min()).astype(int)\n",
    "    elif sample_type == 'max':\n",
    "        sample_size_ = np.round(sample_size * y.value_counts().max()).astype(int)\n",
    "    else:\n",
    "        sample_size_ = max(int(sample_size), 1)\n",
    "\n",
    "    if seed is not None:\n",
    "        np.random.seed(seed)\n",
    "\n",
    "    if class_weights is None:\n",
    "        class_weights = dict()\n",
    "\n",
    "    X_resampled = pd.DataFrame()\n",
    "\n",
    "    for yi in y.unique():\n",
    "        size = np.round(sample_size_ * class_weights.get(yi, 1.)).astype(int)\n",
    "\n",
    "        X_yi = X[y == yi]\n",
    "        sample_index = np.random.choice(X_yi.index, size=size)\n",
    "        X_resampled = X_resampled.append(X_yi.reindex(sample_index))\n",
    "\n",
    "    return X_resampled\n",
    "\"\"\""
   ]
  },
  {
   "cell_type": "markdown",
   "metadata": {},
   "source": [
    "---"
   ]
  },
  {
   "cell_type": "code",
   "execution_count": 8,
   "metadata": {},
   "outputs": [],
   "source": [
    "sourceDir = '../dataCropSQ/Img/'\n",
    "trainTargetDir = '../fdata_CropSQRS/train'\n",
    "testTargetDir = '../fdata_CropSQRS/test'\n",
    "#sourceDir = '/Volumes/SanDiskSSD/BFH_backup/CAS_PML/Project/DeepFashion/dataCropSQ/Img/'\n",
    "#trainTargetDir = '/Volumes/SanDiskSSD/BFH_backup/CAS_PML/Project/DeepFashion/fdata_CropSQRS/train'\n",
    "#testTargetDir = '/Volumes/SanDiskSSD/BFH_backup/CAS_PML/Project/DeepFashion/fdata_CropSQRS/test'"
   ]
  },
  {
   "cell_type": "code",
   "execution_count": 9,
   "metadata": {},
   "outputs": [],
   "source": [
    "with open('../data/Anno/list_category_cloth.txt','r') as fp:\n",
    "    lines = [ l.rstrip().replace('1','upper') \\\n",
    "                        .replace('2','lower') \\\n",
    "                        .replace('3','full').split() for l in fp][2:]  \n",
    "    mainCatagories = { l[0]:l[1] for l in lines}"
   ]
  },
  {
   "cell_type": "code",
   "execution_count": 10,
   "metadata": {},
   "outputs": [],
   "source": [
    "classDict = {}\n",
    "for d,_,files in os.walk(sourceDir,topdown=False):\n",
    "    cl_name = d.split('_')[-1]\n",
    "    if mainCatagories.get(cl_name) is None: continue\n",
    "    if classDict.get(cl_name) is None: classDict[cl_name] = []\n",
    "    classDict[cl_name].extend([ d + '/' + f for f in files \\\n",
    "                                   if not f.startswith('.') or not f.endswith('.jpg') ])\n",
    "\n",
    "# clean out some old classes which were ignored\n",
    "bunkKeys = []\n",
    "for cl_name in mainCatagories.keys():\n",
    "    if classDict.get(cl_name) is None: bunkKeys.append(cl_name)\n",
    "        \n",
    "# can't do it in one step, because you're modifing the object you're working on\n",
    "for b in bunkKeys:\n",
    "    mainCatagories.pop(b,None)"
   ]
  },
  {
   "cell_type": "code",
   "execution_count": 11,
   "metadata": {},
   "outputs": [
    {
     "name": "stdout",
     "output_type": "stream",
     "text": [
      "Total image files 288474\n",
      "UpperClass: 139375\n",
      "LowerClass: 58612\n",
      "FullClass: 90487\n"
     ]
    }
   ],
   "source": [
    "classCount = { k:len(v) for k,v in classDict.items()}\n",
    "print('Total image files',sum([v for v in classCount.values()]))\n",
    "print('UpperClass:',sum([classCount[cl] for cl,ca in mainCatagories.items() if ca == 'upper' ]))\n",
    "print('LowerClass:',sum([classCount[cl] for cl,ca in mainCatagories.items() if ca == 'lower' ]))\n",
    "print('FullClass:',sum([classCount[cl] for cl,ca in mainCatagories.items() if ca == 'full' ]))"
   ]
  },
  {
   "cell_type": "code",
   "execution_count": 12,
   "metadata": {},
   "outputs": [
    {
     "data": {
      "image/png": "[encoded data removed]",
      "text/plain": [
       "<Figure size 1080x360 with 1 Axes>"
      ]
     },
     "metadata": {
      "needs_background": "light"
     },
     "output_type": "display_data"
    }
   ],
   "source": [
    "names = sorted(classCount.items(),key=lambda kv: kv[1])\n",
    "namesSorted = [ v[0] for v in names]\n",
    "valuesSorted = [ v[1] for v in names]\n",
    "labelsSorted = [ mainCatagories[n] for n in namesSorted]\n",
    "colorSorted = []\n",
    "for n in namesSorted:\n",
    "    color =      'red'  if mainCatagories[n] == 'upper' \\\n",
    "            else 'blue' if mainCatagories[n] == 'lower' \\\n",
    "            else 'green'\n",
    "    colorSorted.append(color)\n",
    "\n",
    "plt.figure(figsize=(15,5))\n",
    "plt.bar(range(len(valuesSorted)),valuesSorted,color=colorSorted)\n",
    "plt.xticks(range(len(valuesSorted)),namesSorted,rotation='vertical')\n",
    "plt.title('Class distribution of dataset',fontsize=16)\n",
    "plt.show()"
   ]
  },
  {
   "cell_type": "code",
   "execution_count": 13,
   "metadata": {},
   "outputs": [],
   "source": [
    "def plotClassCount(clCountDict,title='',color='blue'):\n",
    "    names = sorted(clCountDict.items(),key=lambda kv: kv[1])\n",
    "    namesSorted = [ v[0] for v in names]\n",
    "    valuesSorted = [ v[1] for v in names]\n",
    "    plt.bar(range(len(valuesSorted)),valuesSorted,color=color)\n",
    "    plt.xticks(range(len(valuesSorted)),namesSorted,rotation='vertical')\n",
    "    plt.title(title,fontsize=16)\n",
    "    plt.show()\n",
    "    \n",
    "def summarizeClassCount(clCountDict):\n",
    "    print(' min=',min(clCountDict.values()))\n",
    "    print(' avg=',mean(clCountDict.values()))\n",
    "    print(' max=',max(clCountDict.values()))"
   ]
  },
  {
   "cell_type": "code",
   "execution_count": 14,
   "metadata": {},
   "outputs": [],
   "source": [
    "catagories = ['upper','lower','full']\n",
    "ctClDict = { ct:{ k:v for k,v in classDict.items() if mainCatagories[k] == ct} for ct in catagories }\n",
    "ctClCount = { ct:{ k:len(v) for k,v in ctClDict[ct].items()} for ct in catagories }"
   ]
  },
  {
   "cell_type": "code",
   "execution_count": 15,
   "metadata": {},
   "outputs": [
    {
     "name": "stdout",
     "output_type": "stream",
     "text": [
      "Summary:  Upper Class\n",
      " min= 17\n",
      " avg= 6968.75\n",
      " max= 36760\n"
     ]
    }
   ],
   "source": [
    "print('Summary:  Upper Class')\n",
    "summarizeClassCount(ctClCount['upper'])"
   ]
  },
  {
   "cell_type": "code",
   "execution_count": 16,
   "metadata": {},
   "outputs": [
    {
     "data": {
      "image/png": "[encoded data removed]",
      "text/plain": [
       "<Figure size 432x288 with 1 Axes>"
      ]
     },
     "metadata": {
      "needs_background": "light"
     },
     "output_type": "display_data"
    }
   ],
   "source": [
    "plotClassCount(ctClCount['upper'],title='Upper Class distribution',color='red')"
   ]
  },
  {
   "cell_type": "code",
   "execution_count": 17,
   "metadata": {},
   "outputs": [
    {
     "name": "stdout",
     "output_type": "stream",
     "text": [
      "Summary:  Lower Class\n",
      " min= 31\n",
      " avg= 3663.25\n",
      " max= 19514\n"
     ]
    }
   ],
   "source": [
    "print('Summary:  Lower Class')\n",
    "summarizeClassCount(ctClCount['lower'])"
   ]
  },
  {
   "cell_type": "code",
   "execution_count": 18,
   "metadata": {},
   "outputs": [
    {
     "data": {
      "image/png": "[encoded data removed]",
      "text/plain": [
       "<Figure size 432x288 with 1 Axes>"
      ]
     },
     "metadata": {
      "needs_background": "light"
     },
     "output_type": "display_data"
    }
   ],
   "source": [
    "plotClassCount(ctClCount['lower'],title='Lower class distribution',color='blue')"
   ]
  },
  {
   "cell_type": "code",
   "execution_count": 19,
   "metadata": {},
   "outputs": [
    {
     "data": {
      "text/plain": [
       "3037"
      ]
     },
     "execution_count": 19,
     "metadata": {},
     "output_type": "execute_result"
    }
   ],
   "source": [
    "ctClCount['lower']['Sweatpants']"
   ]
  },
  {
   "cell_type": "code",
   "execution_count": 20,
   "metadata": {},
   "outputs": [
    {
     "name": "stdout",
     "output_type": "stream",
     "text": [
      "Summary: Full Class\n",
      " min= 17\n",
      " avg= 9048.7\n",
      " max= 72109\n"
     ]
    }
   ],
   "source": [
    "print('Summary: Full Class')\n",
    "summarizeClassCount(ctClCount['full'])"
   ]
  },
  {
   "cell_type": "code",
   "execution_count": 21,
   "metadata": {},
   "outputs": [
    {
     "data": {
      "image/png": "[encoded data removed]",
      "text/plain": [
       "<Figure size 432x288 with 1 Axes>"
      ]
     },
     "metadata": {
      "needs_background": "light"
     },
     "output_type": "display_data"
    }
   ],
   "source": [
    "plotClassCount(ctClCount['full'],title='Full class distribution',color='green')"
   ]
  },
  {
   "cell_type": "code",
   "execution_count": 22,
   "metadata": {},
   "outputs": [
    {
     "name": "stdout",
     "output_type": "stream",
     "text": [
      "Robe= 150\n",
      "Coat= 2116\n"
     ]
    }
   ],
   "source": [
    "print('Robe=',ctClCount['full']['Robe'])\n",
    "print('Coat=',ctClCount['full']['Coat'])"
   ]
  },
  {
   "cell_type": "code",
   "execution_count": 23,
   "metadata": {},
   "outputs": [],
   "source": [
    "threshhold = 2000\n",
    "selectedClasses = {ct:[k for k,v in ctClCount[ct].items() if v >= threshhold] for ct in catagories}\n"
   ]
  },
  {
   "cell_type": "code",
   "execution_count": 24,
   "metadata": {},
   "outputs": [
    {
     "data": {
      "text/plain": [
       "{'upper': ['Sweater',\n",
       "  'Jacket',\n",
       "  'Blouse',\n",
       "  'Hoodie',\n",
       "  'Tank',\n",
       "  'Top',\n",
       "  'Tee',\n",
       "  'Cardigan',\n",
       "  'Blazer'],\n",
       " 'lower': ['Leggings', 'Skirt', 'Sweatpants', 'Shorts', 'Joggers', 'Jeans'],\n",
       " 'full': ['Dress', 'Kimono', 'Romper', 'Jumpsuit', 'Coat']}"
      ]
     },
     "execution_count": 24,
     "metadata": {},
     "output_type": "execute_result"
    }
   ],
   "source": [
    "selectedClasses"
   ]
  },
  {
   "cell_type": "code",
   "execution_count": 25,
   "metadata": {},
   "outputs": [],
   "source": [
    "testSplit = 0.15\n",
    "trainClDict = {}\n",
    "testClDict = {}\n",
    "for ct,cls in selectedClasses.items():\n",
    "    trainClDict[ct] = {}\n",
    "    testClDict[ct] = {}\n",
    "    for cl in cls:\n",
    "        trainClDict[ct][cl], testClDict[ct][cl] = train_test_split(ctClDict[ct][cl],test_size = testSplit)"
   ]
  },
  {
   "cell_type": "code",
   "execution_count": 26,
   "metadata": {},
   "outputs": [
    {
     "name": "stdout",
     "output_type": "stream",
     "text": [
      "train[Hoodie]= 3438\n",
      " test[Hoodie]= 607\n",
      " percentage Check= 0.1765561372891216\n"
     ]
    }
   ],
   "source": [
    "print('train[Hoodie]=',len(trainClDict['upper']['Hoodie']))\n",
    "print(' test[Hoodie]=',len(testClDict['upper']['Hoodie']))\n",
    "print(' percentage Check=',len(testClDict['upper']['Hoodie'])/len(trainClDict['upper']['Hoodie']))"
   ]
  },
  {
   "cell_type": "code",
   "execution_count": 27,
   "metadata": {},
   "outputs": [],
   "source": [
    "trainClDictRS = {}\n",
    "testClDictRS = {}\n",
    "nsamples = 5000\n",
    "nsamples_t = int(nsamples*testSplit)\n",
    "\n",
    "for ct in trainClDict.keys():\n",
    "    trainClDictRS[ct] = {}\n",
    "    testClDictRS[ct] = {}\n",
    "    for cl in trainClDict[ct].keys():\n",
    "        useReplace_train = not len(trainClDict[ct][cl]) > nsamples\n",
    "        useReplace_test = not len(testClDict[ct][cl]) > nsamples_t\n",
    "        trainClDictRS[ct][cl] = resample(trainClDict[ct][cl],n_samples=nsamples,replace=useReplace_train)\n",
    "        testClDictRS[ct][cl] = resample(testClDict[ct][cl],n_samples=nsamples_t,replace=useReplace_test)"
   ]
  },
  {
   "cell_type": "code",
   "execution_count": 28,
   "metadata": {},
   "outputs": [
    {
     "data": {
      "text/plain": [
       "5000"
      ]
     },
     "execution_count": 28,
     "metadata": {},
     "output_type": "execute_result"
    }
   ],
   "source": [
    "len(trainClDictRS['upper']['Hoodie'])"
   ]
  },
  {
   "cell_type": "code",
   "execution_count": 29,
   "metadata": {},
   "outputs": [
    {
     "data": {
      "text/plain": [
       "750"
      ]
     },
     "execution_count": 29,
     "metadata": {},
     "output_type": "execute_result"
    }
   ],
   "source": [
    "len(testClDictRS['upper']['Hoodie'])"
   ]
  },
  {
   "cell_type": "code",
   "execution_count": 30,
   "metadata": {},
   "outputs": [
    {
     "data": {
      "image/png": "[encoded data removed]",
      "text/plain": [
       "<Figure size 432x288 with 1 Axes>"
      ]
     },
     "metadata": {
      "needs_background": "light"
     },
     "output_type": "display_data"
    }
   ],
   "source": [
    "plt.bar(range(len(list(trainClDictRS['upper'].keys()))),[len(v) for k,v in trainClDictRS['upper'].items()])\n",
    "plt.xticks(range(len(list(trainClDictRS['upper'].keys()))), trainClDictRS['upper'].keys(),rotation='vertical')\n",
    "plt.show()"
   ]
  },
  {
   "cell_type": "markdown",
   "metadata": {},
   "source": [
    "---\n",
    "# Copy files to new training directory\n",
    "- resampling of redundant files will be handled by the augmenter\n",
    "---"
   ]
  },
  {
   "cell_type": "code",
   "execution_count": 31,
   "metadata": {},
   "outputs": [],
   "source": [
    "def copyAndRenameFile(sourceFile,classTargetDir):\n",
    "    # if file exists, renames the file to unique name\n",
    "    labelDir,imgFileOrig = sourceFile.split('/')[-2:]\n",
    "    fullTargetDir = os.path.join(classTargetDir,labelDir)\n",
    "    if not os.path.exists(fullTargetDir): os.mkdir(fullTargetDir)\n",
    "        \n",
    "    ind = 0\n",
    "    imgFile = imgFileOrig\n",
    "    #print(imgFile)\n",
    "    while os.path.exists(os.path.join(fullTargetDir,imgFile)):\n",
    "        name,ext = imgFileOrig.split('.')\n",
    "        imgFile = name + f\"R{ind:03d}.\" + ext\n",
    "        ind += 1\n",
    "    \n",
    "    sh.copy(sourceFile,fullTargetDir + '/' + imgFile)"
   ]
  },
  {
   "cell_type": "code",
   "execution_count": 32,
   "metadata": {},
   "outputs": [
    {
     "name": "stdout",
     "output_type": "stream",
     "text": [
      "sourceDir= ../dataCropSQ/Img/\n",
      "trainTargetDir= ../fdata_CropSQRS/train\n",
      "testTargetDir= ../fdata_CropSQRS/test\n"
     ]
    }
   ],
   "source": [
    "print('sourceDir=',sourceDir)\n",
    "assert os.path.exists(sourceDir),'Failed to find sourceDir'\n",
    "print('trainTargetDir=',trainTargetDir)\n",
    "assert os.path.exists(trainTargetDir),'Failed to find trainTargetDir'\n",
    "print('testTargetDir=',testTargetDir)\n",
    "assert os.path.exists(testTargetDir),'Failed to find testTargetDir'"
   ]
  },
  {
   "cell_type": "code",
   "execution_count": 33,
   "metadata": {},
   "outputs": [],
   "source": [
    "for ct,cls in trainClDictRS.items():\n",
    "    ctDir = os.path.join(trainTargetDir,ct)\n",
    "    if not os.path.exists(ctDir): os.mkdir(ctDir)\n",
    "    for cl,files in cls.items():\n",
    "        clDir = os.path.join(ctDir,cl)\n",
    "        if not os.path.exists(clDir): os.mkdir(clDir)\n",
    "        for f in files:\n",
    "            copyAndRenameFile(f,clDir)\n",
    "\n",
    "for ct,cls in testClDictRS.items():\n",
    "    ctDir = os.path.join(testTargetDir,ct)\n",
    "    if not os.path.exists(ctDir): os.mkdir(ctDir)\n",
    "    for cl,files in cls.items():\n",
    "        clDir = os.path.join(ctDir,cl)\n",
    "        if not os.path.exists(clDir): os.mkdir(clDir)\n",
    "        for f in files:\n",
    "            copyAndRenameFile(f,clDir)          "
   ]
  },
  {
   "cell_type": "code",
   "execution_count": null,
   "metadata": {},
   "outputs": [],
   "source": []
  }
 ],
 "metadata": {
  "kernelspec": {
   "display_name": "DeepF-g",
   "language": "python",
   "name": "deepf-g"
  },
  "language_info": {
   "codemirror_mode": {
    "name": "ipython",
    "version": 3
   },
   "file_extension": ".py",
   "mimetype": "text/x-python",
   "name": "python",
   "nbconvert_exporter": "python",
   "pygments_lexer": "ipython3",
   "version": "3.6.8"
  }
 },
 "nbformat": 4,
 "nbformat_minor": 2
}
