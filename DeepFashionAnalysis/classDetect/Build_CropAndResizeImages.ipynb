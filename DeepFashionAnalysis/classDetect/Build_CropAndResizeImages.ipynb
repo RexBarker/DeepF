{
 "cells": [
  {
   "cell_type": "markdown",
   "metadata": {},
   "source": [
    "---\n",
    "# Crop, Resize, and Seperate Classes\n",
    "\n",
    "- Reads original image + bbox\n",
    "- Crops to bbox\n",
    "- resizes to \n",
    "---"
   ]
  },
  {
   "cell_type": "code",
   "execution_count": 24,
   "metadata": {},
   "outputs": [],
   "source": [
    "import os\n",
    "import imutils\n",
    "import cv2\n",
    "import matplotlib.pyplot as plt\n",
    "import matplotlib.patches as patches\n",
    "from PIL import Image"
   ]
  },
  {
   "cell_type": "markdown",
   "metadata": {},
   "source": [
    "**Create Preprecessor for images**"
   ]
  },
  {
   "cell_type": "code",
   "execution_count": 6,
   "metadata": {},
   "outputs": [],
   "source": [
    "# Pyimage search DL4CV, \"Practioners Bundle\", chapter 2\n",
    "class AspectAwarePreprocessor:\n",
    "    def __init__(self, width, height, inter=cv2.INTER_AREA):\n",
    "        # store the target image width, height, and interpolation\n",
    "        # method used when resizing\n",
    "        self.width = width\n",
    "        self.height = height\n",
    "        self.inter = inter\n",
    "        \n",
    "    def pad_to_square(self,image):\n",
    "        (w,h) = image.shape[:2]\n",
    "        w_pad = (h-w)// 2 if h > w else 0\n",
    "        h_pad = (w-h)// 2 if w > h else 0\n",
    "        imagePad = cv2.copyMakeBorder(image,w_pad,w_pad,h_pad,h_pad,cv2.BORDER_CONSTANT,value=[0,0,0])\n",
    "        #print(f\"Image height={h}\\nImage widt={w}\")\n",
    "        #print(f\"This is crop width={w_pad}\\nThis is crop height={h_pad}\")\n",
    "        return imagePad\n",
    "    \n",
    "    def crop_to_square(self,image,bbox):\n",
    "        w,h = image.shape[:2]\n",
    "        wBB,hBB = bbox[2]-bbox[0],bbox[3]-bbox[1]\n",
    "        dW = (hBB-wBB) // 2 if hBB > wBB else 0\n",
    "        dH = (wBB-hBB) // 2 if wBB > hBB else 0\n",
    "        cropBB = [max(bbox[0]-dW,0),\n",
    "                  max(bbox[1]-dH,0),\n",
    "                  min(bbox[2]+dW,w),\n",
    "                  min(bbox[3]+dH,h)]\n",
    "        imgCrop = image[cropBB[1]:cropBB[3],cropBB[0]:cropBB[2],:]\n",
    "        return imgCrop\n",
    "        \n",
    "\n",
    "    def preprocess(self, image,bbox=None,pad_to_square=False,crop_to_square=False):\n",
    "        if bbox is not None:\n",
    "            assert type(bbox) is tuple or \\\n",
    "                   type(bbox) is list  and \\\n",
    "                   len(bbox) == 4, \\\n",
    "                    \"Invalid object supplied for bbox. Should be 4-tpl\"\n",
    "        if pad_to_square: image = self.pad_to_square(image)\n",
    "        if crop_to_square: image = self.crop_to_square(image,bbox)\n",
    "        # grab the dimensions of the image and then initialize\n",
    "        # the deltas to use when cropping\n",
    "        (h, w) = image.shape[:2]\n",
    "        dW = 0\n",
    "        dH = 0\n",
    "\n",
    "        # if the width is smaller than the height, then resize\n",
    "        # along the width (i.e., the smaller dimension) and then\n",
    "        # update the deltas to crop the height to the desired\n",
    "        # dimension\n",
    "        if w < h:\n",
    "            image = imutils.resize(image, width=self.width,\n",
    "                inter=self.inter)\n",
    "            dH = int((image.shape[0] - self.height) / 2.0)\n",
    "\n",
    "        # otherwise, the height is smaller than the width so\n",
    "        # resize along the height and then update the deltas\n",
    "        # crop along the width\n",
    "        else:\n",
    "            image = imutils.resize(image, height=self.height,\n",
    "                inter=self.inter)\n",
    "            dW = int((image.shape[1] - self.width) / 2.0)\n",
    "\n",
    "        # now that our images have been resized, we need to\n",
    "        # re-grab the width and height, followed by performing\n",
    "        # the crop\n",
    "        (h, w) = image.shape[:2]\n",
    "        image = image[dH:h - dH, dW:w - dW]\n",
    "\n",
    "        # finally, resize the image to the provided spatial\n",
    "        # dimensions to ensure our output image is always a fixed\n",
    "        # size\n",
    "        return cv2.resize(image, (self.width, self.height),\n",
    "            interpolation=self.inter)"
   ]
  },
  {
   "cell_type": "markdown",
   "metadata": {},
   "source": [
    "---"
   ]
  },
  {
   "cell_type": "markdown",
   "metadata": {},
   "source": [
    "Build data structures"
   ]
  },
  {
   "cell_type": "code",
   "execution_count": 7,
   "metadata": {},
   "outputs": [],
   "source": [
    "with open('../data/Anno/list_eval_partition.txt','r') as fp:\n",
    "    trainPartition = [ l.rstrip('\\n') for l in fp ][2:]\n",
    "    trainPartition = [ l.split()[0] for l in trainPartition \\\n",
    "                      if l.split()[1] == 'train' or \\\n",
    "                         l.split()[1] == 'test']\n",
    "                      #if l.split()[1] == 'val']"
   ]
  },
  {
   "cell_type": "code",
   "execution_count": 8,
   "metadata": {},
   "outputs": [],
   "source": [
    "with open('../data/Anno/list_category_cloth.txt','r') as fp:\n",
    "    lines = [ l.rstrip().replace('1','upper') \\\n",
    "                        .replace('2','lower') \\\n",
    "                        .replace('3','full').split() for l in fp][2:]  \n",
    "    mainCatagories = { l[0]:l[1] for l in lines}"
   ]
  },
  {
   "cell_type": "code",
   "execution_count": 9,
   "metadata": {},
   "outputs": [],
   "source": [
    "with open('../data/Anno/list_bbox.txt','r') as fp:\n",
    "    lines = [l.rstrip('\\n').split() for l in fp][2:]\n",
    "    bbox_dict = { l[0]: [int(l[1]),int(l[2]),int(l[3]),int(l[4]) ] for l in lines}"
   ]
  },
  {
   "cell_type": "markdown",
   "metadata": {},
   "source": [
    "Create directory structures"
   ]
  },
  {
   "cell_type": "code",
   "execution_count": 21,
   "metadata": {},
   "outputs": [],
   "source": [
    "sourceDir = '../data/Img/'\n",
    "targetDir = '../dataCropSQ/Img/'\n",
    "targetAnnoDir = '../dataCropSQ/Anno/'"
   ]
  },
  {
   "cell_type": "code",
   "execution_count": 19,
   "metadata": {},
   "outputs": [],
   "source": [
    "# create directories \n",
    "#dirSet = { l.split('/')[1] for l in bbox_dict.keys()}\n",
    "#for d in dirSet:\n",
    "#    targetPath = os.path.join(targetDir,d)\n",
    "#    if not os.path.exists(targetPath): os.mkdir(targetPath)\n",
    "#    #break\n",
    "\n"
   ]
  },
  {
   "cell_type": "code",
   "execution_count": 25,
   "metadata": {},
   "outputs": [],
   "source": [
    "# create folders with all files\n",
    "pp = AspectAwarePreprocessor(200,200)\n",
    "trainImgList = []"
   ]
  },
  {
   "cell_type": "code",
   "execution_count": 29,
   "metadata": {},
   "outputs": [],
   "source": [
    "for sImgKey in trainPartition:\n",
    "    sourceImgPath = sImgKey.replace('img/',sourceDir)\n",
    "    targetImgPath = sImgKey.replace('img/',targetDir)\n",
    "    tDir = os.path.dirname(targetImgPath)\n",
    "    if not os.path.exists(tDir): os.mkdir(tDir)\n",
    "    sImg = plt.imread(sourceImgPath)\n",
    "    tImg = pp.preprocess(sImg,bbox=bbox_dict[sImgKey],crop_to_square=True)\n",
    "    try: \n",
    "        plt.imsave(targetImgPath,tImg)\n",
    "    except:\n",
    "        print(f\"failed on img={sImgKey}, skipping..\")\n",
    "        continue\n",
    "    trainImgList.append(sImgKey)  # only save image if was success\n",
    "    \n",
    "    break"
   ]
  },
  {
   "cell_type": "code",
   "execution_count": null,
   "metadata": {},
   "outputs": [],
   "source": [
    "for cl_main in ['upper','lower','full']:\n",
    "    with open(os.path.join(targetAnnoDir,cl_main + '_train_list.csv','w') as fp:\n",
    "        fp.write('x_col, y_col\\n')\n",
    "        for imgk in trainImgList:\n",
    "            cl_class = imgk.split('/')[1].split('_')[-1]\n",
    "            if not mainCatagories[cl_class] == cl_main: continue\n",
    "            arg1 = imgk.replace('img/',targetDir)\n",
    "            arg2 = cl_class\n",
    "            fp.write(arg1 + ',' + arg2 + ','+ arg3 + '\\n')"
   ]
  }
 ],
 "metadata": {
  "kernelspec": {
   "display_name": "DeepF-kernel",
   "language": "python",
   "name": "myenv"
  },
  "language_info": {
   "codemirror_mode": {
    "name": "ipython",
    "version": 3
   },
   "file_extension": ".py",
   "mimetype": "text/x-python",
   "name": "python",
   "nbconvert_exporter": "python",
   "pygments_lexer": "ipython3",
   "version": "3.6.7"
  }
 },
 "nbformat": 4,
 "nbformat_minor": 2
}
