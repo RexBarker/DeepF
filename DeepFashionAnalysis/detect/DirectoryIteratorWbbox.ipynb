{
 "cells": [
  {
   "cell_type": "markdown",
   "metadata": {},
   "source": [
    "## Improved Directory iterator ##\n",
    "\n",
    "#### R. Barker, CAS_PML, 2019.01.21\n",
    "- Required to improve transforms for BBox\n"
   ]
  },
  {
   "cell_type": "code",
   "execution_count": 4,
   "metadata": {},
   "outputs": [
    {
     "name": "stderr",
     "output_type": "stream",
     "text": [
      "Using TensorFlow backend.\n"
     ]
    }
   ],
   "source": [
    "from keras.preprocessing import image\n",
    "from keras.preprocessing.image import DirectoryIterator, ImageDataGenerator\n",
    "from keras.callbacks import ReduceLROnPlateau, ModelCheckpoint, EarlyStopping, TensorBoard\n",
    "from keras import backend as K\n",
    "import matplotlib.pyplot as plt\n",
    "from PIL import Image as pil_image"
   ]
  },
  {
   "cell_type": "code",
   "execution_count": null,
   "metadata": {},
   "outputs": [],
   "source": [
    "class DirectoryIteratorWithBoundingBoxes(DirectoryIterator):\n",
    "    def __init__(self, directory, image_data_generator, bounding_boxes: dict = None, target_size=(256, 256),\n",
    "                 color_mode: str = 'rgb', classes=None, class_mode: str = 'categorical', batch_size: int = 32,\n",
    "                 shuffle: bool = True, seed=None, data_format=None, save_to_dir=None,\n",
    "                 save_prefix: str = '', save_format: str = 'jpeg', follow_links: bool = False):\n",
    "        super().__init__(directory, image_data_generator, target_size, color_mode, classes, class_mode, batch_size,\n",
    "                         shuffle, seed, data_format, save_to_dir, save_prefix, save_format, follow_links)\n",
    "        self.bounding_boxes = bounding_boxes\n",
    "\n",
    "    def next(self):\n",
    "        \"\"\"\n",
    "        # Returns\n",
    "            The next batch.\n",
    "        \"\"\"\n",
    "        with self.lock:\n",
    "            index_array = next(self.index_generator)\n",
    "        # The transformation of images is not under thread lock\n",
    "        # so it can be done in parallel\n",
    "        batch_x = np.zeros((len(index_array),) + self.image_shape, dtype=K.floatx())\n",
    "        locations = np.zeros((len(batch_x),) + (4,), dtype=K.floatx())\n",
    "\n",
    "        grayscale = self.color_mode == 'grayscale'\n",
    "\n",
    "        # build batch of image data\n",
    "        for i, j in enumerate(index_array):\n",
    "            fname = self.filenames[j]\n",
    "            img = image.load_img(os.path.join(self.directory, fname),\n",
    "                                 grayscale=grayscale,\n",
    "                                 target_size=self.target_size)\n",
    "            x = image.img_to_array(img, data_format=self.data_format)\n",
    "            x = self.image_data_generator.random_transform(x)\n",
    "            x = self.image_data_generator.standardize(x)\n",
    "            batch_x[i] = x\n",
    "\n",
    "            if self.bounding_boxes is not None:\n",
    "                bounding_box = self.bounding_boxes[fname]\n",
    "                locations[i] = np.asarray(\n",
    "                    #[bounding_box['x1'], bounding_box['y1'], bounding_box['x2'], bounding_box['y2']],\n",
    "                    bounding_box,\n",
    "                    dtype=K.floatx())\n",
    "        \n",
    "        # optionally save augmented images to disk for debugging purposes\n",
    "        if self.save_to_dir:\n",
    "            for i, j in enumerate(index_array):\n",
    "                #img = array_to_img(batch_x[i], self.data_format, scale=True)\n",
    "                fname = '{prefix}_{index}_{hash}.{format}'.format( \\\n",
    "                          prefix=self.save_prefix, \\\n",
    "                          index=j, \\\n",
    "                          hash=np.random.randint(1e7), \\\n",
    "                          format=self.save_format)\n",
    "                #img.save(os.path.join(self.save_to_dir, fname))\n",
    "                img = np.asarray(batch_x[i], dtype=K.floatx())\n",
    "                if img.shape[2] == 3:\n",
    "                    imgo=pil_image.fromarray(img.astype('uint8'), 'RGB')\n",
    "                else:\n",
    "                    imgo=pil_image.fromarray(img[:, :, 0].astype('uint8'), 'L')\n",
    "                    \n",
    "                imgo.save(os.path.join(self.save_to_dir, fname))\n",
    "        \n",
    "        # build batch of labels\n",
    "        if self.class_mode == 'sparse':\n",
    "            batch_y = self.classes[index_array]\n",
    "        elif self.class_mode == 'binary':\n",
    "            batch_y = self.classes[index_array].astype(K.floatx())\n",
    "        elif self.class_mode == 'categorical':\n",
    "            batch_y = np.zeros((len(batch_x), 46), dtype=K.floatx())\n",
    "            for i, label in enumerate(self.classes[index_array]):\n",
    "                batch_y[i, label] = 1.\n",
    "        else:\n",
    "            return batch_x\n",
    "\n",
    "        if self.bounding_boxes is not None:\n",
    "            return batch_x, [batch_y, locations]\n",
    "        else:\n",
    "            return batch_x, batch_y"
   ]
  },
  {
   "cell_type": "markdown",
   "metadata": {},
   "source": [
    "***\n",
    "---\n"
   ]
  },
  {
   "cell_type": "code",
   "execution_count": 15,
   "metadata": {},
   "outputs": [],
   "source": [
    "import json\n",
    "import numpy as np\n",
    "import os"
   ]
  },
  {
   "cell_type": "code",
   "execution_count": 7,
   "metadata": {},
   "outputs": [],
   "source": [
    "# for directory defined class listings\n",
    "with open('../data/Anno/list_bbox.txt', 'r') as bbox_file:\n",
    "    list_bbox = [line.rstrip('\\n') for line in bbox_file][2:]\n",
    "    list_bbox = [line.split('/') for line in list_bbox]\n",
    "    bb_dict= {l[1].split('_')[-1] + '/' + l[1] + '/' + l[2].split()[0]: \\\n",
    "              [int(xi) for xi in l[2].split()[-4:]] \n",
    "              for l in list_bbox}"
   ]
  },
  {
   "cell_type": "code",
   "execution_count": null,
   "metadata": {},
   "outputs": [],
   "source": [
    "# for testing with as packed defined directory structure\n",
    "with open('../data/Anno/list_bbox.txt', 'r') as bbox_file:\n",
    "    list_bbox = [line.rstrip('\\n') for line in bbox_file][2:]\n",
    "    list_bbox = [line.split('/') for line in list_bbox]\n",
    "    bb_dict= { l[1] + '/' + l[2].split()[0]: \\\n",
    "              [int(xi) for xi in l[2].split()[-4:]] \\\n",
    "              for l in list_bbox}"
   ]
  },
  {
   "cell_type": "code",
   "execution_count": null,
   "metadata": {},
   "outputs": [],
   "source": [
    "bb_dict"
   ]
  },
  {
   "cell_type": "code",
   "execution_count": null,
   "metadata": {},
   "outputs": [],
   "source": [
    "with open('../data/Anno/list_eval_partition.txt', 'r') as part_file:\n",
    "    list_part = [line.rstrip('\\n') for line in part_file][2:]\n",
    "    list_part = [line.split('/') for line in list_part]\n",
    "    part_dict = {l[1].split('_')[-1] + '/' + l[1] + '/' + l[2].split()[0]: \\\n",
    "                  l[2].split()[-1]\n",
    "                  for l in list_part}"
   ]
  },
  {
   "cell_type": "code",
   "execution_count": null,
   "metadata": {},
   "outputs": [],
   "source": [
    "train_dict = {k:v for k,v in bb_dict.items() if part_dict[k] == 'train'}\n",
    "test_dict = {k:v for k,v in bb_dict.items() if part_dict[k] == 'test'}\n",
    "val_dict = {k:v for k,v in bb_dict.items() if part_dict[k] == 'val'}"
   ]
  },
  {
   "cell_type": "markdown",
   "metadata": {},
   "source": [
    "---"
   ]
  },
  {
   "cell_type": "code",
   "execution_count": null,
   "metadata": {},
   "outputs": [],
   "source": [
    "train_dict"
   ]
  },
  {
   "cell_type": "code",
   "execution_count": null,
   "metadata": {},
   "outputs": [],
   "source": [
    "bb_dict"
   ]
  },
  {
   "cell_type": "code",
   "execution_count": null,
   "metadata": {},
   "outputs": [],
   "source": [
    "#train_datagen = ImageDataGenerator(rotation_range=30.,\n",
    "#                                   shear_range=0.2,\n",
    "#                                   zoom_range=0.2,\n",
    "#                                   width_shift_range=0.2,\n",
    "#                                   height_shift_range=0.2,\n",
    "#                                   horizontal_flip=True)\n",
    "train_datagen = ImageDataGenerator()"
   ]
  },
  {
   "cell_type": "code",
   "execution_count": null,
   "metadata": {},
   "outputs": [],
   "source": [
    "dataDir = '/Volumes/SanDiskSSD/BFH_backup/CAS_PML/Project/DeepFashion/data/train/'\n",
    "dataDir = '../data/Img/'"
   ]
  },
  {
   "cell_type": "code",
   "execution_count": null,
   "metadata": {},
   "outputs": [],
   "source": [
    "train_iterator = DirectoryIteratorWithBoundingBoxes( \\\n",
    "                    dataDir, \\\n",
    "                    train_datagen, bounding_boxes=bb_dict, target_size=(200, 200),save_to_dir='./augmentOutput')"
   ]
  },
  {
   "cell_type": "code",
   "execution_count": null,
   "metadata": {},
   "outputs": [],
   "source": [
    "test_iter = next(train_iterator)"
   ]
  },
  {
   "cell_type": "code",
   "execution_count": null,
   "metadata": {},
   "outputs": [],
   "source": [
    "bb_dict"
   ]
  },
  {
   "cell_type": "code",
   "execution_count": null,
   "metadata": {},
   "outputs": [],
   "source": [
    "plt.imshow(test_iter[0][0]/255)"
   ]
  },
  {
   "cell_type": "code",
   "execution_count": null,
   "metadata": {},
   "outputs": [],
   "source": [
    "test_iter[1][1][0]"
   ]
  },
  {
   "cell_type": "markdown",
   "metadata": {},
   "source": [
    "---\n",
    "## Implement BB changes and ImgAug\n",
    "---"
   ]
  },
  {
   "cell_type": "code",
   "execution_count": 1,
   "metadata": {},
   "outputs": [],
   "source": [
    "import imgaug as ia\n",
    "from imgaug import augmenters as iaa\n",
    "from imgaug import parameters as iap\n",
    "ia.seed(1)"
   ]
  },
  {
   "cell_type": "code",
   "execution_count": 2,
   "metadata": {},
   "outputs": [],
   "source": [
    "import matplotlib.pyplot as plt\n",
    "from matplotlib import patches"
   ]
  },
  {
   "cell_type": "code",
   "execution_count": 16,
   "metadata": {},
   "outputs": [],
   "source": [
    "class DirectoryIteratorWithBoundingBoxes(DirectoryIterator):\n",
    "    def __init__(self, directory, image_data_generator, bounding_boxes: dict = None, target_size=(256, 256),\n",
    "                 color_mode: str = 'rgb', classes=None, class_mode: str = 'categorical', batch_size: int = 32,\n",
    "                 shuffle: bool = True, seed=None, data_format=None, save_to_dir=None,\n",
    "                 save_prefix: str = '', save_format: str = 'jpeg', follow_links: bool = False):\n",
    "        super().__init__(directory, image_data_generator, target_size, color_mode, classes, class_mode, batch_size,\n",
    "                         shuffle, seed, data_format, save_to_dir, save_prefix, save_format, follow_links)\n",
    "        self.bounding_boxes = bounding_boxes\n",
    "        \"\"\"tg = self.image_data_generator\n",
    "        self.seqaug = iaa.Sequential([\n",
    "                            iaa.CropToFixedSize(width=self.target_size[0], height=self.target_size[1]),\n",
    "                            iaa.PadToFixedSize(width=self.target_size[0], height=self.target_size[1]),\n",
    "                            iaa.KeepSizeByResize(\n",
    "                                iaa.Affine(\n",
    "                                    scale =iap.Uniform(*tg.zoom_range),\n",
    "                                    rotate=iap.Uniform(-tg.rotation_range, tg.rotation_range),\n",
    "                                    translate_percent={\"x\": iap.Uniform(-tg.width_shift_range,\n",
    "                                                                         tg.width_shift_range),\n",
    "                                                       \"y\": iap.Uniform(-tg.height_shift_range,\n",
    "                                                                         tg.height_shift_range)}, \n",
    "                                    shear = iap.Uniform(-tg.shear_range,tg.shear_range),\n",
    "                                    mode='constant',\n",
    "                                    cval = 255,\n",
    "                                    fit_output=True\n",
    "                                )\n",
    "                            ),\n",
    "                            iaa.Fliplr(0.5 if tg.horizontal_flip else 0.0)\n",
    "                    ]).to_deterministic()\n",
    "        \"\"\"\n",
    "        \n",
    "\n",
    "    def next(self):\n",
    "        \"\"\"\n",
    "        # Returns\n",
    "            The next batch.\n",
    "        \"\"\"\n",
    "        with self.lock:\n",
    "            index_array = next(self.index_generator)\n",
    "        # The transformation of images is not under thread lock\n",
    "        # so it can be done in parallel\n",
    "        tg = self.image_data_generator\n",
    "        seqaug = iaa.Sequential([\n",
    "                            iaa.CropToFixedSize(width=self.target_size[0], height=self.target_size[1]),\n",
    "                            iaa.PadToFixedSize(width=self.target_size[0], height=self.target_size[1]),\n",
    "                            iaa.KeepSizeByResize(\n",
    "                                iaa.Affine(\n",
    "                                    scale =iap.Uniform(*tg.zoom_range),\n",
    "                                    rotate=iap.Uniform(-tg.rotation_range, tg.rotation_range),\n",
    "                                    translate_percent={\"x\": iap.Uniform(-tg.width_shift_range,\n",
    "                                                                         tg.width_shift_range),\n",
    "                                                       \"y\": iap.Uniform(-tg.height_shift_range,\n",
    "                                                                         tg.height_shift_range)}, \n",
    "                                    shear = iap.Uniform(-tg.shear_range,tg.shear_range),\n",
    "                                    mode='constant',\n",
    "                                    cval = 255,\n",
    "                                    fit_output=True\n",
    "                                )\n",
    "                            ),\n",
    "                            iaa.Fliplr(0.5 if tg.horizontal_flip else 0.0)\n",
    "                    ]).to_deterministic()\n",
    "        \n",
    "        batch_x = np.zeros((len(index_array),) + self.image_shape, dtype=K.floatx())\n",
    "        locations = np.zeros((len(batch_x),) + (4,), dtype=K.floatx())\n",
    "\n",
    "        grayscale = self.color_mode == 'grayscale'\n",
    "\n",
    "        # build batch of image data\n",
    "        for i, j in enumerate(index_array):\n",
    "            fname = self.filenames[j]\n",
    "            bba = self.bounding_boxes[fname]\n",
    "            #img = image.load_img(os.path.join(self.directory, fname),\n",
    "            #                     grayscale=grayscale,\n",
    "            #                     target_size=self.target_size)\n",
    "            img = image.load_img(os.path.join(self.directory,fname))\n",
    "            x = image.img_to_array(img, data_format=self.data_format)\n",
    "            bbs = ia.BoundingBoxesOnImage([ia.BoundingBox(x1=bba[0],\n",
    "                                                          y1=bba[1],\n",
    "                                                          x2=bba[2],\n",
    "                                                          y2=bba[3])],shape=x.shape)\n",
    "            x = ia.imresize_single_image(x,self.target_size)\n",
    "            bbx = bbs.on(x)  # resize bounding box to image shape now\n",
    "            h,w,_ = x.shape\n",
    "            \n",
    "            # apply transforms image and bbox\n",
    "            x = seqaug.augment_images([x])[0]\n",
    "            bbx = seqaug.augment_bounding_boxes([bbx])[0].bounding_boxes[0]\n",
    "            \n",
    "            #img = img.resize(self.target_size)\n",
    "            #x = self.image_data_generator.random_transform(x)\n",
    "            x = self.image_data_generator.standardize(x)\n",
    "            batch_x[i] = x\n",
    "\n",
    "            if self.bounding_boxes is not None:\n",
    "                #bounding_box = self.bounding_boxes[fname]\n",
    "                locations[i] = np.asarray(\n",
    "                    #[bounding_box['x1'], bounding_box['y1'], bounding_box['x2'], bounding_box['y2']],\n",
    "                    [bbx.x1/w, bbx.y1/h, bbx.x2/w, bbx.y2/h],\n",
    "                    dtype=K.floatx())\n",
    "        \n",
    "        # optionally save augmented images to disk for debugging purposes\n",
    "        if self.save_to_dir:\n",
    "            for i, j in enumerate(index_array):\n",
    "                #img = array_to_img(batch_x[i], self.data_format, scale=True)\n",
    "                fname = '{prefix}_{index}_{hash}.{format}'.format( \\\n",
    "                          prefix=self.save_prefix, \\\n",
    "                          index=j, \\\n",
    "                          hash=np.random.randint(1e7), \\\n",
    "                          format=self.save_format)\n",
    "                #img.save(os.path.join(self.save_to_dir, fname))\n",
    "                #print(\"should be saving here:\",self.save_to_dir + '/' + fname)\n",
    "                img = np.asarray(batch_x[i], dtype=K.floatx())\n",
    "                if img.shape[2] == 3:\n",
    "                    imgo=pil_image.fromarray(img.astype('uint8'), 'RGB')\n",
    "                else:\n",
    "                    imgo=pil_image.fromarray(img[:, :, 0].astype('uint8'), 'L')\n",
    "                    \n",
    "                imgo.save(os.path.join(self.save_to_dir, fname))\n",
    "        \n",
    "        # build batch of labels\n",
    "        if self.class_mode == 'sparse':\n",
    "            batch_y = self.classes[index_array]\n",
    "        elif self.class_mode == 'binary':\n",
    "            batch_y = self.classes[index_array].astype(K.floatx())\n",
    "        elif self.class_mode == 'categorical':\n",
    "            batch_y = np.zeros((len(batch_x), 46), dtype=K.floatx())\n",
    "            for i, label in enumerate(self.classes[index_array]):\n",
    "                batch_y[i, label] = 1.\n",
    "        else:\n",
    "            return batch_x\n",
    "\n",
    "        if self.bounding_boxes is not None:\n",
    "            return batch_x, [batch_y, locations]\n",
    "        else:\n",
    "            return batch_x, batch_y"
   ]
  },
  {
   "cell_type": "code",
   "execution_count": 19,
   "metadata": {},
   "outputs": [],
   "source": [
    "img_dir = '/Volumes/SanDiskSSD/BFH_backup/CAS_PML/Project/DeepFashion/data/test/'\n",
    "#img_dir = '../data/Img/'\n",
    "bb_keys=list(bb_dict.keys())"
   ]
  },
  {
   "cell_type": "code",
   "execution_count": 20,
   "metadata": {},
   "outputs": [],
   "source": [
    "img = image.load_img(os.path.join(img_dir,bb_keys[4]))"
   ]
  },
  {
   "cell_type": "code",
   "execution_count": 34,
   "metadata": {},
   "outputs": [],
   "source": [
    "img_resize=img.resize((250,250))"
   ]
  },
  {
   "cell_type": "code",
   "execution_count": 35,
   "metadata": {},
   "outputs": [
    {
     "data": {
      "text/plain": [
       "<matplotlib.image.AxesImage at 0x1c634b1b00>"
      ]
     },
     "execution_count": 35,
     "metadata": {},
     "output_type": "execute_result"
    },
    {
     "data": {
      "image/png": "[encoded data removed]",
      "text/plain": [
       "<Figure size 432x288 with 2 Axes>"
      ]
     },
     "metadata": {
      "needs_background": "light"
     },
     "output_type": "display_data"
    }
   ],
   "source": [
    "ax1 = plt.subplot(1,2,1)\n",
    "ax2 = plt.subplot(1,2,2)\n",
    "ax1.imshow(img)\n",
    "ax2.imshow(img_resize)"
   ]
  },
  {
   "cell_type": "code",
   "execution_count": 36,
   "metadata": {},
   "outputs": [],
   "source": [
    "img_arr = image.img_to_array(img)"
   ]
  },
  {
   "cell_type": "code",
   "execution_count": 25,
   "metadata": {},
   "outputs": [
    {
     "data": {
      "text/plain": [
       "(200, 300)"
      ]
     },
     "execution_count": 25,
     "metadata": {},
     "output_type": "execute_result"
    }
   ],
   "source": [
    "img.size"
   ]
  },
  {
   "cell_type": "code",
   "execution_count": 26,
   "metadata": {},
   "outputs": [
    {
     "data": {
      "text/plain": [
       "(300, 200, 3)"
      ]
     },
     "execution_count": 26,
     "metadata": {},
     "output_type": "execute_result"
    }
   ],
   "source": [
    "img_arr.shape"
   ]
  },
  {
   "cell_type": "code",
   "execution_count": 27,
   "metadata": {},
   "outputs": [
    {
     "data": {
      "text/plain": [
       "<matplotlib.image.AxesImage at 0x1c6074cba8>"
      ]
     },
     "execution_count": 27,
     "metadata": {},
     "output_type": "execute_result"
    },
    {
     "data": {
      "image/png": "[encoded data removed]",
      "text/plain": [
       "<Figure size 432x288 with 1 Axes>"
      ]
     },
     "metadata": {
      "needs_background": "light"
     },
     "output_type": "display_data"
    }
   ],
   "source": [
    "plt.imshow(img_arr/255.0)"
   ]
  },
  {
   "cell_type": "markdown",
   "metadata": {},
   "source": [
    "---\n",
    "---"
   ]
  },
  {
   "cell_type": "code",
   "execution_count": 21,
   "metadata": {},
   "outputs": [],
   "source": [
    "train_datagen = ImageDataGenerator(rotation_range=10.,\n",
    "                                   #shear_range=5.0,\n",
    "                                   shear_range = 0,\n",
    "                                   zoom_range=0,\n",
    "                                   width_shift_range=0.2,\n",
    "                                   height_shift_range=0.2,\n",
    "                                   horizontal_flip=True)"
   ]
  },
  {
   "cell_type": "code",
   "execution_count": 22,
   "metadata": {},
   "outputs": [],
   "source": [
    "dataDir = '../data/Img/'\n",
    "dataDir = '/Volumes/SanDiskSSD/BFH_backup/CAS_PML/Project/DeepFashion/data/test/'"
   ]
  },
  {
   "cell_type": "code",
   "execution_count": 23,
   "metadata": {},
   "outputs": [
    {
     "name": "stdout",
     "output_type": "stream",
     "text": [
      "Found 40000 images belonging to 46 classes.\n"
     ]
    }
   ],
   "source": [
    "train_iterator = DirectoryIteratorWithBoundingBoxes( \\\n",
    "                    dataDir, \\\n",
    "                    train_datagen, bounding_boxes=bb_dict, target_size=(200, 200),save_to_dir='./augmentOutput')"
   ]
  },
  {
   "cell_type": "code",
   "execution_count": 36,
   "metadata": {},
   "outputs": [
    {
     "name": "stderr",
     "output_type": "stream",
     "text": [
      "Clipping input data to the valid range for imshow with RGB data ([0..1] for floats or [0..255] for integers).\n"
     ]
    },
    {
     "name": "stdout",
     "output_type": "stream",
     "text": [
      "should be saving here: ./augmentOutput/_37055_5646055.jpeg\n",
      "should be saving here: ./augmentOutput/_563_6725234.jpeg\n",
      "should be saving here: ./augmentOutput/_6023_8569520.jpeg\n",
      "should be saving here: ./augmentOutput/_30572_8160487.jpeg\n",
      "should be saving here: ./augmentOutput/_2083_3149079.jpeg\n",
      "should be saving here: ./augmentOutput/_36671_8862303.jpeg\n",
      "should be saving here: ./augmentOutput/_251_1474852.jpeg\n",
      "should be saving here: ./augmentOutput/_21669_3857957.jpeg\n",
      "should be saving here: ./augmentOutput/_8501_9479061.jpeg\n",
      "should be saving here: ./augmentOutput/_36448_3747875.jpeg\n",
      "should be saving here: ./augmentOutput/_2967_3187236.jpeg\n",
      "should be saving here: ./augmentOutput/_28487_773896.jpeg\n",
      "should be saving here: ./augmentOutput/_28705_4498302.jpeg\n",
      "should be saving here: ./augmentOutput/_21070_1731030.jpeg\n",
      "should be saving here: ./augmentOutput/_31043_9283388.jpeg\n",
      "should be saving here: ./augmentOutput/_19859_1622877.jpeg\n",
      "should be saving here: ./augmentOutput/_22902_9589379.jpeg\n",
      "should be saving here: ./augmentOutput/_29603_2015268.jpeg\n",
      "should be saving here: ./augmentOutput/_7075_6271512.jpeg\n",
      "should be saving here: ./augmentOutput/_28991_5656987.jpeg\n",
      "should be saving here: ./augmentOutput/_9611_4151534.jpeg\n",
      "should be saving here: ./augmentOutput/_38692_5606799.jpeg\n",
      "should be saving here: ./augmentOutput/_12465_7697220.jpeg\n",
      "should be saving here: ./augmentOutput/_21661_192045.jpeg\n",
      "should be saving here: ./augmentOutput/_4487_1107434.jpeg\n",
      "should be saving here: ./augmentOutput/_33384_4761442.jpeg\n",
      "should be saving here: ./augmentOutput/_36102_1416003.jpeg\n",
      "should be saving here: ./augmentOutput/_27434_597837.jpeg\n",
      "should be saving here: ./augmentOutput/_10761_9101432.jpeg\n",
      "should be saving here: ./augmentOutput/_18239_4482591.jpeg\n",
      "should be saving here: ./augmentOutput/_33686_357304.jpeg\n",
      "should be saving here: ./augmentOutput/_39220_5406380.jpeg\n"
     ]
    },
    {
     "name": "stderr",
     "output_type": "stream",
     "text": [
      "Clipping input data to the valid range for imshow with RGB data ([0..1] for floats or [0..255] for integers).\n"
     ]
    },
    {
     "name": "stdout",
     "output_type": "stream",
     "text": [
      "should be saving here: ./augmentOutput/_22975_4062892.jpeg\n",
      "should be saving here: ./augmentOutput/_18504_2541166.jpeg\n",
      "should be saving here: ./augmentOutput/_2553_6078507.jpeg\n",
      "should be saving here: ./augmentOutput/_26835_4485742.jpeg\n",
      "should be saving here: ./augmentOutput/_1135_4291708.jpeg\n",
      "should be saving here: ./augmentOutput/_19384_9834703.jpeg\n",
      "should be saving here: ./augmentOutput/_28421_6000382.jpeg\n",
      "should be saving here: ./augmentOutput/_38812_3088301.jpeg\n",
      "should be saving here: ./augmentOutput/_37349_6516923.jpeg\n",
      "should be saving here: ./augmentOutput/_14305_9676544.jpeg\n",
      "should be saving here: ./augmentOutput/_22655_3802070.jpeg\n",
      "should be saving here: ./augmentOutput/_14547_9784580.jpeg\n",
      "should be saving here: ./augmentOutput/_8298_206165.jpeg\n",
      "should be saving here: ./augmentOutput/_5233_350040.jpeg\n",
      "should be saving here: ./augmentOutput/_18716_294437.jpeg\n",
      "should be saving here: ./augmentOutput/_20865_8555996.jpeg\n",
      "should be saving here: ./augmentOutput/_36975_4869071.jpeg\n",
      "should be saving here: ./augmentOutput/_17203_3176323.jpeg\n",
      "should be saving here: ./augmentOutput/_25788_3556638.jpeg\n",
      "should be saving here: ./augmentOutput/_11764_8855947.jpeg\n",
      "should be saving here: ./augmentOutput/_25215_8127875.jpeg\n",
      "should be saving here: ./augmentOutput/_30330_3501124.jpeg\n",
      "should be saving here: ./augmentOutput/_29324_6701043.jpeg\n",
      "should be saving here: ./augmentOutput/_34735_9319641.jpeg\n",
      "should be saving here: ./augmentOutput/_25421_6748494.jpeg\n",
      "should be saving here: ./augmentOutput/_12747_8120725.jpeg\n",
      "should be saving here: ./augmentOutput/_23118_2125697.jpeg\n",
      "should be saving here: ./augmentOutput/_2354_3002339.jpeg\n",
      "should be saving here: ./augmentOutput/_25462_6920018.jpeg\n",
      "should be saving here: ./augmentOutput/_34730_4727202.jpeg\n",
      "should be saving here: ./augmentOutput/_7536_9515664.jpeg\n",
      "should be saving here: ./augmentOutput/_11028_3601482.jpeg\n"
     ]
    },
    {
     "name": "stderr",
     "output_type": "stream",
     "text": [
      "Clipping input data to the valid range for imshow with RGB data ([0..1] for floats or [0..255] for integers).\n"
     ]
    },
    {
     "name": "stdout",
     "output_type": "stream",
     "text": [
      "should be saving here: ./augmentOutput/_37771_6437968.jpeg\n",
      "should be saving here: ./augmentOutput/_27885_4546560.jpeg\n",
      "should be saving here: ./augmentOutput/_4345_2006500.jpeg\n",
      "should be saving here: ./augmentOutput/_29336_3517774.jpeg\n",
      "should be saving here: ./augmentOutput/_19749_1596890.jpeg\n",
      "should be saving here: ./augmentOutput/_31012_8893976.jpeg\n",
      "should be saving here: ./augmentOutput/_13352_4804221.jpeg\n",
      "should be saving here: ./augmentOutput/_18479_1345255.jpeg\n",
      "should be saving here: ./augmentOutput/_15352_7213829.jpeg\n",
      "should be saving here: ./augmentOutput/_27837_1005412.jpeg\n",
      "should be saving here: ./augmentOutput/_16514_8365249.jpeg\n",
      "should be saving here: ./augmentOutput/_30611_6272323.jpeg\n",
      "should be saving here: ./augmentOutput/_30831_3162709.jpeg\n",
      "should be saving here: ./augmentOutput/_8167_6723737.jpeg\n",
      "should be saving here: ./augmentOutput/_17371_2284554.jpeg\n",
      "should be saving here: ./augmentOutput/_2175_145198.jpeg\n",
      "should be saving here: ./augmentOutput/_25028_53129.jpeg\n",
      "should be saving here: ./augmentOutput/_35775_4366325.jpeg\n",
      "should be saving here: ./augmentOutput/_30920_5237413.jpeg\n",
      "should be saving here: ./augmentOutput/_2327_1691369.jpeg\n",
      "should be saving here: ./augmentOutput/_16409_6454557.jpeg\n",
      "should be saving here: ./augmentOutput/_23428_2889147.jpeg\n",
      "should be saving here: ./augmentOutput/_3229_6144611.jpeg\n",
      "should be saving here: ./augmentOutput/_8123_1638933.jpeg\n",
      "should be saving here: ./augmentOutput/_12938_1236922.jpeg\n",
      "should be saving here: ./augmentOutput/_36332_6383964.jpeg\n",
      "should be saving here: ./augmentOutput/_33903_6405997.jpeg\n",
      "should be saving here: ./augmentOutput/_16056_7283554.jpeg\n",
      "should be saving here: ./augmentOutput/_39814_4752736.jpeg\n",
      "should be saving here: ./augmentOutput/_34942_2551366.jpeg\n",
      "should be saving here: ./augmentOutput/_1423_344506.jpeg\n",
      "should be saving here: ./augmentOutput/_16776_2839586.jpeg\n"
     ]
    },
    {
     "name": "stderr",
     "output_type": "stream",
     "text": [
      "Clipping input data to the valid range for imshow with RGB data ([0..1] for floats or [0..255] for integers).\n"
     ]
    },
    {
     "name": "stdout",
     "output_type": "stream",
     "text": [
      "should be saving here: ./augmentOutput/_17037_2536753.jpeg\n",
      "should be saving here: ./augmentOutput/_33379_3490173.jpeg\n",
      "should be saving here: ./augmentOutput/_2073_5842491.jpeg\n",
      "should be saving here: ./augmentOutput/_19402_8677895.jpeg\n",
      "should be saving here: ./augmentOutput/_18497_1246214.jpeg\n",
      "should be saving here: ./augmentOutput/_14602_1429260.jpeg\n",
      "should be saving here: ./augmentOutput/_38147_9949062.jpeg\n",
      "should be saving here: ./augmentOutput/_36218_7348191.jpeg\n",
      "should be saving here: ./augmentOutput/_27977_4685749.jpeg\n",
      "should be saving here: ./augmentOutput/_20697_1744951.jpeg\n",
      "should be saving here: ./augmentOutput/_8362_2906276.jpeg\n",
      "should be saving here: ./augmentOutput/_5300_7464925.jpeg\n",
      "should be saving here: ./augmentOutput/_6985_2073772.jpeg\n",
      "should be saving here: ./augmentOutput/_18373_6715041.jpeg\n",
      "should be saving here: ./augmentOutput/_26519_9254069.jpeg\n",
      "should be saving here: ./augmentOutput/_28608_8934840.jpeg\n",
      "should be saving here: ./augmentOutput/_35748_7645120.jpeg\n",
      "should be saving here: ./augmentOutput/_37581_6743163.jpeg\n",
      "should be saving here: ./augmentOutput/_4687_4322712.jpeg\n",
      "should be saving here: ./augmentOutput/_22955_3200585.jpeg\n",
      "should be saving here: ./augmentOutput/_37246_1105770.jpeg\n",
      "should be saving here: ./augmentOutput/_19914_9804236.jpeg\n",
      "should be saving here: ./augmentOutput/_4655_6294380.jpeg\n",
      "should be saving here: ./augmentOutput/_20112_7472762.jpeg\n",
      "should be saving here: ./augmentOutput/_2269_7709658.jpeg\n",
      "should be saving here: ./augmentOutput/_32475_5303177.jpeg\n",
      "should be saving here: ./augmentOutput/_4538_8121919.jpeg\n",
      "should be saving here: ./augmentOutput/_21165_2349075.jpeg\n",
      "should be saving here: ./augmentOutput/_32910_1753858.jpeg\n",
      "should be saving here: ./augmentOutput/_20282_8435184.jpeg\n",
      "should be saving here: ./augmentOutput/_15413_1180322.jpeg\n",
      "should be saving here: ./augmentOutput/_35918_7734414.jpeg\n"
     ]
    },
    {
     "name": "stderr",
     "output_type": "stream",
     "text": [
      "Clipping input data to the valid range for imshow with RGB data ([0..1] for floats or [0..255] for integers).\n"
     ]
    },
    {
     "name": "stdout",
     "output_type": "stream",
     "text": [
      "should be saving here: ./augmentOutput/_9408_7494585.jpeg\n",
      "should be saving here: ./augmentOutput/_13210_9425636.jpeg\n",
      "should be saving here: ./augmentOutput/_30830_5129174.jpeg\n",
      "should be saving here: ./augmentOutput/_29704_9052008.jpeg\n",
      "should be saving here: ./augmentOutput/_6665_8218087.jpeg\n",
      "should be saving here: ./augmentOutput/_16787_5888819.jpeg\n",
      "should be saving here: ./augmentOutput/_36044_9248349.jpeg\n",
      "should be saving here: ./augmentOutput/_3058_463266.jpeg\n",
      "should be saving here: ./augmentOutput/_6601_3355581.jpeg\n",
      "should be saving here: ./augmentOutput/_1945_1580775.jpeg\n",
      "should be saving here: ./augmentOutput/_3528_8120289.jpeg\n",
      "should be saving here: ./augmentOutput/_11112_7397526.jpeg\n",
      "should be saving here: ./augmentOutput/_23853_6021667.jpeg\n",
      "should be saving here: ./augmentOutput/_25643_7606822.jpeg\n",
      "should be saving here: ./augmentOutput/_21096_2297442.jpeg\n",
      "should be saving here: ./augmentOutput/_6031_4869866.jpeg\n",
      "should be saving here: ./augmentOutput/_10696_4621240.jpeg\n",
      "should be saving here: ./augmentOutput/_7433_4365177.jpeg\n",
      "should be saving here: ./augmentOutput/_269_6013066.jpeg\n",
      "should be saving here: ./augmentOutput/_29373_7489830.jpeg\n",
      "should be saving here: ./augmentOutput/_33563_6219912.jpeg\n",
      "should be saving here: ./augmentOutput/_29797_6617794.jpeg\n",
      "should be saving here: ./augmentOutput/_26166_9457964.jpeg\n",
      "should be saving here: ./augmentOutput/_8401_7118299.jpeg\n",
      "should be saving here: ./augmentOutput/_35090_4681568.jpeg\n",
      "should be saving here: ./augmentOutput/_9992_8918682.jpeg\n",
      "should be saving here: ./augmentOutput/_11714_1887443.jpeg\n",
      "should be saving here: ./augmentOutput/_37570_428293.jpeg\n",
      "should be saving here: ./augmentOutput/_37358_1411173.jpeg\n",
      "should be saving here: ./augmentOutput/_36573_9829068.jpeg\n",
      "should be saving here: ./augmentOutput/_35469_6951957.jpeg\n",
      "should be saving here: ./augmentOutput/_10021_2322333.jpeg\n"
     ]
    },
    {
     "name": "stderr",
     "output_type": "stream",
     "text": [
      "Clipping input data to the valid range for imshow with RGB data ([0..1] for floats or [0..255] for integers).\n"
     ]
    },
    {
     "name": "stdout",
     "output_type": "stream",
     "text": [
      "should be saving here: ./augmentOutput/_28312_6046025.jpeg\n",
      "should be saving here: ./augmentOutput/_26582_3699906.jpeg\n",
      "should be saving here: ./augmentOutput/_24771_1866845.jpeg\n",
      "should be saving here: ./augmentOutput/_20754_2457432.jpeg\n",
      "should be saving here: ./augmentOutput/_16067_4115983.jpeg\n",
      "should be saving here: ./augmentOutput/_18720_484426.jpeg\n",
      "should be saving here: ./augmentOutput/_2222_424236.jpeg\n",
      "should be saving here: ./augmentOutput/_2814_1622087.jpeg\n",
      "should be saving here: ./augmentOutput/_13715_1569592.jpeg\n",
      "should be saving here: ./augmentOutput/_9589_5692716.jpeg\n",
      "should be saving here: ./augmentOutput/_7825_9886910.jpeg\n",
      "should be saving here: ./augmentOutput/_18627_8854804.jpeg\n",
      "should be saving here: ./augmentOutput/_17260_7187461.jpeg\n",
      "should be saving here: ./augmentOutput/_18987_2910076.jpeg\n",
      "should be saving here: ./augmentOutput/_18452_5419252.jpeg\n",
      "should be saving here: ./augmentOutput/_37491_8530163.jpeg\n",
      "should be saving here: ./augmentOutput/_15617_5412097.jpeg\n",
      "should be saving here: ./augmentOutput/_24672_619822.jpeg\n",
      "should be saving here: ./augmentOutput/_29131_5028325.jpeg\n",
      "should be saving here: ./augmentOutput/_38677_9940558.jpeg\n",
      "should be saving here: ./augmentOutput/_29049_275651.jpeg\n",
      "should be saving here: ./augmentOutput/_9878_3217665.jpeg\n",
      "should be saving here: ./augmentOutput/_11291_9709368.jpeg\n",
      "should be saving here: ./augmentOutput/_12591_7664134.jpeg\n",
      "should be saving here: ./augmentOutput/_16566_7833463.jpeg\n",
      "should be saving here: ./augmentOutput/_38481_810212.jpeg\n",
      "should be saving here: ./augmentOutput/_33388_6460991.jpeg\n",
      "should be saving here: ./augmentOutput/_9439_885907.jpeg\n",
      "should be saving here: ./augmentOutput/_18781_4671722.jpeg\n",
      "should be saving here: ./augmentOutput/_26651_8528954.jpeg\n",
      "should be saving here: ./augmentOutput/_8855_6999753.jpeg\n",
      "should be saving here: ./augmentOutput/_29257_9548663.jpeg\n"
     ]
    },
    {
     "name": "stderr",
     "output_type": "stream",
     "text": [
      "Clipping input data to the valid range for imshow with RGB data ([0..1] for floats or [0..255] for integers).\n"
     ]
    },
    {
     "name": "stdout",
     "output_type": "stream",
     "text": [
      "should be saving here: ./augmentOutput/_28812_812082.jpeg\n",
      "should be saving here: ./augmentOutput/_5732_5190432.jpeg\n",
      "should be saving here: ./augmentOutput/_14471_4109669.jpeg\n",
      "should be saving here: ./augmentOutput/_23755_1581494.jpeg\n",
      "should be saving here: ./augmentOutput/_21138_5221411.jpeg\n",
      "should be saving here: ./augmentOutput/_12651_5803004.jpeg\n",
      "should be saving here: ./augmentOutput/_9076_5578641.jpeg\n",
      "should be saving here: ./augmentOutput/_13449_8180501.jpeg\n",
      "should be saving here: ./augmentOutput/_30819_642664.jpeg\n",
      "should be saving here: ./augmentOutput/_24271_2680125.jpeg\n",
      "should be saving here: ./augmentOutput/_38235_8664248.jpeg\n",
      "should be saving here: ./augmentOutput/_19786_7517587.jpeg\n",
      "should be saving here: ./augmentOutput/_16936_8942601.jpeg\n",
      "should be saving here: ./augmentOutput/_14682_9178023.jpeg\n",
      "should be saving here: ./augmentOutput/_25454_742514.jpeg\n",
      "should be saving here: ./augmentOutput/_7543_3403594.jpeg\n",
      "should be saving here: ./augmentOutput/_32609_9010468.jpeg\n",
      "should be saving here: ./augmentOutput/_5107_5246323.jpeg\n",
      "should be saving here: ./augmentOutput/_13590_7827444.jpeg\n",
      "should be saving here: ./augmentOutput/_5871_1456786.jpeg\n",
      "should be saving here: ./augmentOutput/_22918_5886189.jpeg\n",
      "should be saving here: ./augmentOutput/_4581_2071349.jpeg\n",
      "should be saving here: ./augmentOutput/_20687_8761276.jpeg\n",
      "should be saving here: ./augmentOutput/_9158_4142569.jpeg\n",
      "should be saving here: ./augmentOutput/_16907_3279065.jpeg\n",
      "should be saving here: ./augmentOutput/_33579_5711676.jpeg\n",
      "should be saving here: ./augmentOutput/_8398_1020680.jpeg\n",
      "should be saving here: ./augmentOutput/_6187_9218672.jpeg\n",
      "should be saving here: ./augmentOutput/_39121_1151352.jpeg\n",
      "should be saving here: ./augmentOutput/_7477_5040963.jpeg\n",
      "should be saving here: ./augmentOutput/_13556_7867816.jpeg\n",
      "should be saving here: ./augmentOutput/_4031_5837379.jpeg\n"
     ]
    },
    {
     "name": "stderr",
     "output_type": "stream",
     "text": [
      "Clipping input data to the valid range for imshow with RGB data ([0..1] for floats or [0..255] for integers).\n"
     ]
    },
    {
     "name": "stdout",
     "output_type": "stream",
     "text": [
      "should be saving here: ./augmentOutput/_36610_4802698.jpeg\n",
      "should be saving here: ./augmentOutput/_19757_6208266.jpeg\n",
      "should be saving here: ./augmentOutput/_8074_3991080.jpeg\n",
      "should be saving here: ./augmentOutput/_7591_9814360.jpeg\n",
      "should be saving here: ./augmentOutput/_31401_398529.jpeg\n",
      "should be saving here: ./augmentOutput/_14284_3037863.jpeg\n",
      "should be saving here: ./augmentOutput/_35204_8112687.jpeg\n",
      "should be saving here: ./augmentOutput/_15975_3276372.jpeg\n",
      "should be saving here: ./augmentOutput/_7562_9151142.jpeg\n",
      "should be saving here: ./augmentOutput/_18938_3544321.jpeg\n",
      "should be saving here: ./augmentOutput/_18002_7200396.jpeg\n",
      "should be saving here: ./augmentOutput/_3449_2806372.jpeg\n",
      "should be saving here: ./augmentOutput/_3838_9671372.jpeg\n",
      "should be saving here: ./augmentOutput/_33448_6955276.jpeg\n",
      "should be saving here: ./augmentOutput/_23961_3336480.jpeg\n",
      "should be saving here: ./augmentOutput/_23333_5401202.jpeg\n",
      "should be saving here: ./augmentOutput/_28196_1094368.jpeg\n",
      "should be saving here: ./augmentOutput/_17429_8460501.jpeg\n",
      "should be saving here: ./augmentOutput/_33170_9210847.jpeg\n",
      "should be saving here: ./augmentOutput/_22428_781489.jpeg\n",
      "should be saving here: ./augmentOutput/_36229_3378256.jpeg\n",
      "should be saving here: ./augmentOutput/_22448_8726761.jpeg\n",
      "should be saving here: ./augmentOutput/_6642_6713598.jpeg\n",
      "should be saving here: ./augmentOutput/_7428_8726968.jpeg\n",
      "should be saving here: ./augmentOutput/_21691_7866188.jpeg\n",
      "should be saving here: ./augmentOutput/_81_4136189.jpeg\n",
      "should be saving here: ./augmentOutput/_34156_7733280.jpeg\n",
      "should be saving here: ./augmentOutput/_14435_3481888.jpeg\n",
      "should be saving here: ./augmentOutput/_34705_2576886.jpeg\n",
      "should be saving here: ./augmentOutput/_16330_4259872.jpeg\n",
      "should be saving here: ./augmentOutput/_28685_248177.jpeg\n",
      "should be saving here: ./augmentOutput/_39663_8265560.jpeg\n"
     ]
    },
    {
     "name": "stderr",
     "output_type": "stream",
     "text": [
      "Clipping input data to the valid range for imshow with RGB data ([0..1] for floats or [0..255] for integers).\n"
     ]
    },
    {
     "name": "stdout",
     "output_type": "stream",
     "text": [
      "should be saving here: ./augmentOutput/_33105_5501459.jpeg\n",
      "should be saving here: ./augmentOutput/_13066_7453768.jpeg\n",
      "should be saving here: ./augmentOutput/_38422_8907375.jpeg\n",
      "should be saving here: ./augmentOutput/_27017_9032069.jpeg\n",
      "should be saving here: ./augmentOutput/_3944_1999305.jpeg\n",
      "should be saving here: ./augmentOutput/_20695_3987305.jpeg\n",
      "should be saving here: ./augmentOutput/_7958_6118239.jpeg\n",
      "should be saving here: ./augmentOutput/_17669_6943761.jpeg\n",
      "should be saving here: ./augmentOutput/_32485_2779740.jpeg\n",
      "should be saving here: ./augmentOutput/_23281_6175922.jpeg\n",
      "should be saving here: ./augmentOutput/_29456_2830263.jpeg\n",
      "should be saving here: ./augmentOutput/_23831_7460226.jpeg\n",
      "should be saving here: ./augmentOutput/_27393_8276924.jpeg\n",
      "should be saving here: ./augmentOutput/_31549_2904340.jpeg\n",
      "should be saving here: ./augmentOutput/_24632_8728848.jpeg\n",
      "should be saving here: ./augmentOutput/_16227_1555023.jpeg\n",
      "should be saving here: ./augmentOutput/_29755_1942696.jpeg\n",
      "should be saving here: ./augmentOutput/_17885_9661909.jpeg\n",
      "should be saving here: ./augmentOutput/_26473_9218953.jpeg\n",
      "should be saving here: ./augmentOutput/_18470_7628358.jpeg\n",
      "should be saving here: ./augmentOutput/_30497_1107790.jpeg\n",
      "should be saving here: ./augmentOutput/_5221_6402963.jpeg\n",
      "should be saving here: ./augmentOutput/_24643_4784977.jpeg\n",
      "should be saving here: ./augmentOutput/_39319_8185852.jpeg\n",
      "should be saving here: ./augmentOutput/_26915_6414003.jpeg\n",
      "should be saving here: ./augmentOutput/_26015_8988029.jpeg\n",
      "should be saving here: ./augmentOutput/_13946_9653719.jpeg\n",
      "should be saving here: ./augmentOutput/_2970_4205461.jpeg\n",
      "should be saving here: ./augmentOutput/_23374_4572316.jpeg\n",
      "should be saving here: ./augmentOutput/_3025_9077305.jpeg\n",
      "should be saving here: ./augmentOutput/_27445_5694509.jpeg\n",
      "should be saving here: ./augmentOutput/_32690_6374682.jpeg\n"
     ]
    },
    {
     "name": "stderr",
     "output_type": "stream",
     "text": [
      "Clipping input data to the valid range for imshow with RGB data ([0..1] for floats or [0..255] for integers).\n"
     ]
    },
    {
     "name": "stdout",
     "output_type": "stream",
     "text": [
      "should be saving here: ./augmentOutput/_8834_5724461.jpeg\n",
      "should be saving here: ./augmentOutput/_20041_475397.jpeg\n",
      "should be saving here: ./augmentOutput/_26470_3708360.jpeg\n",
      "should be saving here: ./augmentOutput/_5926_4930265.jpeg\n",
      "should be saving here: ./augmentOutput/_28541_4005687.jpeg\n",
      "should be saving here: ./augmentOutput/_758_2069184.jpeg\n",
      "should be saving here: ./augmentOutput/_1030_8768237.jpeg\n",
      "should be saving here: ./augmentOutput/_22228_3648352.jpeg\n",
      "should be saving here: ./augmentOutput/_12973_7668787.jpeg\n",
      "should be saving here: ./augmentOutput/_26260_8355672.jpeg\n",
      "should be saving here: ./augmentOutput/_27218_1612388.jpeg\n",
      "should be saving here: ./augmentOutput/_20440_915525.jpeg\n",
      "should be saving here: ./augmentOutput/_11298_5262180.jpeg\n",
      "should be saving here: ./augmentOutput/_20551_2158219.jpeg\n",
      "should be saving here: ./augmentOutput/_14271_7687935.jpeg\n",
      "should be saving here: ./augmentOutput/_38843_2431492.jpeg\n",
      "should be saving here: ./augmentOutput/_29790_2650234.jpeg\n",
      "should be saving here: ./augmentOutput/_654_4957862.jpeg\n",
      "should be saving here: ./augmentOutput/_21481_6972440.jpeg\n",
      "should be saving here: ./augmentOutput/_28103_6353388.jpeg\n",
      "should be saving here: ./augmentOutput/_11776_1641309.jpeg\n",
      "should be saving here: ./augmentOutput/_11018_9369485.jpeg\n",
      "should be saving here: ./augmentOutput/_29563_7650.jpeg\n",
      "should be saving here: ./augmentOutput/_19868_6217445.jpeg\n",
      "should be saving here: ./augmentOutput/_31421_5163291.jpeg\n",
      "should be saving here: ./augmentOutput/_18023_6737473.jpeg\n",
      "should be saving here: ./augmentOutput/_32736_9882085.jpeg\n",
      "should be saving here: ./augmentOutput/_26968_8219122.jpeg\n",
      "should be saving here: ./augmentOutput/_34381_9826087.jpeg\n",
      "should be saving here: ./augmentOutput/_20364_5532417.jpeg\n",
      "should be saving here: ./augmentOutput/_37766_5872036.jpeg\n",
      "should be saving here: ./augmentOutput/_38785_8050121.jpeg\n"
     ]
    },
    {
     "name": "stderr",
     "output_type": "stream",
     "text": [
      "Clipping input data to the valid range for imshow with RGB data ([0..1] for floats or [0..255] for integers).\n"
     ]
    },
    {
     "name": "stdout",
     "output_type": "stream",
     "text": [
      "should be saving here: ./augmentOutput/_12694_4751055.jpeg\n",
      "should be saving here: ./augmentOutput/_26763_6007109.jpeg\n",
      "should be saving here: ./augmentOutput/_35369_8959834.jpeg\n",
      "should be saving here: ./augmentOutput/_1653_5566455.jpeg\n",
      "should be saving here: ./augmentOutput/_35755_8282942.jpeg\n",
      "should be saving here: ./augmentOutput/_752_2154478.jpeg\n",
      "should be saving here: ./augmentOutput/_36825_2675488.jpeg\n",
      "should be saving here: ./augmentOutput/_32996_6602972.jpeg\n",
      "should be saving here: ./augmentOutput/_11545_2849493.jpeg\n",
      "should be saving here: ./augmentOutput/_5594_1478190.jpeg\n",
      "should be saving here: ./augmentOutput/_31160_4867168.jpeg\n",
      "should be saving here: ./augmentOutput/_6587_264275.jpeg\n",
      "should be saving here: ./augmentOutput/_9495_3579968.jpeg\n",
      "should be saving here: ./augmentOutput/_11324_6409545.jpeg\n",
      "should be saving here: ./augmentOutput/_24610_2652248.jpeg\n",
      "should be saving here: ./augmentOutput/_20239_3468287.jpeg\n",
      "should be saving here: ./augmentOutput/_33034_1544745.jpeg\n",
      "should be saving here: ./augmentOutput/_34449_8875869.jpeg\n",
      "should be saving here: ./augmentOutput/_26349_9764679.jpeg\n",
      "should be saving here: ./augmentOutput/_22917_6982453.jpeg\n",
      "should be saving here: ./augmentOutput/_37769_4756727.jpeg\n",
      "should be saving here: ./augmentOutput/_31843_6176623.jpeg\n",
      "should be saving here: ./augmentOutput/_21266_3829254.jpeg\n",
      "should be saving here: ./augmentOutput/_26413_9025922.jpeg\n",
      "should be saving here: ./augmentOutput/_34612_8421229.jpeg\n",
      "should be saving here: ./augmentOutput/_36350_8122662.jpeg\n",
      "should be saving here: ./augmentOutput/_30524_4653712.jpeg\n",
      "should be saving here: ./augmentOutput/_17078_3158173.jpeg\n",
      "should be saving here: ./augmentOutput/_20749_8434340.jpeg\n",
      "should be saving here: ./augmentOutput/_16012_9700910.jpeg\n",
      "should be saving here: ./augmentOutput/_18798_9427880.jpeg\n",
      "should be saving here: ./augmentOutput/_26722_7696360.jpeg\n"
     ]
    },
    {
     "name": "stderr",
     "output_type": "stream",
     "text": [
      "Clipping input data to the valid range for imshow with RGB data ([0..1] for floats or [0..255] for integers).\n"
     ]
    },
    {
     "name": "stdout",
     "output_type": "stream",
     "text": [
      "should be saving here: ./augmentOutput/_7774_6490067.jpeg\n",
      "should be saving here: ./augmentOutput/_16093_5482369.jpeg\n",
      "should be saving here: ./augmentOutput/_9523_7126021.jpeg\n",
      "should be saving here: ./augmentOutput/_1721_1440861.jpeg\n",
      "should be saving here: ./augmentOutput/_21234_3361663.jpeg\n",
      "should be saving here: ./augmentOutput/_30356_2003057.jpeg\n",
      "should be saving here: ./augmentOutput/_1660_4764034.jpeg\n",
      "should be saving here: ./augmentOutput/_29669_8415481.jpeg\n",
      "should be saving here: ./augmentOutput/_32180_6869186.jpeg\n",
      "should be saving here: ./augmentOutput/_30894_4410012.jpeg\n",
      "should be saving here: ./augmentOutput/_22284_4045447.jpeg\n",
      "should be saving here: ./augmentOutput/_2154_6410179.jpeg\n",
      "should be saving here: ./augmentOutput/_8522_4880032.jpeg\n",
      "should be saving here: ./augmentOutput/_1567_6972465.jpeg\n",
      "should be saving here: ./augmentOutput/_39592_6947413.jpeg\n",
      "should be saving here: ./augmentOutput/_4511_3213221.jpeg\n",
      "should be saving here: ./augmentOutput/_5142_9123288.jpeg\n",
      "should be saving here: ./augmentOutput/_24159_5407857.jpeg\n",
      "should be saving here: ./augmentOutput/_14000_7520450.jpeg\n",
      "should be saving here: ./augmentOutput/_6466_1195717.jpeg\n",
      "should be saving here: ./augmentOutput/_10623_3018571.jpeg\n",
      "should be saving here: ./augmentOutput/_413_4161196.jpeg\n",
      "should be saving here: ./augmentOutput/_24567_7855898.jpeg\n",
      "should be saving here: ./augmentOutput/_21744_9123985.jpeg\n",
      "should be saving here: ./augmentOutput/_37695_5212969.jpeg\n",
      "should be saving here: ./augmentOutput/_30304_976809.jpeg\n",
      "should be saving here: ./augmentOutput/_36214_4644771.jpeg\n",
      "should be saving here: ./augmentOutput/_480_2440520.jpeg\n",
      "should be saving here: ./augmentOutput/_28803_6002699.jpeg\n",
      "should be saving here: ./augmentOutput/_30308_5413541.jpeg\n",
      "should be saving here: ./augmentOutput/_24369_607848.jpeg\n",
      "should be saving here: ./augmentOutput/_28656_2047732.jpeg\n"
     ]
    },
    {
     "name": "stderr",
     "output_type": "stream",
     "text": [
      "Clipping input data to the valid range for imshow with RGB data ([0..1] for floats or [0..255] for integers).\n"
     ]
    },
    {
     "name": "stdout",
     "output_type": "stream",
     "text": [
      "should be saving here: ./augmentOutput/_39151_1122582.jpeg\n",
      "should be saving here: ./augmentOutput/_7438_382663.jpeg\n",
      "should be saving here: ./augmentOutput/_21752_7307241.jpeg\n",
      "should be saving here: ./augmentOutput/_3253_6115958.jpeg\n",
      "should be saving here: ./augmentOutput/_27794_1514271.jpeg\n",
      "should be saving here: ./augmentOutput/_38986_6907348.jpeg\n",
      "should be saving here: ./augmentOutput/_9279_9795632.jpeg\n",
      "should be saving here: ./augmentOutput/_20927_7522928.jpeg\n",
      "should be saving here: ./augmentOutput/_2333_4275381.jpeg\n",
      "should be saving here: ./augmentOutput/_11483_1466246.jpeg\n",
      "should be saving here: ./augmentOutput/_23191_505800.jpeg\n",
      "should be saving here: ./augmentOutput/_21033_4138833.jpeg\n",
      "should be saving here: ./augmentOutput/_11629_6475399.jpeg\n",
      "should be saving here: ./augmentOutput/_13252_9341340.jpeg\n",
      "should be saving here: ./augmentOutput/_31782_9445445.jpeg\n",
      "should be saving here: ./augmentOutput/_21458_4151002.jpeg\n",
      "should be saving here: ./augmentOutput/_6657_6819330.jpeg\n",
      "should be saving here: ./augmentOutput/_23313_4490896.jpeg\n",
      "should be saving here: ./augmentOutput/_20580_197686.jpeg\n",
      "should be saving here: ./augmentOutput/_33846_2922529.jpeg\n",
      "should be saving here: ./augmentOutput/_5004_8088833.jpeg\n",
      "should be saving here: ./augmentOutput/_36864_5804312.jpeg\n",
      "should be saving here: ./augmentOutput/_32452_879345.jpeg\n",
      "should be saving here: ./augmentOutput/_23330_5900502.jpeg\n",
      "should be saving here: ./augmentOutput/_450_1459273.jpeg\n",
      "should be saving here: ./augmentOutput/_22046_660237.jpeg\n",
      "should be saving here: ./augmentOutput/_16380_5882531.jpeg\n",
      "should be saving here: ./augmentOutput/_2123_6827166.jpeg\n",
      "should be saving here: ./augmentOutput/_39384_2748885.jpeg\n",
      "should be saving here: ./augmentOutput/_21524_8106728.jpeg\n",
      "should be saving here: ./augmentOutput/_36248_1072414.jpeg\n",
      "should be saving here: ./augmentOutput/_13324_1342022.jpeg\n"
     ]
    },
    {
     "name": "stderr",
     "output_type": "stream",
     "text": [
      "Clipping input data to the valid range for imshow with RGB data ([0..1] for floats or [0..255] for integers).\n"
     ]
    },
    {
     "name": "stdout",
     "output_type": "stream",
     "text": [
      "should be saving here: ./augmentOutput/_23637_4842813.jpeg\n",
      "should be saving here: ./augmentOutput/_18843_369496.jpeg\n",
      "should be saving here: ./augmentOutput/_16966_7197711.jpeg\n",
      "should be saving here: ./augmentOutput/_10343_853791.jpeg\n",
      "should be saving here: ./augmentOutput/_36021_3380123.jpeg\n",
      "should be saving here: ./augmentOutput/_1093_7341025.jpeg\n",
      "should be saving here: ./augmentOutput/_31115_9577858.jpeg\n",
      "should be saving here: ./augmentOutput/_22768_4320655.jpeg\n",
      "should be saving here: ./augmentOutput/_7414_2638401.jpeg\n",
      "should be saving here: ./augmentOutput/_24690_2134867.jpeg\n",
      "should be saving here: ./augmentOutput/_20701_9961580.jpeg\n",
      "should be saving here: ./augmentOutput/_35652_3572540.jpeg\n",
      "should be saving here: ./augmentOutput/_30224_5883935.jpeg\n",
      "should be saving here: ./augmentOutput/_34746_1946610.jpeg\n",
      "should be saving here: ./augmentOutput/_8090_9901720.jpeg\n",
      "should be saving here: ./augmentOutput/_19202_2270985.jpeg\n",
      "should be saving here: ./augmentOutput/_30520_252294.jpeg\n",
      "should be saving here: ./augmentOutput/_35898_6879837.jpeg\n",
      "should be saving here: ./augmentOutput/_28708_8339612.jpeg\n",
      "should be saving here: ./augmentOutput/_31197_8107924.jpeg\n",
      "should be saving here: ./augmentOutput/_32566_4869000.jpeg\n",
      "should be saving here: ./augmentOutput/_38054_5315301.jpeg\n",
      "should be saving here: ./augmentOutput/_19639_8386948.jpeg\n",
      "should be saving here: ./augmentOutput/_282_9614130.jpeg\n",
      "should be saving here: ./augmentOutput/_16574_9123804.jpeg\n",
      "should be saving here: ./augmentOutput/_32419_7009735.jpeg\n",
      "should be saving here: ./augmentOutput/_8052_3499297.jpeg\n",
      "should be saving here: ./augmentOutput/_10766_2036427.jpeg\n",
      "should be saving here: ./augmentOutput/_33142_1687212.jpeg\n",
      "should be saving here: ./augmentOutput/_35845_5586707.jpeg\n",
      "should be saving here: ./augmentOutput/_23135_3331629.jpeg\n",
      "should be saving here: ./augmentOutput/_23880_3883375.jpeg\n"
     ]
    },
    {
     "name": "stderr",
     "output_type": "stream",
     "text": [
      "Clipping input data to the valid range for imshow with RGB data ([0..1] for floats or [0..255] for integers).\n"
     ]
    },
    {
     "name": "stdout",
     "output_type": "stream",
     "text": [
      "should be saving here: ./augmentOutput/_5066_6563382.jpeg\n",
      "should be saving here: ./augmentOutput/_19466_214351.jpeg\n",
      "should be saving here: ./augmentOutput/_26435_7467784.jpeg\n",
      "should be saving here: ./augmentOutput/_20324_5314744.jpeg\n",
      "should be saving here: ./augmentOutput/_18165_9871695.jpeg\n",
      "should be saving here: ./augmentOutput/_22678_8199741.jpeg\n",
      "should be saving here: ./augmentOutput/_7953_4087596.jpeg\n",
      "should be saving here: ./augmentOutput/_39050_2324873.jpeg\n",
      "should be saving here: ./augmentOutput/_7608_995952.jpeg\n",
      "should be saving here: ./augmentOutput/_33912_379974.jpeg\n",
      "should be saving here: ./augmentOutput/_372_7093485.jpeg\n",
      "should be saving here: ./augmentOutput/_25383_8129486.jpeg\n",
      "should be saving here: ./augmentOutput/_19207_5335687.jpeg\n",
      "should be saving here: ./augmentOutput/_3375_1125149.jpeg\n",
      "should be saving here: ./augmentOutput/_23928_2477625.jpeg\n",
      "should be saving here: ./augmentOutput/_36217_77786.jpeg\n",
      "should be saving here: ./augmentOutput/_34979_6374358.jpeg\n",
      "should be saving here: ./augmentOutput/_32638_6474545.jpeg\n",
      "should be saving here: ./augmentOutput/_6469_5524391.jpeg\n",
      "should be saving here: ./augmentOutput/_2207_2415894.jpeg\n",
      "should be saving here: ./augmentOutput/_7595_700611.jpeg\n",
      "should be saving here: ./augmentOutput/_23982_4815191.jpeg\n",
      "should be saving here: ./augmentOutput/_33729_4627693.jpeg\n",
      "should be saving here: ./augmentOutput/_19183_9375215.jpeg\n",
      "should be saving here: ./augmentOutput/_10318_9770114.jpeg\n",
      "should be saving here: ./augmentOutput/_8694_5533906.jpeg\n",
      "should be saving here: ./augmentOutput/_1974_1889647.jpeg\n",
      "should be saving here: ./augmentOutput/_27328_4654466.jpeg\n",
      "should be saving here: ./augmentOutput/_39260_9723449.jpeg\n",
      "should be saving here: ./augmentOutput/_6002_3182468.jpeg\n",
      "should be saving here: ./augmentOutput/_25522_418695.jpeg\n",
      "should be saving here: ./augmentOutput/_1172_6259765.jpeg\n"
     ]
    },
    {
     "name": "stderr",
     "output_type": "stream",
     "text": [
      "Clipping input data to the valid range for imshow with RGB data ([0..1] for floats or [0..255] for integers).\n"
     ]
    },
    {
     "name": "stdout",
     "output_type": "stream",
     "text": [
      "should be saving here: ./augmentOutput/_31533_2079341.jpeg\n",
      "should be saving here: ./augmentOutput/_10672_673258.jpeg\n",
      "should be saving here: ./augmentOutput/_33454_9143889.jpeg\n",
      "should be saving here: ./augmentOutput/_13962_9821919.jpeg\n",
      "should be saving here: ./augmentOutput/_27717_4796017.jpeg\n",
      "should be saving here: ./augmentOutput/_17658_6964653.jpeg\n",
      "should be saving here: ./augmentOutput/_8156_4424841.jpeg\n",
      "should be saving here: ./augmentOutput/_25458_2528117.jpeg\n",
      "should be saving here: ./augmentOutput/_4166_1044375.jpeg\n",
      "should be saving here: ./augmentOutput/_6944_8834279.jpeg\n",
      "should be saving here: ./augmentOutput/_39650_8880254.jpeg\n",
      "should be saving here: ./augmentOutput/_6388_7167074.jpeg\n",
      "should be saving here: ./augmentOutput/_17123_3217507.jpeg\n",
      "should be saving here: ./augmentOutput/_39427_9804039.jpeg\n",
      "should be saving here: ./augmentOutput/_646_7996979.jpeg\n",
      "should be saving here: ./augmentOutput/_21441_9312147.jpeg\n",
      "should be saving here: ./augmentOutput/_33584_5444359.jpeg\n",
      "should be saving here: ./augmentOutput/_33732_8297215.jpeg\n",
      "should be saving here: ./augmentOutput/_32135_6248670.jpeg\n",
      "should be saving here: ./augmentOutput/_30154_8149675.jpeg\n",
      "should be saving here: ./augmentOutput/_29442_3316353.jpeg\n",
      "should be saving here: ./augmentOutput/_11847_4757473.jpeg\n",
      "should be saving here: ./augmentOutput/_39011_8454426.jpeg\n",
      "should be saving here: ./augmentOutput/_21311_3235624.jpeg\n",
      "should be saving here: ./augmentOutput/_27101_1100893.jpeg\n",
      "should be saving here: ./augmentOutput/_35618_5194800.jpeg\n",
      "should be saving here: ./augmentOutput/_25971_5288877.jpeg\n",
      "should be saving here: ./augmentOutput/_12978_8381441.jpeg\n",
      "should be saving here: ./augmentOutput/_39857_9698892.jpeg\n",
      "should be saving here: ./augmentOutput/_25468_5661771.jpeg\n",
      "should be saving here: ./augmentOutput/_34250_3147597.jpeg\n",
      "should be saving here: ./augmentOutput/_25190_1059742.jpeg\n"
     ]
    },
    {
     "name": "stderr",
     "output_type": "stream",
     "text": [
      "Clipping input data to the valid range for imshow with RGB data ([0..1] for floats or [0..255] for integers).\n"
     ]
    },
    {
     "name": "stdout",
     "output_type": "stream",
     "text": [
      "should be saving here: ./augmentOutput/_35480_8510115.jpeg\n",
      "should be saving here: ./augmentOutput/_32505_7738909.jpeg\n",
      "should be saving here: ./augmentOutput/_37460_5161019.jpeg\n",
      "should be saving here: ./augmentOutput/_5250_5360432.jpeg\n",
      "should be saving here: ./augmentOutput/_14770_3362874.jpeg\n",
      "should be saving here: ./augmentOutput/_35274_947100.jpeg\n",
      "should be saving here: ./augmentOutput/_37837_7654925.jpeg\n",
      "should be saving here: ./augmentOutput/_32843_9531778.jpeg\n",
      "should be saving here: ./augmentOutput/_35206_7011775.jpeg\n",
      "should be saving here: ./augmentOutput/_36001_9183188.jpeg\n",
      "should be saving here: ./augmentOutput/_12534_5445203.jpeg\n",
      "should be saving here: ./augmentOutput/_1210_2845533.jpeg\n",
      "should be saving here: ./augmentOutput/_25845_7806617.jpeg\n",
      "should be saving here: ./augmentOutput/_2497_3152846.jpeg\n",
      "should be saving here: ./augmentOutput/_25968_8757350.jpeg\n",
      "should be saving here: ./augmentOutput/_23186_861557.jpeg\n",
      "should be saving here: ./augmentOutput/_6557_1788627.jpeg\n",
      "should be saving here: ./augmentOutput/_25544_5700607.jpeg\n",
      "should be saving here: ./augmentOutput/_14404_7355153.jpeg\n",
      "should be saving here: ./augmentOutput/_22288_4888114.jpeg\n",
      "should be saving here: ./augmentOutput/_4876_3011407.jpeg\n",
      "should be saving here: ./augmentOutput/_5336_9369519.jpeg\n",
      "should be saving here: ./augmentOutput/_2900_8837754.jpeg\n",
      "should be saving here: ./augmentOutput/_16871_363093.jpeg\n",
      "should be saving here: ./augmentOutput/_3104_4735610.jpeg\n",
      "should be saving here: ./augmentOutput/_10016_145318.jpeg\n",
      "should be saving here: ./augmentOutput/_28116_554751.jpeg\n",
      "should be saving here: ./augmentOutput/_27313_453139.jpeg\n",
      "should be saving here: ./augmentOutput/_16926_9810992.jpeg\n",
      "should be saving here: ./augmentOutput/_34882_4331288.jpeg\n",
      "should be saving here: ./augmentOutput/_21787_2898836.jpeg\n",
      "should be saving here: ./augmentOutput/_22460_5552907.jpeg\n"
     ]
    },
    {
     "name": "stderr",
     "output_type": "stream",
     "text": [
      "Clipping input data to the valid range for imshow with RGB data ([0..1] for floats or [0..255] for integers).\n"
     ]
    },
    {
     "name": "stdout",
     "output_type": "stream",
     "text": [
      "should be saving here: ./augmentOutput/_28761_6082727.jpeg\n",
      "should be saving here: ./augmentOutput/_4824_1918403.jpeg\n",
      "should be saving here: ./augmentOutput/_25960_8930270.jpeg\n",
      "should be saving here: ./augmentOutput/_7831_633667.jpeg\n",
      "should be saving here: ./augmentOutput/_25016_7489683.jpeg\n",
      "should be saving here: ./augmentOutput/_8289_9310114.jpeg\n",
      "should be saving here: ./augmentOutput/_26801_7748288.jpeg\n",
      "should be saving here: ./augmentOutput/_38247_364885.jpeg\n",
      "should be saving here: ./augmentOutput/_8390_2032992.jpeg\n",
      "should be saving here: ./augmentOutput/_2522_7742891.jpeg\n",
      "should be saving here: ./augmentOutput/_38107_6165809.jpeg\n",
      "should be saving here: ./augmentOutput/_11389_8413564.jpeg\n",
      "should be saving here: ./augmentOutput/_26687_1415497.jpeg\n",
      "should be saving here: ./augmentOutput/_16851_6759563.jpeg\n",
      "should be saving here: ./augmentOutput/_7278_5172259.jpeg\n",
      "should be saving here: ./augmentOutput/_39842_7921645.jpeg\n",
      "should be saving here: ./augmentOutput/_8191_3566813.jpeg\n",
      "should be saving here: ./augmentOutput/_12877_8862687.jpeg\n",
      "should be saving here: ./augmentOutput/_3778_9567378.jpeg\n",
      "should be saving here: ./augmentOutput/_23184_3278784.jpeg\n",
      "should be saving here: ./augmentOutput/_18860_1898223.jpeg\n",
      "should be saving here: ./augmentOutput/_17178_6058990.jpeg\n",
      "should be saving here: ./augmentOutput/_28137_8162979.jpeg\n",
      "should be saving here: ./augmentOutput/_9119_5518069.jpeg\n",
      "should be saving here: ./augmentOutput/_15818_1838521.jpeg\n",
      "should be saving here: ./augmentOutput/_33324_1972842.jpeg\n",
      "should be saving here: ./augmentOutput/_25414_4015365.jpeg\n",
      "should be saving here: ./augmentOutput/_14647_3002205.jpeg\n",
      "should be saving here: ./augmentOutput/_24149_9640730.jpeg\n",
      "should be saving here: ./augmentOutput/_3322_8313147.jpeg\n",
      "should be saving here: ./augmentOutput/_2211_9489608.jpeg\n",
      "should be saving here: ./augmentOutput/_1775_1750859.jpeg\n"
     ]
    },
    {
     "name": "stderr",
     "output_type": "stream",
     "text": [
      "Clipping input data to the valid range for imshow with RGB data ([0..1] for floats or [0..255] for integers).\n"
     ]
    },
    {
     "name": "stdout",
     "output_type": "stream",
     "text": [
      "should be saving here: ./augmentOutput/_14122_1529186.jpeg\n",
      "should be saving here: ./augmentOutput/_29157_3706241.jpeg\n",
      "should be saving here: ./augmentOutput/_4753_1861381.jpeg\n",
      "should be saving here: ./augmentOutput/_39610_3574924.jpeg\n",
      "should be saving here: ./augmentOutput/_4261_4207382.jpeg\n",
      "should be saving here: ./augmentOutput/_35914_9747061.jpeg\n",
      "should be saving here: ./augmentOutput/_22289_9655547.jpeg\n",
      "should be saving here: ./augmentOutput/_33628_5815734.jpeg\n",
      "should be saving here: ./augmentOutput/_33708_1513536.jpeg\n",
      "should be saving here: ./augmentOutput/_11713_1930273.jpeg\n",
      "should be saving here: ./augmentOutput/_5615_3149938.jpeg\n",
      "should be saving here: ./augmentOutput/_30613_8980441.jpeg\n",
      "should be saving here: ./augmentOutput/_15198_7123412.jpeg\n",
      "should be saving here: ./augmentOutput/_8563_9928304.jpeg\n",
      "should be saving here: ./augmentOutput/_25687_3407230.jpeg\n",
      "should be saving here: ./augmentOutput/_34699_4949686.jpeg\n",
      "should be saving here: ./augmentOutput/_18397_7137961.jpeg\n",
      "should be saving here: ./augmentOutput/_4062_6254885.jpeg\n",
      "should be saving here: ./augmentOutput/_21220_9536378.jpeg\n",
      "should be saving here: ./augmentOutput/_32617_7948279.jpeg\n",
      "should be saving here: ./augmentOutput/_21317_7076515.jpeg\n",
      "should be saving here: ./augmentOutput/_4778_5921083.jpeg\n",
      "should be saving here: ./augmentOutput/_7864_7137179.jpeg\n",
      "should be saving here: ./augmentOutput/_24884_1774812.jpeg\n",
      "should be saving here: ./augmentOutput/_27047_4269204.jpeg\n",
      "should be saving here: ./augmentOutput/_18870_274683.jpeg\n",
      "should be saving here: ./augmentOutput/_39491_5781950.jpeg\n",
      "should be saving here: ./augmentOutput/_2724_419000.jpeg\n",
      "should be saving here: ./augmentOutput/_37366_7928782.jpeg\n",
      "should be saving here: ./augmentOutput/_23277_9319580.jpeg\n",
      "should be saving here: ./augmentOutput/_38977_132223.jpeg\n",
      "should be saving here: ./augmentOutput/_5595_1577980.jpeg\n"
     ]
    },
    {
     "name": "stderr",
     "output_type": "stream",
     "text": [
      "Clipping input data to the valid range for imshow with RGB data ([0..1] for floats or [0..255] for integers).\n"
     ]
    },
    {
     "name": "stdout",
     "output_type": "stream",
     "text": [
      "should be saving here: ./augmentOutput/_38947_5994889.jpeg\n",
      "should be saving here: ./augmentOutput/_4076_4565360.jpeg\n",
      "should be saving here: ./augmentOutput/_24721_1676606.jpeg\n",
      "should be saving here: ./augmentOutput/_21111_1608836.jpeg\n",
      "should be saving here: ./augmentOutput/_12642_8132040.jpeg\n",
      "should be saving here: ./augmentOutput/_29238_3846944.jpeg\n",
      "should be saving here: ./augmentOutput/_32355_4319796.jpeg\n",
      "should be saving here: ./augmentOutput/_29146_9752653.jpeg\n",
      "should be saving here: ./augmentOutput/_15552_9970169.jpeg\n",
      "should be saving here: ./augmentOutput/_16556_4783107.jpeg\n",
      "should be saving here: ./augmentOutput/_33811_87589.jpeg\n",
      "should be saving here: ./augmentOutput/_33915_8409502.jpeg\n",
      "should be saving here: ./augmentOutput/_14801_6487847.jpeg\n",
      "should be saving here: ./augmentOutput/_8449_6954458.jpeg\n",
      "should be saving here: ./augmentOutput/_32814_7626592.jpeg\n",
      "should be saving here: ./augmentOutput/_17995_86609.jpeg\n",
      "should be saving here: ./augmentOutput/_14714_6899045.jpeg\n",
      "should be saving here: ./augmentOutput/_13758_7251.jpeg\n",
      "should be saving here: ./augmentOutput/_4497_3153819.jpeg\n",
      "should be saving here: ./augmentOutput/_23411_8964075.jpeg\n",
      "should be saving here: ./augmentOutput/_3809_21346.jpeg\n",
      "should be saving here: ./augmentOutput/_12473_6429216.jpeg\n",
      "should be saving here: ./augmentOutput/_16388_963632.jpeg\n",
      "should be saving here: ./augmentOutput/_31070_1820987.jpeg\n",
      "should be saving here: ./augmentOutput/_33615_480512.jpeg\n",
      "should be saving here: ./augmentOutput/_7965_2724995.jpeg\n",
      "should be saving here: ./augmentOutput/_4347_2258181.jpeg\n",
      "should be saving here: ./augmentOutput/_37259_9708399.jpeg\n",
      "should be saving here: ./augmentOutput/_24760_9765615.jpeg\n",
      "should be saving here: ./augmentOutput/_38819_6534428.jpeg\n",
      "should be saving here: ./augmentOutput/_33821_7741030.jpeg\n",
      "should be saving here: ./augmentOutput/_18995_7656126.jpeg\n"
     ]
    },
    {
     "name": "stderr",
     "output_type": "stream",
     "text": [
      "Clipping input data to the valid range for imshow with RGB data ([0..1] for floats or [0..255] for integers).\n"
     ]
    },
    {
     "name": "stdout",
     "output_type": "stream",
     "text": [
      "should be saving here: ./augmentOutput/_2983_7269831.jpeg\n",
      "should be saving here: ./augmentOutput/_18282_3601604.jpeg\n",
      "should be saving here: ./augmentOutput/_4537_556998.jpeg\n",
      "should be saving here: ./augmentOutput/_13485_271639.jpeg\n",
      "should be saving here: ./augmentOutput/_38261_1372151.jpeg\n",
      "should be saving here: ./augmentOutput/_13465_6300267.jpeg\n",
      "should be saving here: ./augmentOutput/_37001_4626437.jpeg\n",
      "should be saving here: ./augmentOutput/_26629_9550060.jpeg\n",
      "should be saving here: ./augmentOutput/_36944_2069165.jpeg\n",
      "should be saving here: ./augmentOutput/_23287_5496661.jpeg\n",
      "should be saving here: ./augmentOutput/_31827_5512054.jpeg\n",
      "should be saving here: ./augmentOutput/_11116_3178444.jpeg\n",
      "should be saving here: ./augmentOutput/_4095_9012530.jpeg\n",
      "should be saving here: ./augmentOutput/_36586_1939180.jpeg\n",
      "should be saving here: ./augmentOutput/_38656_608158.jpeg\n",
      "should be saving here: ./augmentOutput/_1953_7500753.jpeg\n",
      "should be saving here: ./augmentOutput/_18934_2111027.jpeg\n",
      "should be saving here: ./augmentOutput/_17934_3398294.jpeg\n",
      "should be saving here: ./augmentOutput/_21110_146480.jpeg\n",
      "should be saving here: ./augmentOutput/_18636_420118.jpeg\n",
      "should be saving here: ./augmentOutput/_30347_285247.jpeg\n",
      "should be saving here: ./augmentOutput/_27020_8849440.jpeg\n",
      "should be saving here: ./augmentOutput/_32145_4603397.jpeg\n",
      "should be saving here: ./augmentOutput/_23431_6068160.jpeg\n",
      "should be saving here: ./augmentOutput/_15753_3690776.jpeg\n",
      "should be saving here: ./augmentOutput/_2571_8560011.jpeg\n",
      "should be saving here: ./augmentOutput/_30512_4770071.jpeg\n",
      "should be saving here: ./augmentOutput/_36250_7552797.jpeg\n",
      "should be saving here: ./augmentOutput/_3072_5873720.jpeg\n",
      "should be saving here: ./augmentOutput/_39579_4388992.jpeg\n",
      "should be saving here: ./augmentOutput/_16730_2822711.jpeg\n",
      "should be saving here: ./augmentOutput/_1742_4771761.jpeg\n"
     ]
    },
    {
     "name": "stderr",
     "output_type": "stream",
     "text": [
      "Clipping input data to the valid range for imshow with RGB data ([0..1] for floats or [0..255] for integers).\n"
     ]
    },
    {
     "name": "stdout",
     "output_type": "stream",
     "text": [
      "should be saving here: ./augmentOutput/_5709_9961914.jpeg\n",
      "should be saving here: ./augmentOutput/_23926_2842147.jpeg\n",
      "should be saving here: ./augmentOutput/_36252_3339209.jpeg\n",
      "should be saving here: ./augmentOutput/_6096_8072678.jpeg\n",
      "should be saving here: ./augmentOutput/_6370_4595391.jpeg\n",
      "should be saving here: ./augmentOutput/_8822_6270469.jpeg\n",
      "should be saving here: ./augmentOutput/_15649_404800.jpeg\n",
      "should be saving here: ./augmentOutput/_36357_1631035.jpeg\n",
      "should be saving here: ./augmentOutput/_35731_3448163.jpeg\n",
      "should be saving here: ./augmentOutput/_13078_8972747.jpeg\n",
      "should be saving here: ./augmentOutput/_15209_2251363.jpeg\n",
      "should be saving here: ./augmentOutput/_10297_6431176.jpeg\n",
      "should be saving here: ./augmentOutput/_38209_9689007.jpeg\n",
      "should be saving here: ./augmentOutput/_34107_4060876.jpeg\n",
      "should be saving here: ./augmentOutput/_24503_4454779.jpeg\n",
      "should be saving here: ./augmentOutput/_23160_1594938.jpeg\n",
      "should be saving here: ./augmentOutput/_31267_290905.jpeg\n",
      "should be saving here: ./augmentOutput/_36518_8874349.jpeg\n",
      "should be saving here: ./augmentOutput/_20032_7218262.jpeg\n",
      "should be saving here: ./augmentOutput/_37865_4634069.jpeg\n",
      "should be saving here: ./augmentOutput/_35584_4759014.jpeg\n",
      "should be saving here: ./augmentOutput/_1387_238865.jpeg\n",
      "should be saving here: ./augmentOutput/_14239_4887891.jpeg\n",
      "should be saving here: ./augmentOutput/_31584_9088545.jpeg\n",
      "should be saving here: ./augmentOutput/_33887_6792490.jpeg\n",
      "should be saving here: ./augmentOutput/_7661_7378111.jpeg\n",
      "should be saving here: ./augmentOutput/_39344_6498254.jpeg\n",
      "should be saving here: ./augmentOutput/_16978_5424705.jpeg\n",
      "should be saving here: ./augmentOutput/_36445_345705.jpeg\n",
      "should be saving here: ./augmentOutput/_20738_828184.jpeg\n",
      "should be saving here: ./augmentOutput/_18678_7299011.jpeg\n",
      "should be saving here: ./augmentOutput/_29485_2392454.jpeg\n"
     ]
    },
    {
     "name": "stderr",
     "output_type": "stream",
     "text": [
      "Clipping input data to the valid range for imshow with RGB data ([0..1] for floats or [0..255] for integers).\n"
     ]
    },
    {
     "name": "stdout",
     "output_type": "stream",
     "text": [
      "should be saving here: ./augmentOutput/_5873_5724352.jpeg\n",
      "should be saving here: ./augmentOutput/_8665_4199825.jpeg\n",
      "should be saving here: ./augmentOutput/_19950_171837.jpeg\n",
      "should be saving here: ./augmentOutput/_39729_2773683.jpeg\n",
      "should be saving here: ./augmentOutput/_30759_6808494.jpeg\n",
      "should be saving here: ./augmentOutput/_18547_754553.jpeg\n",
      "should be saving here: ./augmentOutput/_18049_9514899.jpeg\n",
      "should be saving here: ./augmentOutput/_1226_9144237.jpeg\n",
      "should be saving here: ./augmentOutput/_20669_3944882.jpeg\n",
      "should be saving here: ./augmentOutput/_38934_5851707.jpeg\n",
      "should be saving here: ./augmentOutput/_33397_5982609.jpeg\n",
      "should be saving here: ./augmentOutput/_34023_6409359.jpeg\n",
      "should be saving here: ./augmentOutput/_21749_1118582.jpeg\n",
      "should be saving here: ./augmentOutput/_11176_8068312.jpeg\n",
      "should be saving here: ./augmentOutput/_1209_9699319.jpeg\n",
      "should be saving here: ./augmentOutput/_9569_6400783.jpeg\n",
      "should be saving here: ./augmentOutput/_39038_6207929.jpeg\n",
      "should be saving here: ./augmentOutput/_39215_637482.jpeg\n",
      "should be saving here: ./augmentOutput/_4732_2256534.jpeg\n",
      "should be saving here: ./augmentOutput/_6401_4760985.jpeg\n",
      "should be saving here: ./augmentOutput/_24489_4020023.jpeg\n",
      "should be saving here: ./augmentOutput/_28853_2731759.jpeg\n",
      "should be saving here: ./augmentOutput/_17494_8388570.jpeg\n",
      "should be saving here: ./augmentOutput/_12020_7968981.jpeg\n",
      "should be saving here: ./augmentOutput/_3811_2232512.jpeg\n",
      "should be saving here: ./augmentOutput/_20008_7264582.jpeg\n",
      "should be saving here: ./augmentOutput/_33600_2839774.jpeg\n",
      "should be saving here: ./augmentOutput/_27824_1938337.jpeg\n",
      "should be saving here: ./augmentOutput/_21733_9476834.jpeg\n",
      "should be saving here: ./augmentOutput/_13030_9468279.jpeg\n",
      "should be saving here: ./augmentOutput/_10224_5678431.jpeg\n",
      "should be saving here: ./augmentOutput/_5628_5282705.jpeg\n"
     ]
    },
    {
     "name": "stderr",
     "output_type": "stream",
     "text": [
      "Clipping input data to the valid range for imshow with RGB data ([0..1] for floats or [0..255] for integers).\n"
     ]
    },
    {
     "name": "stdout",
     "output_type": "stream",
     "text": [
      "should be saving here: ./augmentOutput/_3212_2006660.jpeg\n",
      "should be saving here: ./augmentOutput/_8223_9063480.jpeg\n",
      "should be saving here: ./augmentOutput/_10553_5381077.jpeg\n",
      "should be saving here: ./augmentOutput/_25714_253619.jpeg\n",
      "should be saving here: ./augmentOutput/_8456_417452.jpeg\n",
      "should be saving here: ./augmentOutput/_37585_7613656.jpeg\n",
      "should be saving here: ./augmentOutput/_17558_6681584.jpeg\n",
      "should be saving here: ./augmentOutput/_39469_7316265.jpeg\n",
      "should be saving here: ./augmentOutput/_31578_5420214.jpeg\n",
      "should be saving here: ./augmentOutput/_7687_3342838.jpeg\n",
      "should be saving here: ./augmentOutput/_15217_4770149.jpeg\n",
      "should be saving here: ./augmentOutput/_7281_2107057.jpeg\n",
      "should be saving here: ./augmentOutput/_15002_2600296.jpeg\n",
      "should be saving here: ./augmentOutput/_38368_8272577.jpeg\n",
      "should be saving here: ./augmentOutput/_6029_2045539.jpeg\n",
      "should be saving here: ./augmentOutput/_27857_754751.jpeg\n",
      "should be saving here: ./augmentOutput/_9983_7577218.jpeg\n",
      "should be saving here: ./augmentOutput/_16782_5220105.jpeg\n",
      "should be saving here: ./augmentOutput/_17296_8728945.jpeg\n",
      "should be saving here: ./augmentOutput/_928_732702.jpeg\n",
      "should be saving here: ./augmentOutput/_3547_1134775.jpeg\n",
      "should be saving here: ./augmentOutput/_23180_9185553.jpeg\n",
      "should be saving here: ./augmentOutput/_16808_8096780.jpeg\n",
      "should be saving here: ./augmentOutput/_33941_6855032.jpeg\n",
      "should be saving here: ./augmentOutput/_18293_2471160.jpeg\n",
      "should be saving here: ./augmentOutput/_18718_6001187.jpeg\n",
      "should be saving here: ./augmentOutput/_15487_2461664.jpeg\n",
      "should be saving here: ./augmentOutput/_38595_819469.jpeg\n",
      "should be saving here: ./augmentOutput/_6678_9777120.jpeg\n",
      "should be saving here: ./augmentOutput/_931_7019874.jpeg\n",
      "should be saving here: ./augmentOutput/_10991_1521911.jpeg\n",
      "should be saving here: ./augmentOutput/_39461_8926150.jpeg\n"
     ]
    },
    {
     "name": "stderr",
     "output_type": "stream",
     "text": [
      "Clipping input data to the valid range for imshow with RGB data ([0..1] for floats or [0..255] for integers).\n"
     ]
    },
    {
     "name": "stdout",
     "output_type": "stream",
     "text": [
      "should be saving here: ./augmentOutput/_15168_1604523.jpeg\n",
      "should be saving here: ./augmentOutput/_28063_8046290.jpeg\n",
      "should be saving here: ./augmentOutput/_37156_8684869.jpeg\n",
      "should be saving here: ./augmentOutput/_12118_9055881.jpeg\n",
      "should be saving here: ./augmentOutput/_35418_9337469.jpeg\n",
      "should be saving here: ./augmentOutput/_28548_9501898.jpeg\n",
      "should be saving here: ./augmentOutput/_19199_3180959.jpeg\n",
      "should be saving here: ./augmentOutput/_13557_1548367.jpeg\n",
      "should be saving here: ./augmentOutput/_17846_3642097.jpeg\n",
      "should be saving here: ./augmentOutput/_10220_4273679.jpeg\n",
      "should be saving here: ./augmentOutput/_31996_4525418.jpeg\n",
      "should be saving here: ./augmentOutput/_3737_6624250.jpeg\n",
      "should be saving here: ./augmentOutput/_13722_8401154.jpeg\n",
      "should be saving here: ./augmentOutput/_37376_5410672.jpeg\n",
      "should be saving here: ./augmentOutput/_14249_5477171.jpeg\n",
      "should be saving here: ./augmentOutput/_13100_8826756.jpeg\n",
      "should be saving here: ./augmentOutput/_1490_5389428.jpeg\n",
      "should be saving here: ./augmentOutput/_15332_8030351.jpeg\n",
      "should be saving here: ./augmentOutput/_20743_1957744.jpeg\n",
      "should be saving here: ./augmentOutput/_13295_8043471.jpeg\n",
      "should be saving here: ./augmentOutput/_29229_9849322.jpeg\n",
      "should be saving here: ./augmentOutput/_1103_5510576.jpeg\n",
      "should be saving here: ./augmentOutput/_63_1577970.jpeg\n",
      "should be saving here: ./augmentOutput/_16757_2779534.jpeg\n",
      "should be saving here: ./augmentOutput/_29847_6122746.jpeg\n",
      "should be saving here: ./augmentOutput/_15356_5794966.jpeg\n",
      "should be saving here: ./augmentOutput/_21439_8783707.jpeg\n",
      "should be saving here: ./augmentOutput/_23464_2606690.jpeg\n",
      "should be saving here: ./augmentOutput/_4725_4617929.jpeg\n",
      "should be saving here: ./augmentOutput/_27991_2061084.jpeg\n",
      "should be saving here: ./augmentOutput/_35380_4164167.jpeg\n",
      "should be saving here: ./augmentOutput/_27982_5219067.jpeg\n"
     ]
    },
    {
     "name": "stderr",
     "output_type": "stream",
     "text": [
      "Clipping input data to the valid range for imshow with RGB data ([0..1] for floats or [0..255] for integers).\n"
     ]
    },
    {
     "name": "stdout",
     "output_type": "stream",
     "text": [
      "should be saving here: ./augmentOutput/_20393_4245804.jpeg\n",
      "should be saving here: ./augmentOutput/_33634_2658351.jpeg\n",
      "should be saving here: ./augmentOutput/_20614_4176393.jpeg\n",
      "should be saving here: ./augmentOutput/_6860_9289347.jpeg\n",
      "should be saving here: ./augmentOutput/_5079_9187646.jpeg\n",
      "should be saving here: ./augmentOutput/_25944_8137988.jpeg\n",
      "should be saving here: ./augmentOutput/_36936_9731758.jpeg\n",
      "should be saving here: ./augmentOutput/_31174_2754105.jpeg\n",
      "should be saving here: ./augmentOutput/_682_221291.jpeg\n",
      "should be saving here: ./augmentOutput/_24779_2223845.jpeg\n",
      "should be saving here: ./augmentOutput/_6660_254749.jpeg\n",
      "should be saving here: ./augmentOutput/_34863_219539.jpeg\n",
      "should be saving here: ./augmentOutput/_19857_8098785.jpeg\n",
      "should be saving here: ./augmentOutput/_30586_2724755.jpeg\n",
      "should be saving here: ./augmentOutput/_28690_5625939.jpeg\n",
      "should be saving here: ./augmentOutput/_19630_9542367.jpeg\n",
      "should be saving here: ./augmentOutput/_2047_5085405.jpeg\n",
      "should be saving here: ./augmentOutput/_9032_3297319.jpeg\n",
      "should be saving here: ./augmentOutput/_6402_1671277.jpeg\n",
      "should be saving here: ./augmentOutput/_6881_1596333.jpeg\n",
      "should be saving here: ./augmentOutput/_23310_7889595.jpeg\n",
      "should be saving here: ./augmentOutput/_30405_7808798.jpeg\n",
      "should be saving here: ./augmentOutput/_18467_7605656.jpeg\n",
      "should be saving here: ./augmentOutput/_19413_3347221.jpeg\n",
      "should be saving here: ./augmentOutput/_5466_3459846.jpeg\n",
      "should be saving here: ./augmentOutput/_23575_6490210.jpeg\n",
      "should be saving here: ./augmentOutput/_24379_1152344.jpeg\n",
      "should be saving here: ./augmentOutput/_13194_5028907.jpeg\n",
      "should be saving here: ./augmentOutput/_28047_1058426.jpeg\n",
      "should be saving here: ./augmentOutput/_38120_9379536.jpeg\n",
      "should be saving here: ./augmentOutput/_7871_3869766.jpeg\n",
      "should be saving here: ./augmentOutput/_1328_8073696.jpeg\n"
     ]
    },
    {
     "name": "stderr",
     "output_type": "stream",
     "text": [
      "Clipping input data to the valid range for imshow with RGB data ([0..1] for floats or [0..255] for integers).\n"
     ]
    },
    {
     "name": "stdout",
     "output_type": "stream",
     "text": [
      "should be saving here: ./augmentOutput/_38613_1739482.jpeg\n",
      "should be saving here: ./augmentOutput/_6393_3415718.jpeg\n",
      "should be saving here: ./augmentOutput/_27626_6709784.jpeg\n",
      "should be saving here: ./augmentOutput/_18834_1900970.jpeg\n",
      "should be saving here: ./augmentOutput/_15731_8903253.jpeg\n",
      "should be saving here: ./augmentOutput/_5378_4633039.jpeg\n",
      "should be saving here: ./augmentOutput/_20473_1869242.jpeg\n",
      "should be saving here: ./augmentOutput/_25099_3197115.jpeg\n",
      "should be saving here: ./augmentOutput/_10755_5056213.jpeg\n",
      "should be saving here: ./augmentOutput/_26247_9070478.jpeg\n",
      "should be saving here: ./augmentOutput/_1927_1017191.jpeg\n",
      "should be saving here: ./augmentOutput/_16494_3678398.jpeg\n",
      "should be saving here: ./augmentOutput/_24315_6189492.jpeg\n",
      "should be saving here: ./augmentOutput/_27588_6148501.jpeg\n",
      "should be saving here: ./augmentOutput/_27481_9383612.jpeg\n",
      "should be saving here: ./augmentOutput/_26169_3015362.jpeg\n",
      "should be saving here: ./augmentOutput/_21626_5363171.jpeg\n",
      "should be saving here: ./augmentOutput/_6128_121421.jpeg\n",
      "should be saving here: ./augmentOutput/_17786_4618866.jpeg\n",
      "should be saving here: ./augmentOutput/_11860_8743587.jpeg\n",
      "should be saving here: ./augmentOutput/_31171_8364032.jpeg\n",
      "should be saving here: ./augmentOutput/_31601_772371.jpeg\n",
      "should be saving here: ./augmentOutput/_31041_5803015.jpeg\n",
      "should be saving here: ./augmentOutput/_18822_4889588.jpeg\n",
      "should be saving here: ./augmentOutput/_16193_5416075.jpeg\n",
      "should be saving here: ./augmentOutput/_38503_9883521.jpeg\n",
      "should be saving here: ./augmentOutput/_6238_1492963.jpeg\n",
      "should be saving here: ./augmentOutput/_26479_9533525.jpeg\n",
      "should be saving here: ./augmentOutput/_39283_3564572.jpeg\n",
      "should be saving here: ./augmentOutput/_34936_2028475.jpeg\n",
      "should be saving here: ./augmentOutput/_36697_2247087.jpeg\n",
      "should be saving here: ./augmentOutput/_39006_4776399.jpeg\n"
     ]
    },
    {
     "name": "stderr",
     "output_type": "stream",
     "text": [
      "Clipping input data to the valid range for imshow with RGB data ([0..1] for floats or [0..255] for integers).\n"
     ]
    },
    {
     "name": "stdout",
     "output_type": "stream",
     "text": [
      "should be saving here: ./augmentOutput/_3252_1234735.jpeg\n",
      "should be saving here: ./augmentOutput/_17693_3992481.jpeg\n",
      "should be saving here: ./augmentOutput/_18677_103724.jpeg\n",
      "should be saving here: ./augmentOutput/_6092_3894844.jpeg\n",
      "should be saving here: ./augmentOutput/_4501_7927959.jpeg\n",
      "should be saving here: ./augmentOutput/_8718_6627508.jpeg\n",
      "should be saving here: ./augmentOutput/_38008_7736276.jpeg\n",
      "should be saving here: ./augmentOutput/_22872_8071099.jpeg\n",
      "should be saving here: ./augmentOutput/_21561_6306809.jpeg\n",
      "should be saving here: ./augmentOutput/_5546_8974215.jpeg\n",
      "should be saving here: ./augmentOutput/_936_4574714.jpeg\n",
      "should be saving here: ./augmentOutput/_6822_5361046.jpeg\n",
      "should be saving here: ./augmentOutput/_19397_6908558.jpeg\n",
      "should be saving here: ./augmentOutput/_38788_1526667.jpeg\n",
      "should be saving here: ./augmentOutput/_21769_5380815.jpeg\n",
      "should be saving here: ./augmentOutput/_35257_8198862.jpeg\n",
      "should be saving here: ./augmentOutput/_26709_4853212.jpeg\n",
      "should be saving here: ./augmentOutput/_36711_8870899.jpeg\n",
      "should be saving here: ./augmentOutput/_37706_9922566.jpeg\n",
      "should be saving here: ./augmentOutput/_31506_6665255.jpeg\n",
      "should be saving here: ./augmentOutput/_12323_124181.jpeg\n",
      "should be saving here: ./augmentOutput/_2793_2789978.jpeg\n",
      "should be saving here: ./augmentOutput/_5888_95264.jpeg\n",
      "should be saving here: ./augmentOutput/_3588_1064676.jpeg\n",
      "should be saving here: ./augmentOutput/_29343_2719745.jpeg\n",
      "should be saving here: ./augmentOutput/_23527_3813858.jpeg\n",
      "should be saving here: ./augmentOutput/_16893_9929410.jpeg\n",
      "should be saving here: ./augmentOutput/_16500_9734005.jpeg\n",
      "should be saving here: ./augmentOutput/_7096_5207965.jpeg\n",
      "should be saving here: ./augmentOutput/_29746_3583888.jpeg\n",
      "should be saving here: ./augmentOutput/_7056_304718.jpeg\n",
      "should be saving here: ./augmentOutput/_24267_5874769.jpeg\n"
     ]
    },
    {
     "name": "stderr",
     "output_type": "stream",
     "text": [
      "Clipping input data to the valid range for imshow with RGB data ([0..1] for floats or [0..255] for integers).\n"
     ]
    },
    {
     "name": "stdout",
     "output_type": "stream",
     "text": [
      "should be saving here: ./augmentOutput/_5485_3585879.jpeg\n",
      "should be saving here: ./augmentOutput/_30329_8745317.jpeg\n",
      "should be saving here: ./augmentOutput/_29681_3428826.jpeg\n",
      "should be saving here: ./augmentOutput/_36169_3567650.jpeg\n",
      "should be saving here: ./augmentOutput/_30416_2460574.jpeg\n",
      "should be saving here: ./augmentOutput/_35383_8120426.jpeg\n",
      "should be saving here: ./augmentOutput/_34972_1649697.jpeg\n",
      "should be saving here: ./augmentOutput/_29096_4967442.jpeg\n",
      "should be saving here: ./augmentOutput/_13228_9374530.jpeg\n",
      "should be saving here: ./augmentOutput/_39107_6525831.jpeg\n",
      "should be saving here: ./augmentOutput/_9697_6085901.jpeg\n",
      "should be saving here: ./augmentOutput/_11305_9087875.jpeg\n",
      "should be saving here: ./augmentOutput/_702_8363421.jpeg\n",
      "should be saving here: ./augmentOutput/_962_2920908.jpeg\n",
      "should be saving here: ./augmentOutput/_6683_9528467.jpeg\n",
      "should be saving here: ./augmentOutput/_19947_8924058.jpeg\n",
      "should be saving here: ./augmentOutput/_17700_7096335.jpeg\n",
      "should be saving here: ./augmentOutput/_32902_7444605.jpeg\n",
      "should be saving here: ./augmentOutput/_13949_4803237.jpeg\n",
      "should be saving here: ./augmentOutput/_20226_8128689.jpeg\n",
      "should be saving here: ./augmentOutput/_28310_9648594.jpeg\n",
      "should be saving here: ./augmentOutput/_26251_3416126.jpeg\n",
      "should be saving here: ./augmentOutput/_1688_5988130.jpeg\n",
      "should be saving here: ./augmentOutput/_33788_793294.jpeg\n",
      "should be saving here: ./augmentOutput/_37863_70871.jpeg\n",
      "should be saving here: ./augmentOutput/_2193_4908635.jpeg\n",
      "should be saving here: ./augmentOutput/_22597_2762607.jpeg\n",
      "should be saving here: ./augmentOutput/_3396_7723753.jpeg\n",
      "should be saving here: ./augmentOutput/_25583_4741069.jpeg\n",
      "should be saving here: ./augmentOutput/_28440_7836328.jpeg\n",
      "should be saving here: ./augmentOutput/_18730_6080507.jpeg\n",
      "should be saving here: ./augmentOutput/_1785_7054592.jpeg\n"
     ]
    },
    {
     "name": "stderr",
     "output_type": "stream",
     "text": [
      "Clipping input data to the valid range for imshow with RGB data ([0..1] for floats or [0..255] for integers).\n"
     ]
    },
    {
     "name": "stdout",
     "output_type": "stream",
     "text": [
      "should be saving here: ./augmentOutput/_31700_3278885.jpeg\n",
      "should be saving here: ./augmentOutput/_7936_136946.jpeg\n",
      "should be saving here: ./augmentOutput/_12415_6452990.jpeg\n",
      "should be saving here: ./augmentOutput/_8056_9621914.jpeg\n",
      "should be saving here: ./augmentOutput/_33900_2705523.jpeg\n",
      "should be saving here: ./augmentOutput/_14763_800536.jpeg\n",
      "should be saving here: ./augmentOutput/_3854_1767930.jpeg\n",
      "should be saving here: ./augmentOutput/_35168_4005507.jpeg\n",
      "should be saving here: ./augmentOutput/_36755_9947759.jpeg\n",
      "should be saving here: ./augmentOutput/_34618_5612296.jpeg\n",
      "should be saving here: ./augmentOutput/_6812_9574166.jpeg\n",
      "should be saving here: ./augmentOutput/_2712_5322075.jpeg\n",
      "should be saving here: ./augmentOutput/_11169_7728322.jpeg\n",
      "should be saving here: ./augmentOutput/_24526_1034991.jpeg\n",
      "should be saving here: ./augmentOutput/_34975_77333.jpeg\n",
      "should be saving here: ./augmentOutput/_4785_4919095.jpeg\n",
      "should be saving here: ./augmentOutput/_22231_9944579.jpeg\n",
      "should be saving here: ./augmentOutput/_34155_6764912.jpeg\n",
      "should be saving here: ./augmentOutput/_31308_8591257.jpeg\n",
      "should be saving here: ./augmentOutput/_18443_5324700.jpeg\n",
      "should be saving here: ./augmentOutput/_22930_892880.jpeg\n",
      "should be saving here: ./augmentOutput/_16198_883107.jpeg\n",
      "should be saving here: ./augmentOutput/_35965_4950929.jpeg\n",
      "should be saving here: ./augmentOutput/_4191_2428139.jpeg\n",
      "should be saving here: ./augmentOutput/_4390_56379.jpeg\n",
      "should be saving here: ./augmentOutput/_1380_8614400.jpeg\n",
      "should be saving here: ./augmentOutput/_7740_169016.jpeg\n",
      "should be saving here: ./augmentOutput/_8610_9097217.jpeg\n",
      "should be saving here: ./augmentOutput/_2096_3745134.jpeg\n",
      "should be saving here: ./augmentOutput/_6995_616914.jpeg\n",
      "should be saving here: ./augmentOutput/_37184_5596657.jpeg\n",
      "should be saving here: ./augmentOutput/_37227_2679594.jpeg\n"
     ]
    },
    {
     "name": "stderr",
     "output_type": "stream",
     "text": [
      "Clipping input data to the valid range for imshow with RGB data ([0..1] for floats or [0..255] for integers).\n"
     ]
    },
    {
     "name": "stdout",
     "output_type": "stream",
     "text": [
      "should be saving here: ./augmentOutput/_17511_2370752.jpeg\n",
      "should be saving here: ./augmentOutput/_1836_4236038.jpeg\n",
      "should be saving here: ./augmentOutput/_10445_2409985.jpeg\n",
      "should be saving here: ./augmentOutput/_36124_5331739.jpeg\n",
      "should be saving here: ./augmentOutput/_12766_42323.jpeg\n",
      "should be saving here: ./augmentOutput/_30125_563085.jpeg\n",
      "should be saving here: ./augmentOutput/_16896_1423067.jpeg\n",
      "should be saving here: ./augmentOutput/_18154_1298617.jpeg\n",
      "should be saving here: ./augmentOutput/_23108_9136652.jpeg\n",
      "should be saving here: ./augmentOutput/_4434_2821577.jpeg\n",
      "should be saving here: ./augmentOutput/_34582_2068485.jpeg\n",
      "should be saving here: ./augmentOutput/_36587_3866011.jpeg\n",
      "should be saving here: ./augmentOutput/_25843_6953840.jpeg\n",
      "should be saving here: ./augmentOutput/_24854_6427785.jpeg\n",
      "should be saving here: ./augmentOutput/_34508_6966931.jpeg\n",
      "should be saving here: ./augmentOutput/_37337_8277701.jpeg\n",
      "should be saving here: ./augmentOutput/_16145_5579108.jpeg\n",
      "should be saving here: ./augmentOutput/_33931_6630930.jpeg\n",
      "should be saving here: ./augmentOutput/_3839_7930541.jpeg\n",
      "should be saving here: ./augmentOutput/_16294_6526027.jpeg\n",
      "should be saving here: ./augmentOutput/_3211_2426176.jpeg\n",
      "should be saving here: ./augmentOutput/_5278_8822792.jpeg\n",
      "should be saving here: ./augmentOutput/_16788_4617748.jpeg\n",
      "should be saving here: ./augmentOutput/_11740_255040.jpeg\n",
      "should be saving here: ./augmentOutput/_37627_4230320.jpeg\n",
      "should be saving here: ./augmentOutput/_29055_4992274.jpeg\n",
      "should be saving here: ./augmentOutput/_26323_196328.jpeg\n",
      "should be saving here: ./augmentOutput/_38564_7618957.jpeg\n",
      "should be saving here: ./augmentOutput/_3861_6489010.jpeg\n",
      "should be saving here: ./augmentOutput/_25249_9275339.jpeg\n",
      "should be saving here: ./augmentOutput/_6962_4425324.jpeg\n",
      "should be saving here: ./augmentOutput/_3693_909343.jpeg\n"
     ]
    },
    {
     "name": "stderr",
     "output_type": "stream",
     "text": [
      "Clipping input data to the valid range for imshow with RGB data ([0..1] for floats or [0..255] for integers).\n"
     ]
    },
    {
     "name": "stdout",
     "output_type": "stream",
     "text": [
      "should be saving here: ./augmentOutput/_19122_200646.jpeg\n",
      "should be saving here: ./augmentOutput/_13753_5627949.jpeg\n",
      "should be saving here: ./augmentOutput/_19037_6162024.jpeg\n",
      "should be saving here: ./augmentOutput/_5777_3000338.jpeg\n",
      "should be saving here: ./augmentOutput/_21756_4144048.jpeg\n",
      "should be saving here: ./augmentOutput/_8995_9959672.jpeg\n",
      "should be saving here: ./augmentOutput/_8509_7097977.jpeg\n",
      "should be saving here: ./augmentOutput/_916_3732611.jpeg\n",
      "should be saving here: ./augmentOutput/_27036_2406615.jpeg\n",
      "should be saving here: ./augmentOutput/_10597_3404498.jpeg\n",
      "should be saving here: ./augmentOutput/_32691_440689.jpeg\n",
      "should be saving here: ./augmentOutput/_8494_492650.jpeg\n",
      "should be saving here: ./augmentOutput/_28155_7542374.jpeg\n",
      "should be saving here: ./augmentOutput/_27148_2905133.jpeg\n",
      "should be saving here: ./augmentOutput/_34625_1787855.jpeg\n",
      "should be saving here: ./augmentOutput/_17538_9058033.jpeg\n",
      "should be saving here: ./augmentOutput/_19973_1105857.jpeg\n",
      "should be saving here: ./augmentOutput/_34166_1789714.jpeg\n",
      "should be saving here: ./augmentOutput/_9120_8874427.jpeg\n",
      "should be saving here: ./augmentOutput/_6945_4541790.jpeg\n",
      "should be saving here: ./augmentOutput/_28773_8707410.jpeg\n",
      "should be saving here: ./augmentOutput/_1960_9302772.jpeg\n",
      "should be saving here: ./augmentOutput/_2252_6811196.jpeg\n",
      "should be saving here: ./augmentOutput/_33863_3970371.jpeg\n",
      "should be saving here: ./augmentOutput/_1690_5811964.jpeg\n",
      "should be saving here: ./augmentOutput/_29051_380334.jpeg\n",
      "should be saving here: ./augmentOutput/_30680_4555563.jpeg\n",
      "should be saving here: ./augmentOutput/_11769_656851.jpeg\n",
      "should be saving here: ./augmentOutput/_34302_5859723.jpeg\n",
      "should be saving here: ./augmentOutput/_12636_7819115.jpeg\n",
      "should be saving here: ./augmentOutput/_19449_8473200.jpeg\n",
      "should be saving here: ./augmentOutput/_6538_7691826.jpeg\n"
     ]
    },
    {
     "name": "stderr",
     "output_type": "stream",
     "text": [
      "Clipping input data to the valid range for imshow with RGB data ([0..1] for floats or [0..255] for integers).\n"
     ]
    },
    {
     "name": "stdout",
     "output_type": "stream",
     "text": [
      "should be saving here: ./augmentOutput/_16293_6301310.jpeg\n",
      "should be saving here: ./augmentOutput/_35617_298406.jpeg\n",
      "should be saving here: ./augmentOutput/_36431_8907863.jpeg\n",
      "should be saving here: ./augmentOutput/_25966_3397572.jpeg\n",
      "should be saving here: ./augmentOutput/_18116_9120409.jpeg\n",
      "should be saving here: ./augmentOutput/_13001_288319.jpeg\n",
      "should be saving here: ./augmentOutput/_4186_2132798.jpeg\n",
      "should be saving here: ./augmentOutput/_2980_1163781.jpeg\n",
      "should be saving here: ./augmentOutput/_1521_5446794.jpeg\n",
      "should be saving here: ./augmentOutput/_20631_7966232.jpeg\n",
      "should be saving here: ./augmentOutput/_3024_5727184.jpeg\n",
      "should be saving here: ./augmentOutput/_25553_3465437.jpeg\n",
      "should be saving here: ./augmentOutput/_33857_1804429.jpeg\n",
      "should be saving here: ./augmentOutput/_28489_3624356.jpeg\n",
      "should be saving here: ./augmentOutput/_9394_6751143.jpeg\n",
      "should be saving here: ./augmentOutput/_33500_4942194.jpeg\n",
      "should be saving here: ./augmentOutput/_29799_6474924.jpeg\n",
      "should be saving here: ./augmentOutput/_29919_2619097.jpeg\n",
      "should be saving here: ./augmentOutput/_36428_2361021.jpeg\n",
      "should be saving here: ./augmentOutput/_33746_1821946.jpeg\n",
      "should be saving here: ./augmentOutput/_11168_1619923.jpeg\n",
      "should be saving here: ./augmentOutput/_15978_7121265.jpeg\n",
      "should be saving here: ./augmentOutput/_7650_3210619.jpeg\n",
      "should be saving here: ./augmentOutput/_13461_2189100.jpeg\n",
      "should be saving here: ./augmentOutput/_12644_3233775.jpeg\n",
      "should be saving here: ./augmentOutput/_1314_1003064.jpeg\n",
      "should be saving here: ./augmentOutput/_28524_820441.jpeg\n",
      "should be saving here: ./augmentOutput/_39112_1851929.jpeg\n",
      "should be saving here: ./augmentOutput/_12244_5247429.jpeg\n",
      "should be saving here: ./augmentOutput/_23630_5696563.jpeg\n",
      "should be saving here: ./augmentOutput/_4769_8460985.jpeg\n",
      "should be saving here: ./augmentOutput/_7750_6087672.jpeg\n"
     ]
    },
    {
     "data": {
      "image/png": "[encoded data removed]",
      "text/plain": [
       "<Figure size 432x288 with 1 Axes>"
      ]
     },
     "metadata": {
      "needs_background": "light"
     },
     "output_type": "display_data"
    }
   ],
   "source": [
    "for i,img in enumerate(train_iterator):\n",
    "    img_test = plt.imshow(img[0][0]/255.0)\n",
    "    if i == 32: break"
   ]
  },
  {
   "cell_type": "code",
   "execution_count": 38,
   "metadata": {},
   "outputs": [
    {
     "ename": "TypeError",
     "evalue": "'AxesImage' object does not support indexing",
     "output_type": "error",
     "traceback": [
      "\u001b[0;31m---------------------------------------------------------------------------\u001b[0m",
      "\u001b[0;31mTypeError\u001b[0m                                 Traceback (most recent call last)",
      "\u001b[0;32m<ipython-input-38-4b775dbdb204>\u001b[0m in \u001b[0;36m<module>\u001b[0;34m\u001b[0m\n\u001b[0;32m----> 1\u001b[0;31m \u001b[0mimg\u001b[0m \u001b[0;34m=\u001b[0m \u001b[0mimg_test\u001b[0m\u001b[0;34m[\u001b[0m\u001b[0;36m0\u001b[0m\u001b[0;34m]\u001b[0m\u001b[0;34m[\u001b[0m\u001b[0;36m0\u001b[0m\u001b[0;34m]\u001b[0m\u001b[0;34m\u001b[0m\u001b[0;34m\u001b[0m\u001b[0m\n\u001b[0m\u001b[1;32m      2\u001b[0m \u001b[0mw\u001b[0m\u001b[0;34m,\u001b[0m\u001b[0mh\u001b[0m \u001b[0;34m=\u001b[0m \u001b[0mimg\u001b[0m\u001b[0;34m.\u001b[0m\u001b[0mshape\u001b[0m\u001b[0;34m[\u001b[0m\u001b[0;34m:\u001b[0m\u001b[0;36m2\u001b[0m\u001b[0;34m]\u001b[0m\u001b[0;34m\u001b[0m\u001b[0;34m\u001b[0m\u001b[0m\n\u001b[1;32m      3\u001b[0m \u001b[0mbb\u001b[0m\u001b[0;34m=\u001b[0m\u001b[0mlist\u001b[0m\u001b[0;34m(\u001b[0m\u001b[0mimg_test\u001b[0m\u001b[0;34m[\u001b[0m\u001b[0;36m1\u001b[0m\u001b[0;34m]\u001b[0m\u001b[0;34m[\u001b[0m\u001b[0;36m1\u001b[0m\u001b[0;34m]\u001b[0m\u001b[0;34m[\u001b[0m\u001b[0;36m0\u001b[0m\u001b[0;34m]\u001b[0m\u001b[0;34m)\u001b[0m\u001b[0;34m\u001b[0m\u001b[0;34m\u001b[0m\u001b[0m\n\u001b[1;32m      4\u001b[0m \u001b[0mx1\u001b[0m \u001b[0;34m=\u001b[0m \u001b[0mint\u001b[0m\u001b[0;34m(\u001b[0m\u001b[0mbb\u001b[0m\u001b[0;34m[\u001b[0m\u001b[0;36m0\u001b[0m\u001b[0;34m]\u001b[0m\u001b[0;34m*\u001b[0m\u001b[0mw\u001b[0m\u001b[0;34m)\u001b[0m \u001b[0;34m;\u001b[0m \u001b[0mx2\u001b[0m \u001b[0;34m=\u001b[0m \u001b[0mint\u001b[0m\u001b[0;34m(\u001b[0m\u001b[0mbb\u001b[0m\u001b[0;34m[\u001b[0m\u001b[0;36m2\u001b[0m\u001b[0;34m]\u001b[0m\u001b[0;34m*\u001b[0m \u001b[0mw\u001b[0m\u001b[0;34m)\u001b[0m\u001b[0;34m\u001b[0m\u001b[0;34m\u001b[0m\u001b[0m\n\u001b[1;32m      5\u001b[0m \u001b[0my1\u001b[0m \u001b[0;34m=\u001b[0m \u001b[0mint\u001b[0m\u001b[0;34m(\u001b[0m\u001b[0mbb\u001b[0m\u001b[0;34m[\u001b[0m\u001b[0;36m1\u001b[0m\u001b[0;34m]\u001b[0m\u001b[0;34m*\u001b[0m\u001b[0mh\u001b[0m\u001b[0;34m)\u001b[0m \u001b[0;34m;\u001b[0m \u001b[0my2\u001b[0m \u001b[0;34m=\u001b[0m \u001b[0mint\u001b[0m\u001b[0;34m(\u001b[0m\u001b[0mbb\u001b[0m\u001b[0;34m[\u001b[0m\u001b[0;36m3\u001b[0m\u001b[0;34m]\u001b[0m\u001b[0;34m*\u001b[0m \u001b[0mh\u001b[0m\u001b[0;34m)\u001b[0m\u001b[0;34m\u001b[0m\u001b[0;34m\u001b[0m\u001b[0m\n",
      "\u001b[0;31mTypeError\u001b[0m: 'AxesImage' object does not support indexing"
     ]
    }
   ],
   "source": [
    "img = img_test[0][0]\n",
    "w,h = img.shape[:2]\n",
    "bb=list(img_test[1][1][0])\n",
    "x1 = int(bb[0]*w) ; x2 = int(bb[2]* w)\n",
    "y1 = int(bb[1]*h) ; y2 = int(bb[3]* h)"
   ]
  },
  {
   "cell_type": "code",
   "execution_count": 37,
   "metadata": {},
   "outputs": [
    {
     "ename": "NameError",
     "evalue": "name 'x1' is not defined",
     "output_type": "error",
     "traceback": [
      "\u001b[0;31m---------------------------------------------------------------------------\u001b[0m",
      "\u001b[0;31mNameError\u001b[0m                                 Traceback (most recent call last)",
      "\u001b[0;32m<ipython-input-37-38fc0eb52c9e>\u001b[0m in \u001b[0;36m<module>\u001b[0;34m\u001b[0m\n\u001b[0;32m----> 1\u001b[0;31m \u001b[0mrect\u001b[0m \u001b[0;34m=\u001b[0m \u001b[0mpatches\u001b[0m\u001b[0;34m.\u001b[0m\u001b[0mRectangle\u001b[0m\u001b[0;34m(\u001b[0m\u001b[0;34m(\u001b[0m\u001b[0mx1\u001b[0m\u001b[0;34m,\u001b[0m\u001b[0my1\u001b[0m\u001b[0;34m)\u001b[0m\u001b[0;34m,\u001b[0m\u001b[0mx2\u001b[0m\u001b[0;34m-\u001b[0m\u001b[0mx1\u001b[0m\u001b[0;34m,\u001b[0m\u001b[0my2\u001b[0m\u001b[0;34m-\u001b[0m\u001b[0my1\u001b[0m\u001b[0;34m,\u001b[0m\u001b[0mlinewidth\u001b[0m\u001b[0;34m=\u001b[0m\u001b[0;36m1\u001b[0m\u001b[0;34m,\u001b[0m\u001b[0medgecolor\u001b[0m\u001b[0;34m=\u001b[0m\u001b[0;34m'r'\u001b[0m\u001b[0;34m,\u001b[0m\u001b[0mfacecolor\u001b[0m\u001b[0;34m=\u001b[0m\u001b[0;34m'none'\u001b[0m\u001b[0;34m)\u001b[0m\u001b[0;34m\u001b[0m\u001b[0;34m\u001b[0m\u001b[0m\n\u001b[0m\u001b[1;32m      2\u001b[0m \u001b[0mfig\u001b[0m\u001b[0;34m,\u001b[0m\u001b[0max\u001b[0m \u001b[0;34m=\u001b[0m \u001b[0mplt\u001b[0m\u001b[0;34m.\u001b[0m\u001b[0msubplots\u001b[0m\u001b[0;34m(\u001b[0m\u001b[0;36m1\u001b[0m\u001b[0;34m)\u001b[0m\u001b[0;34m\u001b[0m\u001b[0;34m\u001b[0m\u001b[0m\n\u001b[1;32m      3\u001b[0m \u001b[0max\u001b[0m\u001b[0;34m.\u001b[0m\u001b[0mimshow\u001b[0m\u001b[0;34m(\u001b[0m\u001b[0mimg\u001b[0m\u001b[0;34m/\u001b[0m\u001b[0;36m255\u001b[0m\u001b[0;34m)\u001b[0m\u001b[0;34m\u001b[0m\u001b[0;34m\u001b[0m\u001b[0m\n\u001b[1;32m      4\u001b[0m \u001b[0max\u001b[0m\u001b[0;34m.\u001b[0m\u001b[0madd_patch\u001b[0m\u001b[0;34m(\u001b[0m\u001b[0mrect\u001b[0m\u001b[0;34m)\u001b[0m\u001b[0;34m\u001b[0m\u001b[0;34m\u001b[0m\u001b[0m\n",
      "\u001b[0;31mNameError\u001b[0m: name 'x1' is not defined"
     ]
    }
   ],
   "source": [
    "rect = patches.Rectangle((x1,y1),x2-x1,y2-y1,linewidth=1,edgecolor='r',facecolor='none')\n",
    "fig,ax = plt.subplots(1)\n",
    "ax.imshow(img/255)\n",
    "ax.add_patch(rect)"
   ]
  },
  {
   "cell_type": "code",
   "execution_count": 82,
   "metadata": {},
   "outputs": [
    {
     "name": "stdout",
     "output_type": "stream",
     "text": [
      "rotation= 10.0\n",
      "shear= 0\n",
      "horizontal flip= True\n",
      "translate_x= 0.2\n",
      "translate_y= 0.2\n",
      "zoom range= [1, 1]\n"
     ]
    }
   ],
   "source": [
    "tg = train_iterator.image_data_generator\n",
    "print(\"rotation=\",tg.rotation_range)\n",
    "print(\"shear=\",tg.shear_range)\n",
    "print(\"horizontal flip=\",tg.horizontal_flip)\n",
    "print(\"translate_x=\",tg.width_shift_range)\n",
    "print(\"translate_y=\",tg.height_shift_range)\n",
    "print(\"zoom range=\",tg.zoom_range)"
   ]
  },
  {
   "cell_type": "code",
   "execution_count": null,
   "metadata": {},
   "outputs": [],
   "source": [
    "from pathlib import Path"
   ]
  },
  {
   "cell_type": "code",
   "execution_count": null,
   "metadata": {},
   "outputs": [],
   "source": [
    "os.getcwd()"
   ]
  },
  {
   "cell_type": "code",
   "execution_count": 41,
   "metadata": {},
   "outputs": [
    {
     "data": {
      "text/plain": [
       "(289219,)"
      ]
     },
     "execution_count": 41,
     "metadata": {},
     "output_type": "execute_result"
    }
   ],
   "source": [
    "train_iterator.classes.shape"
   ]
  },
  {
   "cell_type": "code",
   "execution_count": 87,
   "metadata": {},
   "outputs": [
    {
     "data": {
      "text/plain": [
       "1250"
      ]
     },
     "execution_count": 87,
     "metadata": {},
     "output_type": "execute_result"
    }
   ],
   "source": [
    "len(train_iterator)"
   ]
  },
  {
   "cell_type": "code",
   "execution_count": 100,
   "metadata": {},
   "outputs": [
    {
     "data": {
      "text/plain": [
       "'/Users/rexbarker/BFH/CAS_PML/Project/DeepFashion/detect'"
      ]
     },
     "execution_count": 100,
     "metadata": {},
     "output_type": "execute_result"
    }
   ],
   "source": [
    "%pwd"
   ]
  },
  {
   "cell_type": "code",
   "execution_count": 35,
   "metadata": {},
   "outputs": [
    {
     "data": {
      "text/plain": [
       "(32, 200, 200, 3)"
      ]
     },
     "execution_count": 35,
     "metadata": {},
     "output_type": "execute_result"
    }
   ],
   "source": [
    "img[0].shape"
   ]
  },
  {
   "cell_type": "code",
   "execution_count": null,
   "metadata": {},
   "outputs": [],
   "source": []
  },
  {
   "cell_type": "code",
   "execution_count": null,
   "metadata": {},
   "outputs": [],
   "source": []
  },
  {
   "cell_type": "code",
   "execution_count": null,
   "metadata": {},
   "outputs": [],
   "source": []
  },
  {
   "cell_type": "code",
   "execution_count": null,
   "metadata": {},
   "outputs": [],
   "source": []
  },
  {
   "cell_type": "code",
   "execution_count": null,
   "metadata": {},
   "outputs": [],
   "source": []
  },
  {
   "cell_type": "code",
   "execution_count": null,
   "metadata": {},
   "outputs": [],
   "source": []
  },
  {
   "cell_type": "code",
   "execution_count": null,
   "metadata": {},
   "outputs": [],
   "source": []
  }
 ],
 "metadata": {
  "kernelspec": {
   "display_name": "DeepF-kernel",
   "language": "python",
   "name": "myenv"
  },
  "language_info": {
   "codemirror_mode": {
    "name": "ipython",
    "version": 3
   },
   "file_extension": ".py",
   "mimetype": "text/x-python",
   "name": "python",
   "nbconvert_exporter": "python",
   "pygments_lexer": "ipython3",
   "version": "3.6.7"
  }
 },
 "nbformat": 4,
 "nbformat_minor": 2
}
