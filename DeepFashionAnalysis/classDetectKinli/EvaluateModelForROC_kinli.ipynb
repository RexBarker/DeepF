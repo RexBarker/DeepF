{
 "cells": [
  {
   "cell_type": "markdown",
   "metadata": {},
   "source": [
    "# Evaluate model against test set\n",
    "# Produce ROC curve"
   ]
  },
  {
   "cell_type": "code",
   "execution_count": 127,
   "metadata": {},
   "outputs": [],
   "source": [
    "import os\n",
    "import matplotlib.pyplot as plt\n",
    "from keras.preprocessing.image import ImageDataGenerator\n",
    "from keras.models import load_model\n",
    "import numpy as np\n",
    "from glob import glob"
   ]
  },
  {
   "cell_type": "code",
   "execution_count": 7,
   "metadata": {},
   "outputs": [],
   "source": [
    "currentModel = '/Volumes/SanDiskSSD/BFH_backup/CAS_PML/Project/DeepFashion/classDetect/trials/2019-03-20/model_upper_u16_lr0001_SGDss.h5'\n",
    "assert os.path.exists(currentModel), \"Could not find model file!\""
   ]
  },
  {
   "cell_type": "code",
   "execution_count": 124,
   "metadata": {},
   "outputs": [],
   "source": [
    "modeBaseDir = '/Volumes/SanDiskSSD/BFH_backup/CAS_PML/Project/DeepFashion/classDetect/trials/'"
   ]
  },
  {
   "cell_type": "code",
   "execution_count": 128,
   "metadata": {},
   "outputs": [],
   "source": [
    "models = glob(modeBaseDir + 'model*.h5',recursive=True)"
   ]
  },
  {
   "cell_type": "code",
   "execution_count": null,
   "metadata": {},
   "outputs": [],
   "source": [
    "DAN, YOU LEFT OFF HERE.  Glob all of the models, and run these in batch\n",
    "Load the model, and then run against the test directory.  Then pickle the results"
   ]
  },
  {
   "cell_type": "code",
   "execution_count": 8,
   "metadata": {},
   "outputs": [],
   "source": [
    "model = load_model(currentModel)"
   ]
  },
  {
   "cell_type": "code",
   "execution_count": 11,
   "metadata": {},
   "outputs": [],
   "source": [
    "#testDir = '../fdata_CropSQRS/test/upper/'\n",
    "testDir = '../fdata_CropSQToy/test/upper/'"
   ]
  },
  {
   "cell_type": "code",
   "execution_count": 75,
   "metadata": {},
   "outputs": [
    {
     "name": "stdout",
     "output_type": "stream",
     "text": [
      "Found 4867 images belonging to 9 classes.\n"
     ]
    }
   ],
   "source": [
    "test_datagen =  ImageDataGenerator(rescale=1./255.)\n",
    "test_iterator = test_datagen.flow_from_directory(directory=testDir,\n",
    "                                                shuffle=False,\n",
    "                                                batch_size=32,\n",
    "                                                seed= 1234,\n",
    "                                                class_mode='categorical',\n",
    "                                                target_size=(200, 200))"
   ]
  },
  {
   "cell_type": "code",
   "execution_count": 111,
   "metadata": {},
   "outputs": [],
   "source": [
    "y_test_col = None\n",
    "y_pred_col = None\n",
    "for _ in range(5):\n",
    "    x_test,y_test = next(test_iterator)\n",
    "    y_pred = model.predict_on_batch(x_test)\n",
    "    \n",
    "    if y_test_col is None:\n",
    "        y_test_col = y_test\n",
    "        y_pred_col = y_pred\n",
    "    else:\n",
    "        y_test_col = np.append(y_test_col,y_test,axis=0)\n",
    "        y_pred_col = np.append(y_pred_col,y_pred,axis=0)\n"
   ]
  },
  {
   "cell_type": "code",
   "execution_count": 112,
   "metadata": {},
   "outputs": [
    {
     "data": {
      "text/plain": [
       "(160, 9)"
      ]
     },
     "execution_count": 112,
     "metadata": {},
     "output_type": "execute_result"
    }
   ],
   "source": [
    "y_test_col.shape"
   ]
  },
  {
   "cell_type": "code",
   "execution_count": 113,
   "metadata": {},
   "outputs": [
    {
     "data": {
      "text/plain": [
       "(160, 9)"
      ]
     },
     "execution_count": 113,
     "metadata": {},
     "output_type": "execute_result"
    }
   ],
   "source": [
    "y_pred_col.shape"
   ]
  },
  {
   "cell_type": "code",
   "execution_count": 116,
   "metadata": {},
   "outputs": [
    {
     "data": {
      "text/plain": [
       "152.09375"
      ]
     },
     "execution_count": 116,
     "metadata": {},
     "output_type": "execute_result"
    }
   ],
   "source": [
    "test_iterator.samples / 32"
   ]
  },
  {
   "cell_type": "code",
   "execution_count": 117,
   "metadata": {},
   "outputs": [],
   "source": [
    "import pickle"
   ]
  },
  {
   "cell_type": "code",
   "execution_count": 118,
   "metadata": {},
   "outputs": [],
   "source": [
    "with open('testpicklefoo.pickle', 'wb') as config_f:\n",
    "    pickle.dump((y_test_col,y_pred_col),config_f)"
   ]
  },
  {
   "cell_type": "code",
   "execution_count": 132,
   "metadata": {},
   "outputs": [],
   "source": [
    "with open('testpicklefoo.pickle','rb') as fp:\n",
    "    y_test_foo,y_pred_foo= pickle.load(fp)"
   ]
  },
  {
   "cell_type": "code",
   "execution_count": 134,
   "metadata": {},
   "outputs": [
    {
     "data": {
      "text/plain": [
       "(160, 9)"
      ]
     },
     "execution_count": 134,
     "metadata": {},
     "output_type": "execute_result"
    }
   ],
   "source": [
    "y_test_foo.shape"
   ]
  },
  {
   "cell_type": "code",
   "execution_count": null,
   "metadata": {},
   "outputs": [],
   "source": []
  }
 ],
 "metadata": {
  "kernelspec": {
   "display_name": "DeepF-kernel",
   "language": "python",
   "name": "myenv"
  },
  "language_info": {
   "codemirror_mode": {
    "name": "ipython",
    "version": 3
   },
   "file_extension": ".py",
   "mimetype": "text/x-python",
   "name": "python",
   "nbconvert_exporter": "python",
   "pygments_lexer": "ipython3",
   "version": "3.6.7"
  }
 },
 "nbformat": 4,
 "nbformat_minor": 2
}
