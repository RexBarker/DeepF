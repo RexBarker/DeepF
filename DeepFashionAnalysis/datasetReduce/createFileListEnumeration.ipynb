{
 "cells": [
  {
   "cell_type": "markdown",
   "metadata": {},
   "source": [
    "# Produce text file listing of all files"
   ]
  },
  {
   "cell_type": "markdown",
   "metadata": {},
   "source": [
    "## Dataset Reduction ##\n",
    "**input**=full directory\n",
    "**output**= reduced directory by factor"
   ]
  },
  {
   "cell_type": "code",
   "execution_count": 10,
   "metadata": {},
   "outputs": [],
   "source": [
    "import os\n",
    "baseDir = \"/Volumes/SanDiskSSD/BFH_backup/CAS_PML/Project/DeepFashion/data/test/\"\n",
    "baseDir = \"/Volumes/SanDiskSSD/BFH_backup/CAS_PML/Project/DeepFashion/data/val/\"\n",
    "baseDir = '../fashion_data/val/' \n",
    "listFile = '../fashion_data/val_filelist.txt'"
   ]
  },
  {
   "cell_type": "code",
   "execution_count": 11,
   "metadata": {},
   "outputs": [],
   "source": [
    "i=0\n",
    "with open(listFile,'w') as f:\n",
    "    for root, dirs, files in os.walk(baseDir, topdown = False):\n",
    "        middir = root.replace(baseDir,'')\n",
    "        for name in files:\n",
    "            if not name.endswith('.jpg'): continue\n",
    "            i += 1\n",
    "            #f.write(middir + '/' + name + ',' + str(i) + '\\n')\n",
    "            f.write(middir + '/' + name + '\\n')\n",
    "        #if i > 200: break"
   ]
  },
  {
   "cell_type": "code",
   "execution_count": 35,
   "metadata": {},
   "outputs": [],
   "source": [
    "foo = os.walk(baseDir,topdown=False)"
   ]
  },
  {
   "cell_type": "code",
   "execution_count": 36,
   "metadata": {},
   "outputs": [],
   "source": [
    "root,dirs,files = next(foo)"
   ]
  },
  {
   "cell_type": "code",
   "execution_count": 38,
   "metadata": {},
   "outputs": [
    {
     "data": {
      "text/plain": [
       "'test/Top/Barbie_Tank_Top'"
      ]
     },
     "execution_count": 38,
     "metadata": {},
     "output_type": "execute_result"
    }
   ],
   "source": [
    "root.replace(baseDir,'')"
   ]
  },
  {
   "cell_type": "code",
   "execution_count": 17,
   "metadata": {},
   "outputs": [],
   "source": [
    "from PIL import Image\n",
    "import numpy as np"
   ]
  },
  {
   "cell_type": "code",
   "execution_count": 14,
   "metadata": {},
   "outputs": [],
   "source": [
    "im = Image.open('../fashion_data/test/Anorak/Hooded_Cotton_Canvas_Anorak/img_00000005.jpg')"
   ]
  },
  {
   "cell_type": "code",
   "execution_count": 18,
   "metadata": {},
   "outputs": [],
   "source": [
    "imarray = np.array(im)"
   ]
  },
  {
   "cell_type": "code",
   "execution_count": 19,
   "metadata": {},
   "outputs": [
    {
     "data": {
      "text/plain": [
       "array([[[255, 255, 255],\n",
       "        [255, 255, 255],\n",
       "        [254, 254, 254],\n",
       "        ...,\n",
       "        [254, 254, 254],\n",
       "        [255, 255, 255],\n",
       "        [255, 255, 255]],\n",
       "\n",
       "       [[255, 255, 255],\n",
       "        [255, 255, 255],\n",
       "        [254, 254, 254],\n",
       "        ...,\n",
       "        [254, 254, 254],\n",
       "        [255, 255, 255],\n",
       "        [255, 255, 255]],\n",
       "\n",
       "       [[255, 255, 255],\n",
       "        [255, 255, 255],\n",
       "        [254, 254, 254],\n",
       "        ...,\n",
       "        [254, 254, 254],\n",
       "        [255, 255, 255],\n",
       "        [255, 255, 255]],\n",
       "\n",
       "       ...,\n",
       "\n",
       "       [[255, 255, 255],\n",
       "        [252, 252, 252],\n",
       "        [249, 249, 249],\n",
       "        ...,\n",
       "        [214, 214, 214],\n",
       "        [254, 254, 254],\n",
       "        [255, 255, 255]],\n",
       "\n",
       "       [[255, 255, 255],\n",
       "        [252, 252, 252],\n",
       "        [248, 248, 248],\n",
       "        ...,\n",
       "        [212, 212, 212],\n",
       "        [254, 254, 254],\n",
       "        [255, 255, 255]],\n",
       "\n",
       "       [[255, 255, 255],\n",
       "        [252, 252, 252],\n",
       "        [248, 248, 248],\n",
       "        ...,\n",
       "        [212, 212, 212],\n",
       "        [254, 254, 254],\n",
       "        [255, 255, 255]]], dtype=uint8)"
      ]
     },
     "execution_count": 19,
     "metadata": {},
     "output_type": "execute_result"
    }
   ],
   "source": [
    "imarray"
   ]
  },
  {
   "cell_type": "code",
   "execution_count": null,
   "metadata": {},
   "outputs": [],
   "source": []
  },
  {
   "cell_type": "code",
   "execution_count": null,
   "metadata": {},
   "outputs": [],
   "source": []
  },
  {
   "cell_type": "code",
   "execution_count": null,
   "metadata": {},
   "outputs": [],
   "source": []
  }
 ],
 "metadata": {
  "kernelspec": {
   "display_name": "DeepF-kernel",
   "language": "python",
   "name": "myenv"
  },
  "language_info": {
   "codemirror_mode": {
    "name": "ipython",
    "version": 3
   },
   "file_extension": ".py",
   "mimetype": "text/x-python",
   "name": "python",
   "nbconvert_exporter": "python",
   "pygments_lexer": "ipython3",
   "version": "3.6.7"
  }
 },
 "nbformat": 4,
 "nbformat_minor": 2
}
