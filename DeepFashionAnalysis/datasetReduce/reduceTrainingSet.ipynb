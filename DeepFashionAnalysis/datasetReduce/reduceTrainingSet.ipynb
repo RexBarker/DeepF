{
 "cells": [
  {
   "cell_type": "markdown",
   "metadata": {},
   "source": [
    "## Dataset Reduction ##\n",
    "**input**=full directory\n",
    "**output**= reduced directory by factor"
   ]
  },
  {
   "cell_type": "code",
   "execution_count": 6,
   "metadata": {},
   "outputs": [],
   "source": [
    "import os\n",
    "import numpy as np\n",
    "from sklearn.utils import resample\n",
    "from shutil import copy"
   ]
  },
  {
   "cell_type": "code",
   "execution_count": 8,
   "metadata": {},
   "outputs": [],
   "source": [
    "baseDir = \"/Volumes/SanDiskSSD/BFH_backup/CAS_PML/Project/DeepFashion/data/test/\"\n",
    "baseDir = \"/Volumes/SanDiskSSD/BFH_backup/CAS_PML/Project/DeepFashion/data/val/\"\n",
    "reducedDir = \"/Volumes/SanDiskSSD/BFH_backup/CAS_PML/Project/DeepFashion/dataToy/val/\"\n",
    "annotationsFull = \"/Volumes/SanDiskSSD/BFH_backup/CAS_PML/Project/DeepFashion/fashion_data/Anno/\""
   ]
  },
  {
   "cell_type": "code",
   "execution_count": 9,
   "metadata": {},
   "outputs": [],
   "source": [
    "allfiles = []\n",
    "for root, dirs, files in os.walk(baseDir, topdown = False):\n",
    "    for name in files:\n",
    "        f = os.path.join(root,name)\n",
    "        allfiles.append(f)"
   ]
  },
  {
   "cell_type": "code",
   "execution_count": 10,
   "metadata": {},
   "outputs": [],
   "source": [
    "samplefiles = resample(allfiles,n_samples = 10,replace=False,random_state=1234)"
   ]
  },
  {
   "cell_type": "code",
   "execution_count": 5,
   "metadata": {},
   "outputs": [],
   "source": [
    "# first create set of directories in sample\n",
    "makedirs = { '/'.join(f[len(baseDir):].split('/')[:-1]) for f in samplefiles}\n"
   ]
  },
  {
   "cell_type": "code",
   "execution_count": 6,
   "metadata": {},
   "outputs": [
    {
     "data": {
      "text/plain": [
       "{'Blazer/Open-Front_Woven_Blazer',\n",
       " 'Blazer/Watercolor_Floral_Print_Blazer',\n",
       " 'Dress/Mixed_Floral_Ruffle-Sleeve_Maxi_Dress',\n",
       " 'Jumpsuit/Crossback_Surplice_Jumpsuit',\n",
       " 'Jumpsuit/Embroidered_Tribal_Print_Jumpsuit',\n",
       " 'Shorts/LEEF_PARIS_Lightning_Graphic_Drawstring_Shorts',\n",
       " 'Sweater/Chevron_Knit_Crewneck_Sweater',\n",
       " 'Sweater/Drop-Sleeve_V-Neck_Sweater',\n",
       " 'Tee/Abstract_Print_Tee',\n",
       " 'Tee/Striped_Boxy_Knit_Tee'}"
      ]
     },
     "execution_count": 6,
     "metadata": {},
     "output_type": "execute_result"
    }
   ],
   "source": [
    "makedirs"
   ]
  },
  {
   "cell_type": "code",
   "execution_count": 14,
   "metadata": {},
   "outputs": [
    {
     "name": "stdout",
     "output_type": "stream",
     "text": [
      "/Volumes/SanDiskSSD/BFH_backup/CAS_PML/Project/DeepFashion/dataToy/val/Tee/\n",
      "/Volumes/SanDiskSSD/BFH_backup/CAS_PML/Project/DeepFashion/dataToy/val/Tee/Abstract_Print_Tee/\n",
      "/Volumes/SanDiskSSD/BFH_backup/CAS_PML/Project/DeepFashion/dataToy/val/Blazer/\n",
      "/Volumes/SanDiskSSD/BFH_backup/CAS_PML/Project/DeepFashion/dataToy/val/Blazer/Open-Front_Woven_Blazer/\n",
      "/Volumes/SanDiskSSD/BFH_backup/CAS_PML/Project/DeepFashion/dataToy/val/Sweater/\n",
      "/Volumes/SanDiskSSD/BFH_backup/CAS_PML/Project/DeepFashion/dataToy/val/Sweater/Drop-Sleeve_V-Neck_Sweater/\n",
      "/Volumes/SanDiskSSD/BFH_backup/CAS_PML/Project/DeepFashion/dataToy/val/Jumpsuit/\n",
      "/Volumes/SanDiskSSD/BFH_backup/CAS_PML/Project/DeepFashion/dataToy/val/Jumpsuit/Crossback_Surplice_Jumpsuit/\n",
      "/Volumes/SanDiskSSD/BFH_backup/CAS_PML/Project/DeepFashion/dataToy/val/Jumpsuit/\n",
      "/Volumes/SanDiskSSD/BFH_backup/CAS_PML/Project/DeepFashion/dataToy/val/Jumpsuit/Embroidered_Tribal_Print_Jumpsuit/\n",
      "/Volumes/SanDiskSSD/BFH_backup/CAS_PML/Project/DeepFashion/dataToy/val/Blazer/\n",
      "/Volumes/SanDiskSSD/BFH_backup/CAS_PML/Project/DeepFashion/dataToy/val/Blazer/Watercolor_Floral_Print_Blazer/\n",
      "/Volumes/SanDiskSSD/BFH_backup/CAS_PML/Project/DeepFashion/dataToy/val/Sweater/\n",
      "/Volumes/SanDiskSSD/BFH_backup/CAS_PML/Project/DeepFashion/dataToy/val/Sweater/Chevron_Knit_Crewneck_Sweater/\n",
      "/Volumes/SanDiskSSD/BFH_backup/CAS_PML/Project/DeepFashion/dataToy/val/Shorts/\n",
      "/Volumes/SanDiskSSD/BFH_backup/CAS_PML/Project/DeepFashion/dataToy/val/Shorts/LEEF_PARIS_Lightning_Graphic_Drawstring_Shorts/\n",
      "/Volumes/SanDiskSSD/BFH_backup/CAS_PML/Project/DeepFashion/dataToy/val/Dress/\n",
      "/Volumes/SanDiskSSD/BFH_backup/CAS_PML/Project/DeepFashion/dataToy/val/Dress/Mixed_Floral_Ruffle-Sleeve_Maxi_Dress/\n",
      "/Volumes/SanDiskSSD/BFH_backup/CAS_PML/Project/DeepFashion/dataToy/val/Tee/\n",
      "/Volumes/SanDiskSSD/BFH_backup/CAS_PML/Project/DeepFashion/dataToy/val/Tee/Striped_Boxy_Knit_Tee/\n"
     ]
    }
   ],
   "source": [
    "# create directories if they don't exists\n",
    "for dirs in makedirs:\n",
    "    di = reducedDir\n",
    "    for d in dirs.split('/'):\n",
    "        di += d + '/'\n",
    "        print(di)\n",
    "        if not os.path.exists(di): os.mkdir(di)"
   ]
  },
  {
   "cell_type": "code",
   "execution_count": 16,
   "metadata": {},
   "outputs": [
    {
     "name": "stdout",
     "output_type": "stream",
     "text": [
      "Skipped Blazer/Open-Front_Woven_Blazer/img_00000002.jpg\n",
      "Skipped Blazer/Watercolor_Floral_Print_Blazer/img_00000081.jpg\n",
      "Skipped Shorts/LEEF_PARIS_Lightning_Graphic_Drawstring_Shorts/img_00000007.jpg\n",
      "Skipped Jumpsuit/Crossback_Surplice_Jumpsuit/img_00000015.jpg\n",
      "Skipped Sweater/Drop-Sleeve_V-Neck_Sweater/img_00000027.jpg\n",
      "Skipped Sweater/Chevron_Knit_Crewneck_Sweater/img_00000053.jpg\n",
      "Skipped Jumpsuit/Embroidered_Tribal_Print_Jumpsuit/img_00000036.jpg\n",
      "Skipped Dress/Mixed_Floral_Ruffle-Sleeve_Maxi_Dress/img_00000026.jpg\n",
      "Skipped Tee/Striped_Boxy_Knit_Tee/img_00000012.jpg\n",
      "Skipped Tee/Abstract_Print_Tee/img_00000021.jpg\n"
     ]
    }
   ],
   "source": [
    "# copy files\n",
    "for basef in samplefiles:\n",
    "    upperPath= basef[len(baseDir):]\n",
    "    targetf = reducedDir + upperPath\n",
    "    if not os.path.exists(targetf): \n",
    "        copy(basef,targetf)\n",
    "        print(f\"Copied {upperPath}\")\n",
    "    else:\n",
    "        print(f\"Skipped {upperPath}\")\n",
    "    "
   ]
  },
  {
   "cell_type": "markdown",
   "metadata": {},
   "source": [
    "---\n",
    "## Copy only the annotation information for the copied files\n",
    "---"
   ]
  },
  {
   "cell_type": "code",
   "execution_count": 36,
   "metadata": {},
   "outputs": [],
   "source": [
    "samplefiles_dict = { '/'.join(f.split('/')[-2:]): True for f in samplefiles }"
   ]
  },
  {
   "cell_type": "code",
   "execution_count": 25,
   "metadata": {},
   "outputs": [],
   "source": [
    "BBfile_orig = '../data/Anno/list_bbox.txt'\n",
    "BBfile_reduced = '../data/Anno/list_bbox_reduced.txt'"
   ]
  },
  {
   "cell_type": "code",
   "execution_count": 32,
   "metadata": {},
   "outputs": [],
   "source": [
    "with open(BBfile_orig,'r') as fi:\n",
    "    bblines = fi.readlines()\n",
    "        "
   ]
  },
  {
   "cell_type": "code",
   "execution_count": 51,
   "metadata": {},
   "outputs": [],
   "source": [
    "with open(BBfile_reduced,'w') as fo:\n",
    "    fo.write(len(samplefiles_dict))\n",
    "    fo.write(bblines[1])\n",
    "    for line in bblines[2:]:\n",
    "        path,*bb = line.strip().split()\n",
    "        pathk = '/'.join(path.split('/')[-2:])\n",
    "        if samplefiles_dict.get(pathk): fo.write(line)\n",
    "        \n",
    "     "
   ]
  },
  {
   "cell_type": "code",
   "execution_count": 52,
   "metadata": {},
   "outputs": [
    {
     "data": {
      "text/plain": [
       "10"
      ]
     },
     "execution_count": 52,
     "metadata": {},
     "output_type": "execute_result"
    }
   ],
   "source": [
    "len(samplefiles_dict)"
   ]
  }
 ],
 "metadata": {
  "kernelspec": {
   "display_name": "DeepF-kernel",
   "language": "python",
   "name": "myenv"
  },
  "language_info": {
   "codemirror_mode": {
    "name": "ipython",
    "version": 3
   },
   "file_extension": ".py",
   "mimetype": "text/x-python",
   "name": "python",
   "nbconvert_exporter": "python",
   "pygments_lexer": "ipython3",
   "version": "3.6.7"
  }
 },
 "nbformat": 4,
 "nbformat_minor": 2
}
