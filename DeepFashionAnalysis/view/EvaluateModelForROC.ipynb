{
 "cells": [
  {
   "cell_type": "markdown",
   "metadata": {},
   "source": [
    "# Evaluate model against test set\n",
    "# Produce ROC curve"
   ]
  },
  {
   "cell_type": "code",
   "execution_count": 127,
   "metadata": {},
   "outputs": [],
   "source": [
    "import os\n",
    "import matplotlib.pyplot as plt\n",
    "from keras.preprocessing.image import ImageDataGenerator\n",
    "from keras.models import load_model\n",
    "import numpy as np\n",
    "from glob import glob"
   ]
  },
  {
   "cell_type": "code",
   "execution_count": 7,
   "metadata": {},
   "outputs": [],
   "source": [
    "currentModel = '/Volumes/SanDiskSSD/BFH_backup/CAS_PML/Project/DeepFashion/classDetect/trials/2019-03-20/model_upper_u16_lr0001_SGDss.h5'\n",
    "assert os.path.exists(currentModel), \"Could not find model file!\""
   ]
  },
  {
   "cell_type": "code",
   "execution_count": 124,
   "metadata": {},
   "outputs": [],
   "source": [
    "modeBaseDir = '/Volumes/SanDiskSSD/BFH_backup/CAS_PML/Project/DeepFashion/classDetect/trials/'"
   ]
  },
  {
   "cell_type": "code",
   "execution_count": 128,
   "metadata": {},
   "outputs": [],
   "source": [
    "models = glob(modeBaseDir + 'model*.h5',recursive=True)"
   ]
  },
  {
   "cell_type": "code",
   "execution_count": null,
   "metadata": {},
   "outputs": [],
   "source": [
    "DAN, YOU LEFT OFF HERE.  Glob all of the models, and run these in batch\n",
    "Load the model, and then run against the test directory.  Then pickle the results"
   ]
  },
  {
   "cell_type": "code",
   "execution_count": 8,
   "metadata": {},
   "outputs": [],
   "source": [
    "model = load_model(currentModel)"
   ]
  },
  {
   "cell_type": "code",
   "execution_count": 11,
   "metadata": {},
   "outputs": [],
   "source": [
    "#testDir = '../fdata_CropSQRS/test/upper/'\n",
    "testDir = '../fdata_CropSQToy/test/upper/'"
   ]
  },
  {
   "cell_type": "code",
   "execution_count": 75,
   "metadata": {},
   "outputs": [
    {
     "name": "stdout",
     "output_type": "stream",
     "text": [
      "Found 4867 images belonging to 9 classes.\n"
     ]
    }
   ],
   "source": [
    "test_datagen =  ImageDataGenerator(rescale=1./255.)\n",
    "test_iterator = test_datagen.flow_from_directory(directory=testDir,\n",
    "                                                shuffle=False,\n",
    "                                                batch_size=32,\n",
    "                                                seed= 1234,\n",
    "                                                class_mode='categorical',\n",
    "                                                target_size=(200, 200))"
   ]
  },
  {
   "cell_type": "code",
   "execution_count": 111,
   "metadata": {},
   "outputs": [],
   "source": [
    "y_test_col = None\n",
    "y_pred_col = None\n",
    "for _ in range(5):\n",
    "    x_test,y_test = next(test_iterator)\n",
    "    y_pred = model.predict_on_batch(x_test)\n",
    "    \n",
    "    if y_test_col is None:\n",
    "        y_test_col = y_test\n",
    "        y_pred_col = y_pred\n",
    "    else:\n",
    "        y_test_col = np.append(y_test_col,y_test,axis=0)\n",
    "        y_pred_col = np.append(y_pred_col,y_pred,axis=0)\n"
   ]
  },
  {
   "cell_type": "code",
   "execution_count": 112,
   "metadata": {},
   "outputs": [
    {
     "data": {
      "text/plain": [
       "(160, 9)"
      ]
     },
     "execution_count": 112,
     "metadata": {},
     "output_type": "execute_result"
    }
   ],
   "source": [
    "y_test_col.shape"
   ]
  },
  {
   "cell_type": "code",
   "execution_count": 113,
   "metadata": {},
   "outputs": [
    {
     "data": {
      "text/plain": [
       "(160, 9)"
      ]
     },
     "execution_count": 113,
     "metadata": {},
     "output_type": "execute_result"
    }
   ],
   "source": [
    "y_pred_col.shape"
   ]
  },
  {
   "cell_type": "code",
   "execution_count": 116,
   "metadata": {},
   "outputs": [
    {
     "data": {
      "text/plain": [
       "152.09375"
      ]
     },
     "execution_count": 116,
     "metadata": {},
     "output_type": "execute_result"
    }
   ],
   "source": [
    "test_iterator.samples / 32"
   ]
  },
  {
   "cell_type": "code",
   "execution_count": 117,
   "metadata": {},
   "outputs": [],
   "source": [
    "import pickle"
   ]
  },
  {
   "cell_type": "code",
   "execution_count": 118,
   "metadata": {},
   "outputs": [],
   "source": [
    "with open('testpicklefoo.pickle', 'wb') as config_f:\n",
    "    pickle.dump((y_test_col,y_pred_col),config_f)"
   ]
  },
  {
   "cell_type": "code",
   "execution_count": 132,
   "metadata": {},
   "outputs": [],
   "source": [
    "with open('testpicklefoo.pickle','rb') as fp:\n",
    "    y_test_foo,y_pred_foo= pickle.load(fp)"
   ]
  },
  {
   "cell_type": "code",
   "execution_count": 134,
   "metadata": {},
   "outputs": [
    {
     "data": {
      "text/plain": [
       "(160, 9)"
      ]
     },
     "execution_count": 134,
     "metadata": {},
     "output_type": "execute_result"
    }
   ],
   "source": [
    "y_test_foo.shape"
   ]
  },
  {
   "cell_type": "code",
   "execution_count": null,
   "metadata": {},
   "outputs": [],
   "source": []
  },
  {
   "cell_type": "code",
   "execution_count": null,
   "metadata": {},
   "outputs": [],
   "source": []
  },
  {
   "cell_type": "code",
   "execution_count": 131,
   "metadata": {},
   "outputs": [
    {
     "data": {
      "text/plain": [
       "(array([[0., 0., 0., ..., 0., 0., 1.],\n",
       "        [0., 0., 0., ..., 0., 0., 1.],\n",
       "        [0., 0., 0., ..., 0., 0., 1.],\n",
       "        ...,\n",
       "        [0., 0., 0., ..., 0., 0., 1.],\n",
       "        [0., 0., 0., ..., 0., 0., 1.],\n",
       "        [0., 0., 0., ..., 0., 0., 1.]], dtype=float32),\n",
       " array([[0.06242895, 0.05468904, 0.02161703, ..., 0.21620283, 0.25631586,\n",
       "         0.16523984],\n",
       "        [0.07666101, 0.04379347, 0.02213618, ..., 0.1694073 , 0.26428005,\n",
       "         0.17779696],\n",
       "        [0.04244081, 0.04324878, 0.03106361, ..., 0.19828744, 0.20658948,\n",
       "         0.1907687 ],\n",
       "        ...,\n",
       "        [0.06359272, 0.04744533, 0.02033859, ..., 0.21401429, 0.2657828 ,\n",
       "         0.1682845 ],\n",
       "        [0.07005636, 0.05238479, 0.02321121, ..., 0.18734372, 0.2726406 ,\n",
       "         0.16105959],\n",
       "        [0.0763082 , 0.05115453, 0.02246234, ..., 0.1722475 , 0.25360093,\n",
       "         0.18020552]], dtype=float32))"
      ]
     },
     "execution_count": 131,
     "metadata": {},
     "output_type": "execute_result"
    }
   ],
   "source": [
    "foo"
   ]
  },
  {
   "cell_type": "code",
   "execution_count": null,
   "metadata": {},
   "outputs": [],
   "source": []
  },
  {
   "cell_type": "code",
   "execution_count": null,
   "metadata": {},
   "outputs": [],
   "source": []
  },
  {
   "cell_type": "code",
   "execution_count": null,
   "metadata": {},
   "outputs": [],
   "source": []
  },
  {
   "cell_type": "code",
   "execution_count": null,
   "metadata": {},
   "outputs": [],
   "source": []
  },
  {
   "cell_type": "code",
   "execution_count": null,
   "metadata": {},
   "outputs": [],
   "source": []
  },
  {
   "cell_type": "code",
   "execution_count": null,
   "metadata": {},
   "outputs": [],
   "source": []
  },
  {
   "cell_type": "code",
   "execution_count": null,
   "metadata": {},
   "outputs": [],
   "source": []
  },
  {
   "cell_type": "code",
   "execution_count": null,
   "metadata": {},
   "outputs": [],
   "source": []
  },
  {
   "cell_type": "code",
   "execution_count": null,
   "metadata": {},
   "outputs": [],
   "source": []
  },
  {
   "cell_type": "code",
   "execution_count": null,
   "metadata": {},
   "outputs": [],
   "source": []
  },
  {
   "cell_type": "code",
   "execution_count": null,
   "metadata": {},
   "outputs": [],
   "source": []
  },
  {
   "cell_type": "code",
   "execution_count": null,
   "metadata": {},
   "outputs": [],
   "source": []
  },
  {
   "cell_type": "code",
   "execution_count": 89,
   "metadata": {},
   "outputs": [
    {
     "data": {
      "text/plain": [
       "(32, 9)"
      ]
     },
     "execution_count": 89,
     "metadata": {},
     "output_type": "execute_result"
    }
   ],
   "source": []
  },
  {
   "cell_type": "code",
   "execution_count": null,
   "metadata": {},
   "outputs": [],
   "source": []
  },
  {
   "cell_type": "code",
   "execution_count": null,
   "metadata": {},
   "outputs": [],
   "source": []
  },
  {
   "cell_type": "code",
   "execution_count": null,
   "metadata": {},
   "outputs": [],
   "source": []
  },
  {
   "cell_type": "code",
   "execution_count": null,
   "metadata": {},
   "outputs": [],
   "source": []
  },
  {
   "cell_type": "code",
   "execution_count": 82,
   "metadata": {},
   "outputs": [
    {
     "data": {
      "text/plain": [
       "array([0, 0, 0, ..., 8, 8, 8], dtype=int32)"
      ]
     },
     "execution_count": 82,
     "metadata": {},
     "output_type": "execute_result"
    }
   ],
   "source": [
    "y_test = np.zeros_like(y_pred)\n",
    "test_iterator.classes"
   ]
  },
  {
   "cell_type": "code",
   "execution_count": null,
   "metadata": {},
   "outputs": [],
   "source": []
  },
  {
   "cell_type": "code",
   "execution_count": 81,
   "metadata": {},
   "outputs": [
    {
     "data": {
      "text/plain": [
       "array([[0., 0., 0., ..., 0., 0., 0.],\n",
       "       [0., 0., 0., ..., 0., 0., 0.],\n",
       "       [0., 0., 0., ..., 0., 0., 0.],\n",
       "       ...,\n",
       "       [0., 0., 0., ..., 0., 0., 0.],\n",
       "       [0., 0., 0., ..., 0., 0., 0.],\n",
       "       [0., 0., 0., ..., 0., 0., 0.]], dtype=float32)"
      ]
     },
     "execution_count": 81,
     "metadata": {},
     "output_type": "execute_result"
    }
   ],
   "source": [
    "for f in test_iterator.filenames[:y_pred.shape[0]]:\n",
    "    "
   ]
  },
  {
   "cell_type": "code",
   "execution_count": null,
   "metadata": {},
   "outputs": [],
   "source": []
  },
  {
   "cell_type": "code",
   "execution_count": 78,
   "metadata": {},
   "outputs": [
    {
     "data": {
      "text/plain": [
       "(320, 9)"
      ]
     },
     "execution_count": 78,
     "metadata": {},
     "output_type": "execute_result"
    }
   ],
   "source": []
  },
  {
   "cell_type": "code",
   "execution_count": null,
   "metadata": {},
   "outputs": [],
   "source": []
  },
  {
   "cell_type": "code",
   "execution_count": null,
   "metadata": {},
   "outputs": [],
   "source": []
  },
  {
   "cell_type": "code",
   "execution_count": 72,
   "metadata": {},
   "outputs": [],
   "source": []
  },
  {
   "cell_type": "code",
   "execution_count": null,
   "metadata": {},
   "outputs": [],
   "source": []
  },
  {
   "cell_type": "code",
   "execution_count": null,
   "metadata": {},
   "outputs": [],
   "source": []
  },
  {
   "cell_type": "code",
   "execution_count": null,
   "metadata": {},
   "outputs": [],
   "source": []
  },
  {
   "cell_type": "code",
   "execution_count": null,
   "metadata": {},
   "outputs": [],
   "source": []
  },
  {
   "cell_type": "code",
   "execution_count": 64,
   "metadata": {},
   "outputs": [
    {
     "data": {
      "text/plain": [
       "(array([[[[1.        , 1.        , 1.        ],\n",
       "          [1.        , 1.        , 1.        ],\n",
       "          [1.        , 1.        , 1.        ],\n",
       "          ...,\n",
       "          [0.9921569 , 1.        , 0.9960785 ],\n",
       "          [0.9960785 , 1.        , 1.        ],\n",
       "          [1.        , 1.        , 1.        ]],\n",
       " \n",
       "         [[1.        , 1.        , 1.        ],\n",
       "          [1.        , 1.        , 1.        ],\n",
       "          [1.        , 1.        , 1.        ],\n",
       "          ...,\n",
       "          [0.9921569 , 1.        , 0.9960785 ],\n",
       "          [0.9960785 , 1.        , 1.        ],\n",
       "          [1.        , 1.        , 1.        ]],\n",
       " \n",
       "         [[1.        , 1.        , 1.        ],\n",
       "          [1.        , 1.        , 1.        ],\n",
       "          [1.        , 1.        , 1.        ],\n",
       "          ...,\n",
       "          [0.9921569 , 1.        , 0.9960785 ],\n",
       "          [1.        , 1.        , 1.        ],\n",
       "          [1.        , 1.        , 1.        ]],\n",
       " \n",
       "         ...,\n",
       " \n",
       "         [[0.69803923, 0.58431375, 0.5294118 ],\n",
       "          [0.6509804 , 0.5372549 , 0.47450984],\n",
       "          [0.62352943, 0.49803925, 0.43921572],\n",
       "          ...,\n",
       "          [0.81568635, 0.654902  , 0.5686275 ],\n",
       "          [0.80392164, 0.6431373 , 0.5647059 ],\n",
       "          [0.79215693, 0.6313726 , 0.5529412 ]],\n",
       " \n",
       "         [[0.74509805, 0.6431373 , 0.58431375],\n",
       "          [0.6745098 , 0.57254905, 0.5137255 ],\n",
       "          [0.6156863 , 0.5058824 , 0.45098042],\n",
       "          ...,\n",
       "          [0.8078432 , 0.64705884, 0.5686275 ],\n",
       "          [0.79215693, 0.6313726 , 0.5529412 ],\n",
       "          [0.7725491 , 0.6117647 , 0.5411765 ]],\n",
       " \n",
       "         [[0.7490196 , 0.6627451 , 0.60784316],\n",
       "          [0.69803923, 0.60784316, 0.5529412 ],\n",
       "          [0.6313726 , 0.5294118 , 0.47058827],\n",
       "          ...,\n",
       "          [0.8078432 , 0.64705884, 0.5686275 ],\n",
       "          [0.78823537, 0.627451  , 0.54901963],\n",
       "          [0.7686275 , 0.60784316, 0.5372549 ]]],\n",
       " \n",
       " \n",
       "        [[[0.97647065, 0.97647065, 0.97647065],\n",
       "          [0.97647065, 0.97647065, 0.97647065],\n",
       "          [0.9725491 , 0.9725491 , 0.9725491 ],\n",
       "          ...,\n",
       "          [0.96470594, 0.96470594, 0.9568628 ],\n",
       "          [0.96470594, 0.96470594, 0.9568628 ],\n",
       "          [0.9686275 , 0.9686275 , 0.9607844 ]],\n",
       " \n",
       "         [[0.97647065, 0.97647065, 0.97647065],\n",
       "          [0.9725491 , 0.9725491 , 0.9725491 ],\n",
       "          [0.9725491 , 0.9725491 , 0.9725491 ],\n",
       "          ...,\n",
       "          [0.96470594, 0.96470594, 0.9568628 ],\n",
       "          [0.96470594, 0.96470594, 0.9568628 ],\n",
       "          [0.96470594, 0.96470594, 0.9568628 ]],\n",
       " \n",
       "         [[0.97647065, 0.97647065, 0.97647065],\n",
       "          [0.9725491 , 0.9725491 , 0.9725491 ],\n",
       "          [0.9725491 , 0.9725491 , 0.9725491 ],\n",
       "          ...,\n",
       "          [0.96470594, 0.96470594, 0.9568628 ],\n",
       "          [0.96470594, 0.96470594, 0.9568628 ],\n",
       "          [0.96470594, 0.96470594, 0.9568628 ]],\n",
       " \n",
       "         ...,\n",
       " \n",
       "         [[0.9607844 , 0.9607844 , 0.9607844 ],\n",
       "          [0.9607844 , 0.9607844 , 0.9607844 ],\n",
       "          [0.9568628 , 0.9568628 , 0.9568628 ],\n",
       "          ...,\n",
       "          [0.76470596, 0.7294118 , 0.67058825],\n",
       "          [0.7725491 , 0.7372549 , 0.6784314 ],\n",
       "          [0.7803922 , 0.74509805, 0.6862745 ]],\n",
       " \n",
       "         [[0.9607844 , 0.9607844 , 0.9607844 ],\n",
       "          [0.9607844 , 0.9607844 , 0.9607844 ],\n",
       "          [0.9568628 , 0.9568628 , 0.9568628 ],\n",
       "          ...,\n",
       "          [0.76470596, 0.7294118 , 0.67058825],\n",
       "          [0.77647066, 0.7411765 , 0.68235296],\n",
       "          [0.7843138 , 0.7490196 , 0.6901961 ]],\n",
       " \n",
       "         [[0.9568628 , 0.96470594, 0.9607844 ],\n",
       "          [0.9568628 , 0.9568628 , 0.9568628 ],\n",
       "          [0.9568628 , 0.9568628 , 0.9568628 ],\n",
       "          ...,\n",
       "          [0.7607844 , 0.7254902 , 0.6666667 ],\n",
       "          [0.77647066, 0.7411765 , 0.68235296],\n",
       "          [0.7843138 , 0.7490196 , 0.6901961 ]]],\n",
       " \n",
       " \n",
       "        [[[0.94117653, 0.93725497, 0.9607844 ],\n",
       "          [0.94117653, 0.93725497, 0.9607844 ],\n",
       "          [0.9450981 , 0.94117653, 0.96470594],\n",
       "          ...,\n",
       "          [0.9607844 , 0.9568628 , 0.9803922 ],\n",
       "          [0.9607844 , 0.9568628 , 0.9803922 ],\n",
       "          [0.9607844 , 0.9568628 , 0.9803922 ]],\n",
       " \n",
       "         [[0.94117653, 0.93725497, 0.9607844 ],\n",
       "          [0.94117653, 0.93725497, 0.9607844 ],\n",
       "          [0.9450981 , 0.94117653, 0.96470594],\n",
       "          ...,\n",
       "          [0.9607844 , 0.9568628 , 0.9803922 ],\n",
       "          [0.9607844 , 0.9568628 , 0.9803922 ],\n",
       "          [0.9607844 , 0.9568628 , 0.9803922 ]],\n",
       " \n",
       "         [[0.94117653, 0.93725497, 0.9607844 ],\n",
       "          [0.94117653, 0.93725497, 0.9607844 ],\n",
       "          [0.9450981 , 0.94117653, 0.96470594],\n",
       "          ...,\n",
       "          [0.9607844 , 0.9568628 , 0.9803922 ],\n",
       "          [0.9607844 , 0.9568628 , 0.9803922 ],\n",
       "          [0.9607844 , 0.9568628 , 0.9803922 ]],\n",
       " \n",
       "         ...,\n",
       " \n",
       "         [[0.8980393 , 0.8941177 , 0.9176471 ],\n",
       "          [0.8980393 , 0.8941177 , 0.9176471 ],\n",
       "          [0.8980393 , 0.8941177 , 0.9176471 ],\n",
       "          ...,\n",
       "          [0.95294124, 0.9490197 , 0.9725491 ],\n",
       "          [0.95294124, 0.9490197 , 0.9725491 ],\n",
       "          [0.95294124, 0.9490197 , 0.9725491 ]],\n",
       " \n",
       "         [[0.8980393 , 0.8941177 , 0.9176471 ],\n",
       "          [0.8980393 , 0.8941177 , 0.9176471 ],\n",
       "          [0.8980393 , 0.8941177 , 0.9176471 ],\n",
       "          ...,\n",
       "          [0.95294124, 0.9490197 , 0.9725491 ],\n",
       "          [0.95294124, 0.9490197 , 0.9725491 ],\n",
       "          [0.95294124, 0.9490197 , 0.9725491 ]],\n",
       " \n",
       "         [[0.8980393 , 0.8941177 , 0.9176471 ],\n",
       "          [0.8980393 , 0.8941177 , 0.9176471 ],\n",
       "          [0.8980393 , 0.8941177 , 0.9176471 ],\n",
       "          ...,\n",
       "          [0.95294124, 0.9490197 , 0.9725491 ],\n",
       "          [0.95294124, 0.9490197 , 0.9725491 ],\n",
       "          [0.95294124, 0.9490197 , 0.9725491 ]]],\n",
       " \n",
       " \n",
       "        ...,\n",
       " \n",
       " \n",
       "        [[[0.78823537, 0.7254902 , 0.6666667 ],\n",
       "          [0.78823537, 0.7254902 , 0.6666667 ],\n",
       "          [0.7803922 , 0.7176471 , 0.65882355],\n",
       "          ...,\n",
       "          [0.8196079 , 0.6862745 , 0.5411765 ],\n",
       "          [0.8117648 , 0.6862745 , 0.5372549 ],\n",
       "          [0.8117648 , 0.68235296, 0.54509807]],\n",
       " \n",
       "         [[0.78823537, 0.7254902 , 0.6666667 ],\n",
       "          [0.78823537, 0.7254902 , 0.6666667 ],\n",
       "          [0.7803922 , 0.7176471 , 0.65882355],\n",
       "          ...,\n",
       "          [0.81568635, 0.68235296, 0.5372549 ],\n",
       "          [0.81568635, 0.6901961 , 0.5411765 ],\n",
       "          [0.80392164, 0.6745098 , 0.5372549 ]],\n",
       " \n",
       "         [[0.78823537, 0.7254902 , 0.6666667 ],\n",
       "          [0.78823537, 0.7254902 , 0.6666667 ],\n",
       "          [0.7843138 , 0.72156864, 0.6627451 ],\n",
       "          ...,\n",
       "          [0.8117648 , 0.68235296, 0.54509807],\n",
       "          [0.8196079 , 0.6901961 , 0.5529412 ],\n",
       "          [0.8000001 , 0.68235296, 0.5411765 ]],\n",
       " \n",
       "         ...,\n",
       " \n",
       "         [[0.8196079 , 0.75294125, 0.7254902 ],\n",
       "          [0.81568635, 0.7490196 , 0.72156864],\n",
       "          [0.80392164, 0.7372549 , 0.70980394],\n",
       "          ...,\n",
       "          [0.03529412, 0.03529412, 0.03529412],\n",
       "          [0.03529412, 0.03529412, 0.03529412],\n",
       "          [0.03529412, 0.03529412, 0.03529412]],\n",
       " \n",
       "         [[0.8235295 , 0.7568628 , 0.7294118 ],\n",
       "          [0.81568635, 0.7490196 , 0.72156864],\n",
       "          [0.8078432 , 0.7411765 , 0.7137255 ],\n",
       "          ...,\n",
       "          [0.03529412, 0.03529412, 0.03529412],\n",
       "          [0.03529412, 0.03529412, 0.03529412],\n",
       "          [0.03529412, 0.03529412, 0.03529412]],\n",
       " \n",
       "         [[0.8196079 , 0.75294125, 0.7254902 ],\n",
       "          [0.8117648 , 0.74509805, 0.7176471 ],\n",
       "          [0.80392164, 0.7372549 , 0.70980394],\n",
       "          ...,\n",
       "          [0.03529412, 0.03529412, 0.03529412],\n",
       "          [0.03529412, 0.03529412, 0.03529412],\n",
       "          [0.03529412, 0.03529412, 0.03529412]]],\n",
       " \n",
       " \n",
       "        [[[0.30588236, 0.30980393, 0.2392157 ],\n",
       "          [0.30980393, 0.3137255 , 0.24313727],\n",
       "          [0.3137255 , 0.31764707, 0.24705884],\n",
       "          ...,\n",
       "          [0.58431375, 0.5686275 , 0.46274513],\n",
       "          [0.5803922 , 0.5647059 , 0.45882356],\n",
       "          [0.5254902 , 0.50980395, 0.41176474]],\n",
       " \n",
       "         [[0.30980393, 0.3137255 , 0.24313727],\n",
       "          [0.3137255 , 0.31764707, 0.24705884],\n",
       "          [0.31764707, 0.32156864, 0.2509804 ],\n",
       "          ...,\n",
       "          [0.58431375, 0.5686275 , 0.46274513],\n",
       "          [0.5764706 , 0.56078434, 0.454902  ],\n",
       "          [0.5254902 , 0.50980395, 0.41176474]],\n",
       " \n",
       "         [[0.30980393, 0.3137255 , 0.24313727],\n",
       "          [0.3137255 , 0.31764707, 0.24705884],\n",
       "          [0.31764707, 0.32156864, 0.2509804 ],\n",
       "          ...,\n",
       "          [0.5803922 , 0.5647059 , 0.45882356],\n",
       "          [0.5764706 , 0.56078434, 0.454902  ],\n",
       "          [0.52156866, 0.5058824 , 0.40784317]],\n",
       " \n",
       "         ...,\n",
       " \n",
       "         [[0.3254902 , 0.33333334, 0.2509804 ],\n",
       "          [0.32941177, 0.3372549 , 0.25490198],\n",
       "          [0.32941177, 0.3372549 , 0.25490198],\n",
       "          ...,\n",
       "          [0.4039216 , 0.41176474, 0.3254902 ],\n",
       "          [0.4039216 , 0.41176474, 0.3254902 ],\n",
       "          [0.41176474, 0.41960788, 0.3372549 ]],\n",
       " \n",
       "         [[0.32156864, 0.32941177, 0.24705884],\n",
       "          [0.3254902 , 0.33333334, 0.2509804 ],\n",
       "          [0.32941177, 0.3372549 , 0.25490198],\n",
       "          ...,\n",
       "          [0.4039216 , 0.41176474, 0.3254902 ],\n",
       "          [0.4039216 , 0.41176474, 0.3254902 ],\n",
       "          [0.41176474, 0.41960788, 0.3372549 ]],\n",
       " \n",
       "         [[0.32156864, 0.32941177, 0.24705884],\n",
       "          [0.32156864, 0.32941177, 0.24705884],\n",
       "          [0.3254902 , 0.33333334, 0.2509804 ],\n",
       "          ...,\n",
       "          [0.4039216 , 0.41176474, 0.3254902 ],\n",
       "          [0.40784317, 0.4156863 , 0.32941177],\n",
       "          [0.41176474, 0.41960788, 0.3372549 ]]],\n",
       " \n",
       " \n",
       "        [[[0.9921569 , 0.9921569 , 0.9921569 ],\n",
       "          [0.9921569 , 0.9921569 , 0.9921569 ],\n",
       "          [0.9921569 , 0.9921569 , 0.9921569 ],\n",
       "          ...,\n",
       "          [0.9843138 , 0.97647065, 0.9803922 ],\n",
       "          [0.9803922 , 0.9803922 , 0.98823535],\n",
       "          [0.9803922 , 0.9803922 , 0.98823535]],\n",
       " \n",
       "         [[0.9921569 , 0.9921569 , 0.9921569 ],\n",
       "          [0.9921569 , 0.9921569 , 0.9921569 ],\n",
       "          [0.9921569 , 0.9921569 , 0.9921569 ],\n",
       "          ...,\n",
       "          [0.9843138 , 0.97647065, 0.9803922 ],\n",
       "          [0.9803922 , 0.9803922 , 0.98823535],\n",
       "          [0.9803922 , 0.9803922 , 0.98823535]],\n",
       " \n",
       "         [[0.9921569 , 0.9921569 , 0.9921569 ],\n",
       "          [0.9921569 , 0.9921569 , 0.9921569 ],\n",
       "          [0.9921569 , 0.9921569 , 0.9921569 ],\n",
       "          ...,\n",
       "          [0.9843138 , 0.97647065, 0.9803922 ],\n",
       "          [0.9803922 , 0.9803922 , 0.98823535],\n",
       "          [0.9803922 , 0.9803922 , 0.98823535]],\n",
       " \n",
       "         ...,\n",
       " \n",
       "         [[0.98823535, 0.9921569 , 0.9725491 ],\n",
       "          [0.9843138 , 0.9960785 , 0.9686275 ],\n",
       "          [0.98823535, 0.98823535, 0.9490197 ],\n",
       "          ...,\n",
       "          [0.8196079 , 0.69803923, 0.61960787],\n",
       "          [0.8980393 , 0.8352942 , 0.77647066],\n",
       "          [0.92549026, 0.8980393 , 0.86666673]],\n",
       " \n",
       "         [[0.98823535, 0.9921569 , 0.9725491 ],\n",
       "          [0.9843138 , 0.9960785 , 0.9686275 ],\n",
       "          [0.9960785 , 0.9843138 , 0.9490197 ],\n",
       "          ...,\n",
       "          [0.8235295 , 0.7137255 , 0.6313726 ],\n",
       "          [0.91372555, 0.85098046, 0.79215693],\n",
       "          [0.94117653, 0.91372555, 0.882353  ]],\n",
       " \n",
       "         [[0.98823535, 0.9921569 , 0.9725491 ],\n",
       "          [0.9843138 , 0.9960785 , 0.9686275 ],\n",
       "          [0.9960785 , 0.9843138 , 0.9490197 ],\n",
       "          ...,\n",
       "          [0.82745105, 0.7176471 , 0.63529414],\n",
       "          [0.92549026, 0.86274517, 0.80392164],\n",
       "          [0.94117653, 0.92549026, 0.89019614]]]], dtype=float32),\n",
       " array([[0., 0., 0., 0., 0., 0., 0., 0., 1.],\n",
       "        [0., 1., 0., 0., 0., 0., 0., 0., 0.],\n",
       "        [1., 0., 0., 0., 0., 0., 0., 0., 0.],\n",
       "        [0., 0., 0., 0., 0., 0., 0., 0., 1.],\n",
       "        [0., 0., 0., 0., 0., 0., 1., 0., 0.],\n",
       "        [0., 0., 0., 0., 0., 0., 0., 0., 1.],\n",
       "        [0., 0., 0., 0., 0., 0., 0., 0., 1.],\n",
       "        [0., 0., 0., 0., 0., 0., 0., 0., 1.],\n",
       "        [0., 0., 0., 0., 0., 0., 0., 0., 1.],\n",
       "        [0., 0., 1., 0., 0., 0., 0., 0., 0.],\n",
       "        [0., 0., 1., 0., 0., 0., 0., 0., 0.],\n",
       "        [0., 0., 0., 0., 0., 0., 0., 0., 1.],\n",
       "        [0., 0., 0., 0., 0., 0., 0., 0., 1.],\n",
       "        [0., 0., 0., 0., 0., 0., 0., 0., 1.],\n",
       "        [0., 0., 0., 0., 0., 0., 0., 0., 1.],\n",
       "        [0., 0., 0., 0., 0., 0., 0., 0., 1.],\n",
       "        [0., 0., 0., 0., 0., 0., 0., 0., 1.],\n",
       "        [0., 0., 0., 0., 0., 0., 0., 0., 1.],\n",
       "        [0., 0., 0., 0., 0., 0., 0., 0., 1.],\n",
       "        [0., 0., 0., 0., 0., 0., 0., 0., 1.],\n",
       "        [0., 0., 0., 0., 0., 0., 0., 0., 1.],\n",
       "        [0., 0., 0., 0., 0., 0., 0., 0., 1.],\n",
       "        [0., 0., 0., 0., 0., 0., 0., 0., 1.],\n",
       "        [0., 0., 0., 0., 0., 0., 0., 0., 1.],\n",
       "        [0., 0., 0., 0., 0., 0., 0., 0., 1.],\n",
       "        [0., 0., 0., 0., 0., 0., 0., 0., 1.],\n",
       "        [0., 0., 0., 0., 0., 0., 0., 0., 1.],\n",
       "        [0., 0., 0., 0., 0., 0., 0., 0., 1.],\n",
       "        [0., 0., 0., 0., 0., 0., 0., 0., 1.],\n",
       "        [0., 0., 0., 0., 0., 0., 0., 0., 1.],\n",
       "        [1., 0., 0., 0., 0., 0., 0., 0., 0.],\n",
       "        [0., 0., 0., 0., 0., 0., 0., 0., 1.]], dtype=float32))"
      ]
     },
     "execution_count": 64,
     "metadata": {},
     "output_type": "execute_result"
    }
   ],
   "source": [
    "batch2"
   ]
  },
  {
   "cell_type": "code",
   "execution_count": 84,
   "metadata": {},
   "outputs": [
    {
     "data": {
      "text/plain": [
       "array([[0., 0., 0., 0., 0., 1., 0., 0., 0.],\n",
       "       [0., 0., 0., 0., 0., 0., 0., 0., 1.],\n",
       "       [0., 0., 0., 0., 0., 0., 0., 0., 1.],\n",
       "       [0., 0., 0., 0., 0., 0., 0., 0., 1.],\n",
       "       [0., 0., 0., 0., 0., 0., 0., 0., 1.],\n",
       "       [0., 0., 0., 0., 0., 0., 0., 0., 1.],\n",
       "       [0., 0., 0., 0., 1., 0., 0., 0., 0.],\n",
       "       [0., 0., 0., 0., 0., 0., 0., 0., 1.],\n",
       "       [0., 0., 0., 0., 0., 0., 0., 0., 1.],\n",
       "       [0., 0., 0., 0., 0., 0., 0., 0., 1.],\n",
       "       [0., 0., 0., 0., 0., 0., 0., 0., 1.],\n",
       "       [1., 0., 0., 0., 0., 0., 0., 0., 0.],\n",
       "       [0., 0., 0., 0., 0., 0., 0., 0., 1.],\n",
       "       [0., 0., 0., 1., 0., 0., 0., 0., 0.],\n",
       "       [0., 0., 0., 0., 0., 0., 0., 0., 1.],\n",
       "       [0., 0., 0., 0., 0., 0., 0., 0., 1.],\n",
       "       [0., 0., 0., 0., 0., 0., 0., 0., 1.],\n",
       "       [0., 0., 0., 0., 0., 0., 0., 0., 1.],\n",
       "       [0., 0., 0., 0., 0., 0., 1., 0., 0.],\n",
       "       [0., 0., 0., 0., 0., 0., 0., 0., 1.],\n",
       "       [0., 0., 0., 1., 0., 0., 0., 0., 0.],\n",
       "       [0., 0., 0., 0., 0., 0., 0., 0., 1.],\n",
       "       [0., 0., 0., 0., 0., 0., 0., 0., 1.],\n",
       "       [0., 0., 0., 0., 0., 0., 0., 0., 1.],\n",
       "       [0., 0., 0., 0., 0., 0., 0., 0., 1.],\n",
       "       [0., 0., 0., 0., 0., 1., 0., 0., 0.],\n",
       "       [0., 0., 0., 0., 0., 0., 0., 0., 1.],\n",
       "       [0., 0., 0., 0., 0., 0., 0., 0., 1.],\n",
       "       [0., 0., 0., 0., 0., 0., 0., 0., 1.],\n",
       "       [0., 0., 0., 0., 0., 0., 0., 0., 1.],\n",
       "       [0., 1., 0., 0., 0., 0., 0., 0., 0.],\n",
       "       [0., 0., 0., 0., 0., 0., 0., 0., 1.]], dtype=float32)"
      ]
     },
     "execution_count": 84,
     "metadata": {},
     "output_type": "execute_result"
    }
   ],
   "source": [
    "foo[1]"
   ]
  },
  {
   "cell_type": "code",
   "execution_count": null,
   "metadata": {},
   "outputs": [],
   "source": []
  },
  {
   "cell_type": "code",
   "execution_count": null,
   "metadata": {},
   "outputs": [],
   "source": []
  },
  {
   "cell_type": "code",
   "execution_count": null,
   "metadata": {},
   "outputs": [],
   "source": []
  },
  {
   "cell_type": "code",
   "execution_count": null,
   "metadata": {},
   "outputs": [],
   "source": []
  },
  {
   "cell_type": "code",
   "execution_count": null,
   "metadata": {},
   "outputs": [],
   "source": []
  },
  {
   "cell_type": "code",
   "execution_count": null,
   "metadata": {},
   "outputs": [],
   "source": []
  },
  {
   "cell_type": "code",
   "execution_count": null,
   "metadata": {},
   "outputs": [],
   "source": []
  },
  {
   "cell_type": "code",
   "execution_count": null,
   "metadata": {},
   "outputs": [],
   "source": []
  },
  {
   "cell_type": "code",
   "execution_count": null,
   "metadata": {},
   "outputs": [],
   "source": []
  },
  {
   "cell_type": "code",
   "execution_count": null,
   "metadata": {},
   "outputs": [],
   "source": []
  },
  {
   "cell_type": "code",
   "execution_count": null,
   "metadata": {},
   "outputs": [],
   "source": []
  },
  {
   "cell_type": "code",
   "execution_count": null,
   "metadata": {},
   "outputs": [],
   "source": []
  },
  {
   "cell_type": "code",
   "execution_count": null,
   "metadata": {},
   "outputs": [],
   "source": []
  },
  {
   "cell_type": "code",
   "execution_count": 32,
   "metadata": {},
   "outputs": [
    {
     "data": {
      "text/plain": [
       "(64, 9)"
      ]
     },
     "execution_count": 32,
     "metadata": {},
     "output_type": "execute_result"
    }
   ],
   "source": [
    "res.shape"
   ]
  },
  {
   "cell_type": "code",
   "execution_count": null,
   "metadata": {},
   "outputs": [],
   "source": []
  },
  {
   "cell_type": "code",
   "execution_count": null,
   "metadata": {},
   "outputs": [],
   "source": []
  },
  {
   "cell_type": "code",
   "execution_count": null,
   "metadata": {},
   "outputs": [],
   "source": []
  },
  {
   "cell_type": "code",
   "execution_count": 27,
   "metadata": {},
   "outputs": [
    {
     "data": {
      "text/plain": [
       "[2.426974557340145, 0.0068359375, 0.90234375]"
      ]
     },
     "execution_count": 27,
     "metadata": {},
     "output_type": "execute_result"
    }
   ],
   "source": [
    "res"
   ]
  },
  {
   "cell_type": "code",
   "execution_count": null,
   "metadata": {},
   "outputs": [],
   "source": []
  },
  {
   "cell_type": "code",
   "execution_count": null,
   "metadata": {},
   "outputs": [],
   "source": []
  },
  {
   "cell_type": "code",
   "execution_count": null,
   "metadata": {},
   "outputs": [],
   "source": []
  },
  {
   "cell_type": "code",
   "execution_count": null,
   "metadata": {},
   "outputs": [],
   "source": []
  },
  {
   "cell_type": "code",
   "execution_count": null,
   "metadata": {},
   "outputs": [],
   "source": []
  },
  {
   "cell_type": "code",
   "execution_count": null,
   "metadata": {},
   "outputs": [],
   "source": []
  },
  {
   "cell_type": "code",
   "execution_count": null,
   "metadata": {},
   "outputs": [],
   "source": []
  },
  {
   "cell_type": "code",
   "execution_count": null,
   "metadata": {},
   "outputs": [],
   "source": []
  },
  {
   "cell_type": "code",
   "execution_count": null,
   "metadata": {},
   "outputs": [],
   "source": []
  },
  {
   "cell_type": "code",
   "execution_count": null,
   "metadata": {},
   "outputs": [],
   "source": []
  }
 ],
 "metadata": {
  "kernelspec": {
   "display_name": "DeepF-kernel",
   "language": "python",
   "name": "myenv"
  },
  "language_info": {
   "codemirror_mode": {
    "name": "ipython",
    "version": 3
   },
   "file_extension": ".py",
   "mimetype": "text/x-python",
   "name": "python",
   "nbconvert_exporter": "python",
   "pygments_lexer": "ipython3",
   "version": "3.6.7"
  }
 },
 "nbformat": 4,
 "nbformat_minor": 2
}
